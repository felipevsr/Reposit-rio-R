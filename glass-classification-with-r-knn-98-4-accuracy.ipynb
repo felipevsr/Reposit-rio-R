{
 "cells": [
  {
   "cell_type": "markdown",
   "metadata": {
    "papermill": {
     "duration": 0.0174,
     "end_time": "2021-01-13T19:05:24.985165",
     "exception": false,
     "start_time": "2021-01-13T19:05:24.967765",
     "status": "completed"
    },
    "tags": []
   },
   "source": [
    "# Glass_Classification(with R)- KNN 98.4%"
   ]
  },
  {
   "cell_type": "markdown",
   "metadata": {
    "papermill": {
     "duration": 0.015968,
     "end_time": "2021-01-13T19:05:25.018003",
     "exception": false,
     "start_time": "2021-01-13T19:05:25.002035",
     "status": "completed"
    },
    "tags": []
   },
   "source": [
    "### Importing database."
   ]
  },
  {
   "cell_type": "code",
   "execution_count": 1,
   "metadata": {
    "execution": {
     "iopub.execute_input": "2021-01-13T19:05:25.079789Z",
     "iopub.status.busy": "2021-01-13T19:05:25.077882Z",
     "iopub.status.idle": "2021-01-13T19:05:26.563673Z",
     "shell.execute_reply": "2021-01-13T19:05:26.562483Z"
    },
    "papermill": {
     "duration": 1.530313,
     "end_time": "2021-01-13T19:05:26.564036",
     "exception": false,
     "start_time": "2021-01-13T19:05:25.033723",
     "status": "completed"
    },
    "tags": []
   },
   "outputs": [
    {
     "name": "stderr",
     "output_type": "stream",
     "text": [
      "── \u001b[1mAttaching packages\u001b[22m ─────────────────────────────────────── tidyverse 1.3.0 ──\n",
      "\n",
      "\u001b[32m✔\u001b[39m \u001b[34mggplot2\u001b[39m 3.3.2     \u001b[32m✔\u001b[39m \u001b[34mpurrr  \u001b[39m 0.3.4\n",
      "\u001b[32m✔\u001b[39m \u001b[34mtibble \u001b[39m 3.0.4     \u001b[32m✔\u001b[39m \u001b[34mdplyr  \u001b[39m 1.0.2\n",
      "\u001b[32m✔\u001b[39m \u001b[34mtidyr  \u001b[39m 1.1.2     \u001b[32m✔\u001b[39m \u001b[34mstringr\u001b[39m 1.4.0\n",
      "\u001b[32m✔\u001b[39m \u001b[34mreadr  \u001b[39m 1.4.0     \u001b[32m✔\u001b[39m \u001b[34mforcats\u001b[39m 0.5.0\n",
      "\n",
      "── \u001b[1mConflicts\u001b[22m ────────────────────────────────────────── tidyverse_conflicts() ──\n",
      "\u001b[31m✖\u001b[39m \u001b[34mdplyr\u001b[39m::\u001b[32mfilter()\u001b[39m masks \u001b[34mstats\u001b[39m::filter()\n",
      "\u001b[31m✖\u001b[39m \u001b[34mdplyr\u001b[39m::\u001b[32mlag()\u001b[39m    masks \u001b[34mstats\u001b[39m::lag()\n",
      "\n",
      "\n",
      "\u001b[36m──\u001b[39m \u001b[1m\u001b[1mColumn specification\u001b[1m\u001b[22m \u001b[36m────────────────────────────────────────────────────────\u001b[39m\n",
      "cols(\n",
      "  RI = \u001b[32mcol_double()\u001b[39m,\n",
      "  Na = \u001b[32mcol_double()\u001b[39m,\n",
      "  Mg = \u001b[32mcol_double()\u001b[39m,\n",
      "  Al = \u001b[32mcol_double()\u001b[39m,\n",
      "  Si = \u001b[32mcol_double()\u001b[39m,\n",
      "  K = \u001b[32mcol_double()\u001b[39m,\n",
      "  Ca = \u001b[32mcol_double()\u001b[39m,\n",
      "  Ba = \u001b[32mcol_double()\u001b[39m,\n",
      "  Fe = \u001b[32mcol_double()\u001b[39m,\n",
      "  Type = \u001b[32mcol_double()\u001b[39m\n",
      ")\n",
      "\n",
      "\n"
     ]
    },
    {
     "data": {
      "text/html": [
       "<table class=\"dataframe\">\n",
       "<caption>A tibble: 6 × 10</caption>\n",
       "<thead>\n",
       "\t<tr><th scope=col>RI</th><th scope=col>Na</th><th scope=col>Mg</th><th scope=col>Al</th><th scope=col>Si</th><th scope=col>K</th><th scope=col>Ca</th><th scope=col>Ba</th><th scope=col>Fe</th><th scope=col>Type</th></tr>\n",
       "\t<tr><th scope=col>&lt;dbl&gt;</th><th scope=col>&lt;dbl&gt;</th><th scope=col>&lt;dbl&gt;</th><th scope=col>&lt;dbl&gt;</th><th scope=col>&lt;dbl&gt;</th><th scope=col>&lt;dbl&gt;</th><th scope=col>&lt;dbl&gt;</th><th scope=col>&lt;dbl&gt;</th><th scope=col>&lt;dbl&gt;</th><th scope=col>&lt;dbl&gt;</th></tr>\n",
       "</thead>\n",
       "<tbody>\n",
       "\t<tr><td>1.52101</td><td>13.64</td><td>4.49</td><td>1.10</td><td>71.78</td><td>0.06</td><td>8.75</td><td>0</td><td>0.00</td><td>1</td></tr>\n",
       "\t<tr><td>1.51761</td><td>13.89</td><td>3.60</td><td>1.36</td><td>72.73</td><td>0.48</td><td>7.83</td><td>0</td><td>0.00</td><td>1</td></tr>\n",
       "\t<tr><td>1.51618</td><td>13.53</td><td>3.55</td><td>1.54</td><td>72.99</td><td>0.39</td><td>7.78</td><td>0</td><td>0.00</td><td>1</td></tr>\n",
       "\t<tr><td>1.51766</td><td>13.21</td><td>3.69</td><td>1.29</td><td>72.61</td><td>0.57</td><td>8.22</td><td>0</td><td>0.00</td><td>1</td></tr>\n",
       "\t<tr><td>1.51742</td><td>13.27</td><td>3.62</td><td>1.24</td><td>73.08</td><td>0.55</td><td>8.07</td><td>0</td><td>0.00</td><td>1</td></tr>\n",
       "\t<tr><td>1.51596</td><td>12.79</td><td>3.61</td><td>1.62</td><td>72.97</td><td>0.64</td><td>8.07</td><td>0</td><td>0.26</td><td>1</td></tr>\n",
       "</tbody>\n",
       "</table>\n"
      ],
      "text/latex": [
       "A tibble: 6 × 10\n",
       "\\begin{tabular}{llllllllll}\n",
       " RI & Na & Mg & Al & Si & K & Ca & Ba & Fe & Type\\\\\n",
       " <dbl> & <dbl> & <dbl> & <dbl> & <dbl> & <dbl> & <dbl> & <dbl> & <dbl> & <dbl>\\\\\n",
       "\\hline\n",
       "\t 1.52101 & 13.64 & 4.49 & 1.10 & 71.78 & 0.06 & 8.75 & 0 & 0.00 & 1\\\\\n",
       "\t 1.51761 & 13.89 & 3.60 & 1.36 & 72.73 & 0.48 & 7.83 & 0 & 0.00 & 1\\\\\n",
       "\t 1.51618 & 13.53 & 3.55 & 1.54 & 72.99 & 0.39 & 7.78 & 0 & 0.00 & 1\\\\\n",
       "\t 1.51766 & 13.21 & 3.69 & 1.29 & 72.61 & 0.57 & 8.22 & 0 & 0.00 & 1\\\\\n",
       "\t 1.51742 & 13.27 & 3.62 & 1.24 & 73.08 & 0.55 & 8.07 & 0 & 0.00 & 1\\\\\n",
       "\t 1.51596 & 12.79 & 3.61 & 1.62 & 72.97 & 0.64 & 8.07 & 0 & 0.26 & 1\\\\\n",
       "\\end{tabular}\n"
      ],
      "text/markdown": [
       "\n",
       "A tibble: 6 × 10\n",
       "\n",
       "| RI &lt;dbl&gt; | Na &lt;dbl&gt; | Mg &lt;dbl&gt; | Al &lt;dbl&gt; | Si &lt;dbl&gt; | K &lt;dbl&gt; | Ca &lt;dbl&gt; | Ba &lt;dbl&gt; | Fe &lt;dbl&gt; | Type &lt;dbl&gt; |\n",
       "|---|---|---|---|---|---|---|---|---|---|\n",
       "| 1.52101 | 13.64 | 4.49 | 1.10 | 71.78 | 0.06 | 8.75 | 0 | 0.00 | 1 |\n",
       "| 1.51761 | 13.89 | 3.60 | 1.36 | 72.73 | 0.48 | 7.83 | 0 | 0.00 | 1 |\n",
       "| 1.51618 | 13.53 | 3.55 | 1.54 | 72.99 | 0.39 | 7.78 | 0 | 0.00 | 1 |\n",
       "| 1.51766 | 13.21 | 3.69 | 1.29 | 72.61 | 0.57 | 8.22 | 0 | 0.00 | 1 |\n",
       "| 1.51742 | 13.27 | 3.62 | 1.24 | 73.08 | 0.55 | 8.07 | 0 | 0.00 | 1 |\n",
       "| 1.51596 | 12.79 | 3.61 | 1.62 | 72.97 | 0.64 | 8.07 | 0 | 0.26 | 1 |\n",
       "\n"
      ],
      "text/plain": [
       "  RI      Na    Mg   Al   Si    K    Ca   Ba Fe   Type\n",
       "1 1.52101 13.64 4.49 1.10 71.78 0.06 8.75 0  0.00 1   \n",
       "2 1.51761 13.89 3.60 1.36 72.73 0.48 7.83 0  0.00 1   \n",
       "3 1.51618 13.53 3.55 1.54 72.99 0.39 7.78 0  0.00 1   \n",
       "4 1.51766 13.21 3.69 1.29 72.61 0.57 8.22 0  0.00 1   \n",
       "5 1.51742 13.27 3.62 1.24 73.08 0.55 8.07 0  0.00 1   \n",
       "6 1.51596 12.79 3.61 1.62 72.97 0.64 8.07 0  0.26 1   "
      ]
     },
     "metadata": {},
     "output_type": "display_data"
    }
   ],
   "source": [
    "library(tidyverse)\n",
    "base_glass<-read_csv(\"../input/glass/glass.csv\")\n",
    "head(base_glass)"
   ]
  },
  {
   "cell_type": "markdown",
   "metadata": {
    "papermill": {
     "duration": 0.018418,
     "end_time": "2021-01-13T19:05:26.601935",
     "exception": false,
     "start_time": "2021-01-13T19:05:26.583517",
     "status": "completed"
    },
    "tags": []
   },
   "source": [
    "### Naming the Attributes."
   ]
  },
  {
   "cell_type": "code",
   "execution_count": 2,
   "metadata": {
    "execution": {
     "iopub.execute_input": "2021-01-13T19:05:26.668287Z",
     "iopub.status.busy": "2021-01-13T19:05:26.641495Z",
     "iopub.status.idle": "2021-01-13T19:05:26.691326Z",
     "shell.execute_reply": "2021-01-13T19:05:26.689992Z"
    },
    "papermill": {
     "duration": 0.07132,
     "end_time": "2021-01-13T19:05:26.691470",
     "exception": false,
     "start_time": "2021-01-13T19:05:26.620150",
     "status": "completed"
    },
    "tags": []
   },
   "outputs": [
    {
     "data": {
      "text/html": [
       "<table class=\"dataframe\">\n",
       "<caption>A tibble: 5 × 10</caption>\n",
       "<thead>\n",
       "\t<tr><th scope=col>refractive index</th><th scope=col>sodium</th><th scope=col>magnesium</th><th scope=col>aluminium</th><th scope=col>silicon</th><th scope=col>potassium</th><th scope=col>calcium</th><th scope=col>barium</th><th scope=col>iron</th><th scope=col>type of glass</th></tr>\n",
       "\t<tr><th scope=col>&lt;dbl&gt;</th><th scope=col>&lt;dbl&gt;</th><th scope=col>&lt;dbl&gt;</th><th scope=col>&lt;dbl&gt;</th><th scope=col>&lt;dbl&gt;</th><th scope=col>&lt;dbl&gt;</th><th scope=col>&lt;dbl&gt;</th><th scope=col>&lt;dbl&gt;</th><th scope=col>&lt;dbl&gt;</th><th scope=col>&lt;dbl&gt;</th></tr>\n",
       "</thead>\n",
       "<tbody>\n",
       "\t<tr><td>1.52101</td><td>13.64</td><td>4.49</td><td>1.10</td><td>71.78</td><td>0.06</td><td>8.75</td><td>0</td><td>0</td><td>1</td></tr>\n",
       "\t<tr><td>1.51761</td><td>13.89</td><td>3.60</td><td>1.36</td><td>72.73</td><td>0.48</td><td>7.83</td><td>0</td><td>0</td><td>1</td></tr>\n",
       "\t<tr><td>1.51618</td><td>13.53</td><td>3.55</td><td>1.54</td><td>72.99</td><td>0.39</td><td>7.78</td><td>0</td><td>0</td><td>1</td></tr>\n",
       "\t<tr><td>1.51766</td><td>13.21</td><td>3.69</td><td>1.29</td><td>72.61</td><td>0.57</td><td>8.22</td><td>0</td><td>0</td><td>1</td></tr>\n",
       "\t<tr><td>1.51742</td><td>13.27</td><td>3.62</td><td>1.24</td><td>73.08</td><td>0.55</td><td>8.07</td><td>0</td><td>0</td><td>1</td></tr>\n",
       "</tbody>\n",
       "</table>\n"
      ],
      "text/latex": [
       "A tibble: 5 × 10\n",
       "\\begin{tabular}{llllllllll}\n",
       " refractive index & sodium & magnesium & aluminium & silicon & potassium & calcium & barium & iron & type of glass\\\\\n",
       " <dbl> & <dbl> & <dbl> & <dbl> & <dbl> & <dbl> & <dbl> & <dbl> & <dbl> & <dbl>\\\\\n",
       "\\hline\n",
       "\t 1.52101 & 13.64 & 4.49 & 1.10 & 71.78 & 0.06 & 8.75 & 0 & 0 & 1\\\\\n",
       "\t 1.51761 & 13.89 & 3.60 & 1.36 & 72.73 & 0.48 & 7.83 & 0 & 0 & 1\\\\\n",
       "\t 1.51618 & 13.53 & 3.55 & 1.54 & 72.99 & 0.39 & 7.78 & 0 & 0 & 1\\\\\n",
       "\t 1.51766 & 13.21 & 3.69 & 1.29 & 72.61 & 0.57 & 8.22 & 0 & 0 & 1\\\\\n",
       "\t 1.51742 & 13.27 & 3.62 & 1.24 & 73.08 & 0.55 & 8.07 & 0 & 0 & 1\\\\\n",
       "\\end{tabular}\n"
      ],
      "text/markdown": [
       "\n",
       "A tibble: 5 × 10\n",
       "\n",
       "| refractive index &lt;dbl&gt; | sodium &lt;dbl&gt; | magnesium &lt;dbl&gt; | aluminium &lt;dbl&gt; | silicon &lt;dbl&gt; | potassium &lt;dbl&gt; | calcium &lt;dbl&gt; | barium &lt;dbl&gt; | iron &lt;dbl&gt; | type of glass &lt;dbl&gt; |\n",
       "|---|---|---|---|---|---|---|---|---|---|\n",
       "| 1.52101 | 13.64 | 4.49 | 1.10 | 71.78 | 0.06 | 8.75 | 0 | 0 | 1 |\n",
       "| 1.51761 | 13.89 | 3.60 | 1.36 | 72.73 | 0.48 | 7.83 | 0 | 0 | 1 |\n",
       "| 1.51618 | 13.53 | 3.55 | 1.54 | 72.99 | 0.39 | 7.78 | 0 | 0 | 1 |\n",
       "| 1.51766 | 13.21 | 3.69 | 1.29 | 72.61 | 0.57 | 8.22 | 0 | 0 | 1 |\n",
       "| 1.51742 | 13.27 | 3.62 | 1.24 | 73.08 | 0.55 | 8.07 | 0 | 0 | 1 |\n",
       "\n"
      ],
      "text/plain": [
       "  refractive index sodium magnesium aluminium silicon potassium calcium barium\n",
       "1 1.52101          13.64  4.49      1.10      71.78   0.06      8.75    0     \n",
       "2 1.51761          13.89  3.60      1.36      72.73   0.48      7.83    0     \n",
       "3 1.51618          13.53  3.55      1.54      72.99   0.39      7.78    0     \n",
       "4 1.51766          13.21  3.69      1.29      72.61   0.57      8.22    0     \n",
       "5 1.51742          13.27  3.62      1.24      73.08   0.55      8.07    0     \n",
       "  iron type of glass\n",
       "1 0    1            \n",
       "2 0    1            \n",
       "3 0    1            \n",
       "4 0    1            \n",
       "5 0    1            "
      ]
     },
     "metadata": {},
     "output_type": "display_data"
    }
   ],
   "source": [
    "names(base_glass)<-c(\"refractive index\",\"sodium\",\"magnesium\",\"aluminium\",\"silicon\",\"potassium\",\"calcium\",\"barium\",\"iron\",\"type of glass\")\n",
    "head(base_glass,5)"
   ]
  },
  {
   "cell_type": "markdown",
   "metadata": {
    "papermill": {
     "duration": 0.018928,
     "end_time": "2021-01-13T19:05:26.729625",
     "exception": false,
     "start_time": "2021-01-13T19:05:26.710697",
     "status": "completed"
    },
    "tags": []
   },
   "source": [
    "### Transform \"type of glass\" into a categorical variable."
   ]
  },
  {
   "cell_type": "code",
   "execution_count": 3,
   "metadata": {
    "execution": {
     "iopub.execute_input": "2021-01-13T19:05:26.773467Z",
     "iopub.status.busy": "2021-01-13T19:05:26.771839Z",
     "iopub.status.idle": "2021-01-13T19:05:26.793982Z",
     "shell.execute_reply": "2021-01-13T19:05:26.792479Z"
    },
    "papermill": {
     "duration": 0.045214,
     "end_time": "2021-01-13T19:05:26.794119",
     "exception": false,
     "start_time": "2021-01-13T19:05:26.748905",
     "status": "completed"
    },
    "tags": []
   },
   "outputs": [
    {
     "data": {
      "text/html": [
       "<style>\n",
       ".list-inline {list-style: none; margin:0; padding: 0}\n",
       ".list-inline>li {display: inline-block}\n",
       ".list-inline>li:not(:last-child)::after {content: \"\\00b7\"; padding: 0 .5ex}\n",
       "</style>\n",
       "<ol class=list-inline><li>1</li><li>1</li><li>1</li><li>1</li><li>1</li><li>1</li><li>1</li><li>1</li><li>1</li><li>1</li><li>1</li><li>1</li><li>1</li><li>1</li><li>1</li><li>1</li><li>1</li><li>1</li><li>1</li><li>1</li><li>1</li><li>1</li><li>1</li><li>1</li><li>1</li><li>1</li><li>1</li><li>1</li><li>1</li><li>1</li><li>1</li><li>1</li><li>1</li><li>1</li><li>1</li><li>1</li><li>1</li><li>1</li><li>1</li><li>1</li><li>1</li><li>1</li><li>1</li><li>1</li><li>1</li><li>1</li><li>1</li><li>1</li><li>1</li><li>1</li><li>1</li><li>1</li><li>1</li><li>1</li><li>1</li><li>1</li><li>1</li><li>1</li><li>1</li><li>1</li><li>1</li><li>1</li><li>1</li><li>1</li><li>1</li><li>1</li><li>1</li><li>1</li><li>1</li><li>1</li><li>2</li><li>2</li><li>2</li><li>2</li><li>2</li><li>2</li><li>2</li><li>2</li><li>2</li><li>2</li><li>2</li><li>2</li><li>2</li><li>2</li><li>2</li><li>2</li><li>2</li><li>2</li><li>2</li><li>2</li><li>2</li><li>2</li><li>2</li><li>2</li><li>2</li><li>2</li><li>2</li><li>2</li><li>2</li><li>2</li><li>2</li><li>2</li><li>2</li><li>2</li><li>2</li><li>2</li><li>2</li><li>2</li><li>2</li><li>2</li><li>2</li><li>2</li><li>2</li><li>2</li><li>2</li><li>2</li><li>2</li><li>2</li><li>2</li><li>2</li><li>2</li><li>2</li><li>2</li><li>2</li><li>2</li><li>2</li><li>2</li><li>2</li><li>2</li><li>2</li><li>2</li><li>2</li><li>2</li><li>2</li><li>2</li><li>2</li><li>2</li><li>2</li><li>2</li><li>2</li><li>2</li><li>2</li><li>2</li><li>2</li><li>2</li><li>2</li><li>3</li><li>3</li><li>3</li><li>3</li><li>3</li><li>3</li><li>3</li><li>3</li><li>3</li><li>3</li><li>3</li><li>3</li><li>3</li><li>3</li><li>3</li><li>3</li><li>3</li><li>5</li><li>5</li><li>5</li><li>5</li><li>5</li><li>5</li><li>5</li><li>5</li><li>5</li><li>5</li><li>5</li><li>5</li><li>5</li><li>6</li><li>6</li><li>6</li><li>6</li><li>6</li><li>6</li><li>6</li><li>6</li><li>6</li><li>7</li><li>7</li><li>7</li><li>7</li><li>7</li><li>7</li><li>7</li><li>7</li><li>7</li><li>7</li><li>7</li><li>7</li><li>7</li><li>7</li><li>7</li><li>7</li><li>7</li><li>7</li><li>7</li><li>7</li><li>7</li><li>7</li><li>7</li><li>7</li><li>7</li><li>7</li><li>7</li><li>7</li><li>7</li></ol>\n",
       "\n",
       "<details>\n",
       "\t<summary style=display:list-item;cursor:pointer>\n",
       "\t\t<strong>Levels</strong>:\n",
       "\t</summary>\n",
       "\t<style>\n",
       "\t.list-inline {list-style: none; margin:0; padding: 0}\n",
       "\t.list-inline>li {display: inline-block}\n",
       "\t.list-inline>li:not(:last-child)::after {content: \"\\00b7\"; padding: 0 .5ex}\n",
       "\t</style>\n",
       "\t<ol class=list-inline><li>'1'</li><li>'2'</li><li>'3'</li><li>'5'</li><li>'6'</li><li>'7'</li></ol>\n",
       "</details>"
      ],
      "text/latex": [
       "\\begin{enumerate*}\n",
       "\\item 1\n",
       "\\item 1\n",
       "\\item 1\n",
       "\\item 1\n",
       "\\item 1\n",
       "\\item 1\n",
       "\\item 1\n",
       "\\item 1\n",
       "\\item 1\n",
       "\\item 1\n",
       "\\item 1\n",
       "\\item 1\n",
       "\\item 1\n",
       "\\item 1\n",
       "\\item 1\n",
       "\\item 1\n",
       "\\item 1\n",
       "\\item 1\n",
       "\\item 1\n",
       "\\item 1\n",
       "\\item 1\n",
       "\\item 1\n",
       "\\item 1\n",
       "\\item 1\n",
       "\\item 1\n",
       "\\item 1\n",
       "\\item 1\n",
       "\\item 1\n",
       "\\item 1\n",
       "\\item 1\n",
       "\\item 1\n",
       "\\item 1\n",
       "\\item 1\n",
       "\\item 1\n",
       "\\item 1\n",
       "\\item 1\n",
       "\\item 1\n",
       "\\item 1\n",
       "\\item 1\n",
       "\\item 1\n",
       "\\item 1\n",
       "\\item 1\n",
       "\\item 1\n",
       "\\item 1\n",
       "\\item 1\n",
       "\\item 1\n",
       "\\item 1\n",
       "\\item 1\n",
       "\\item 1\n",
       "\\item 1\n",
       "\\item 1\n",
       "\\item 1\n",
       "\\item 1\n",
       "\\item 1\n",
       "\\item 1\n",
       "\\item 1\n",
       "\\item 1\n",
       "\\item 1\n",
       "\\item 1\n",
       "\\item 1\n",
       "\\item 1\n",
       "\\item 1\n",
       "\\item 1\n",
       "\\item 1\n",
       "\\item 1\n",
       "\\item 1\n",
       "\\item 1\n",
       "\\item 1\n",
       "\\item 1\n",
       "\\item 1\n",
       "\\item 2\n",
       "\\item 2\n",
       "\\item 2\n",
       "\\item 2\n",
       "\\item 2\n",
       "\\item 2\n",
       "\\item 2\n",
       "\\item 2\n",
       "\\item 2\n",
       "\\item 2\n",
       "\\item 2\n",
       "\\item 2\n",
       "\\item 2\n",
       "\\item 2\n",
       "\\item 2\n",
       "\\item 2\n",
       "\\item 2\n",
       "\\item 2\n",
       "\\item 2\n",
       "\\item 2\n",
       "\\item 2\n",
       "\\item 2\n",
       "\\item 2\n",
       "\\item 2\n",
       "\\item 2\n",
       "\\item 2\n",
       "\\item 2\n",
       "\\item 2\n",
       "\\item 2\n",
       "\\item 2\n",
       "\\item 2\n",
       "\\item 2\n",
       "\\item 2\n",
       "\\item 2\n",
       "\\item 2\n",
       "\\item 2\n",
       "\\item 2\n",
       "\\item 2\n",
       "\\item 2\n",
       "\\item 2\n",
       "\\item 2\n",
       "\\item 2\n",
       "\\item 2\n",
       "\\item 2\n",
       "\\item 2\n",
       "\\item 2\n",
       "\\item 2\n",
       "\\item 2\n",
       "\\item 2\n",
       "\\item 2\n",
       "\\item 2\n",
       "\\item 2\n",
       "\\item 2\n",
       "\\item 2\n",
       "\\item 2\n",
       "\\item 2\n",
       "\\item 2\n",
       "\\item 2\n",
       "\\item 2\n",
       "\\item 2\n",
       "\\item 2\n",
       "\\item 2\n",
       "\\item 2\n",
       "\\item 2\n",
       "\\item 2\n",
       "\\item 2\n",
       "\\item 2\n",
       "\\item 2\n",
       "\\item 2\n",
       "\\item 2\n",
       "\\item 2\n",
       "\\item 2\n",
       "\\item 2\n",
       "\\item 2\n",
       "\\item 2\n",
       "\\item 2\n",
       "\\item 3\n",
       "\\item 3\n",
       "\\item 3\n",
       "\\item 3\n",
       "\\item 3\n",
       "\\item 3\n",
       "\\item 3\n",
       "\\item 3\n",
       "\\item 3\n",
       "\\item 3\n",
       "\\item 3\n",
       "\\item 3\n",
       "\\item 3\n",
       "\\item 3\n",
       "\\item 3\n",
       "\\item 3\n",
       "\\item 3\n",
       "\\item 5\n",
       "\\item 5\n",
       "\\item 5\n",
       "\\item 5\n",
       "\\item 5\n",
       "\\item 5\n",
       "\\item 5\n",
       "\\item 5\n",
       "\\item 5\n",
       "\\item 5\n",
       "\\item 5\n",
       "\\item 5\n",
       "\\item 5\n",
       "\\item 6\n",
       "\\item 6\n",
       "\\item 6\n",
       "\\item 6\n",
       "\\item 6\n",
       "\\item 6\n",
       "\\item 6\n",
       "\\item 6\n",
       "\\item 6\n",
       "\\item 7\n",
       "\\item 7\n",
       "\\item 7\n",
       "\\item 7\n",
       "\\item 7\n",
       "\\item 7\n",
       "\\item 7\n",
       "\\item 7\n",
       "\\item 7\n",
       "\\item 7\n",
       "\\item 7\n",
       "\\item 7\n",
       "\\item 7\n",
       "\\item 7\n",
       "\\item 7\n",
       "\\item 7\n",
       "\\item 7\n",
       "\\item 7\n",
       "\\item 7\n",
       "\\item 7\n",
       "\\item 7\n",
       "\\item 7\n",
       "\\item 7\n",
       "\\item 7\n",
       "\\item 7\n",
       "\\item 7\n",
       "\\item 7\n",
       "\\item 7\n",
       "\\item 7\n",
       "\\end{enumerate*}\n",
       "\n",
       "\\emph{Levels}: \\begin{enumerate*}\n",
       "\\item '1'\n",
       "\\item '2'\n",
       "\\item '3'\n",
       "\\item '5'\n",
       "\\item '6'\n",
       "\\item '7'\n",
       "\\end{enumerate*}\n"
      ],
      "text/markdown": [
       "1. 1\n",
       "2. 1\n",
       "3. 1\n",
       "4. 1\n",
       "5. 1\n",
       "6. 1\n",
       "7. 1\n",
       "8. 1\n",
       "9. 1\n",
       "10. 1\n",
       "11. 1\n",
       "12. 1\n",
       "13. 1\n",
       "14. 1\n",
       "15. 1\n",
       "16. 1\n",
       "17. 1\n",
       "18. 1\n",
       "19. 1\n",
       "20. 1\n",
       "21. 1\n",
       "22. 1\n",
       "23. 1\n",
       "24. 1\n",
       "25. 1\n",
       "26. 1\n",
       "27. 1\n",
       "28. 1\n",
       "29. 1\n",
       "30. 1\n",
       "31. 1\n",
       "32. 1\n",
       "33. 1\n",
       "34. 1\n",
       "35. 1\n",
       "36. 1\n",
       "37. 1\n",
       "38. 1\n",
       "39. 1\n",
       "40. 1\n",
       "41. 1\n",
       "42. 1\n",
       "43. 1\n",
       "44. 1\n",
       "45. 1\n",
       "46. 1\n",
       "47. 1\n",
       "48. 1\n",
       "49. 1\n",
       "50. 1\n",
       "51. 1\n",
       "52. 1\n",
       "53. 1\n",
       "54. 1\n",
       "55. 1\n",
       "56. 1\n",
       "57. 1\n",
       "58. 1\n",
       "59. 1\n",
       "60. 1\n",
       "61. 1\n",
       "62. 1\n",
       "63. 1\n",
       "64. 1\n",
       "65. 1\n",
       "66. 1\n",
       "67. 1\n",
       "68. 1\n",
       "69. 1\n",
       "70. 1\n",
       "71. 2\n",
       "72. 2\n",
       "73. 2\n",
       "74. 2\n",
       "75. 2\n",
       "76. 2\n",
       "77. 2\n",
       "78. 2\n",
       "79. 2\n",
       "80. 2\n",
       "81. 2\n",
       "82. 2\n",
       "83. 2\n",
       "84. 2\n",
       "85. 2\n",
       "86. 2\n",
       "87. 2\n",
       "88. 2\n",
       "89. 2\n",
       "90. 2\n",
       "91. 2\n",
       "92. 2\n",
       "93. 2\n",
       "94. 2\n",
       "95. 2\n",
       "96. 2\n",
       "97. 2\n",
       "98. 2\n",
       "99. 2\n",
       "100. 2\n",
       "101. 2\n",
       "102. 2\n",
       "103. 2\n",
       "104. 2\n",
       "105. 2\n",
       "106. 2\n",
       "107. 2\n",
       "108. 2\n",
       "109. 2\n",
       "110. 2\n",
       "111. 2\n",
       "112. 2\n",
       "113. 2\n",
       "114. 2\n",
       "115. 2\n",
       "116. 2\n",
       "117. 2\n",
       "118. 2\n",
       "119. 2\n",
       "120. 2\n",
       "121. 2\n",
       "122. 2\n",
       "123. 2\n",
       "124. 2\n",
       "125. 2\n",
       "126. 2\n",
       "127. 2\n",
       "128. 2\n",
       "129. 2\n",
       "130. 2\n",
       "131. 2\n",
       "132. 2\n",
       "133. 2\n",
       "134. 2\n",
       "135. 2\n",
       "136. 2\n",
       "137. 2\n",
       "138. 2\n",
       "139. 2\n",
       "140. 2\n",
       "141. 2\n",
       "142. 2\n",
       "143. 2\n",
       "144. 2\n",
       "145. 2\n",
       "146. 2\n",
       "147. 3\n",
       "148. 3\n",
       "149. 3\n",
       "150. 3\n",
       "151. 3\n",
       "152. 3\n",
       "153. 3\n",
       "154. 3\n",
       "155. 3\n",
       "156. 3\n",
       "157. 3\n",
       "158. 3\n",
       "159. 3\n",
       "160. 3\n",
       "161. 3\n",
       "162. 3\n",
       "163. 3\n",
       "164. 5\n",
       "165. 5\n",
       "166. 5\n",
       "167. 5\n",
       "168. 5\n",
       "169. 5\n",
       "170. 5\n",
       "171. 5\n",
       "172. 5\n",
       "173. 5\n",
       "174. 5\n",
       "175. 5\n",
       "176. 5\n",
       "177. 6\n",
       "178. 6\n",
       "179. 6\n",
       "180. 6\n",
       "181. 6\n",
       "182. 6\n",
       "183. 6\n",
       "184. 6\n",
       "185. 6\n",
       "186. 7\n",
       "187. 7\n",
       "188. 7\n",
       "189. 7\n",
       "190. 7\n",
       "191. 7\n",
       "192. 7\n",
       "193. 7\n",
       "194. 7\n",
       "195. 7\n",
       "196. 7\n",
       "197. 7\n",
       "198. 7\n",
       "199. 7\n",
       "200. 7\n",
       "201. 7\n",
       "202. 7\n",
       "203. 7\n",
       "204. 7\n",
       "205. 7\n",
       "206. 7\n",
       "207. 7\n",
       "208. 7\n",
       "209. 7\n",
       "210. 7\n",
       "211. 7\n",
       "212. 7\n",
       "213. 7\n",
       "214. 7\n",
       "\n",
       "\n",
       "\n",
       "**Levels**: 1. '1'\n",
       "2. '2'\n",
       "3. '3'\n",
       "4. '5'\n",
       "5. '6'\n",
       "6. '7'\n",
       "\n",
       "\n"
      ],
      "text/plain": [
       "  [1] 1 1 1 1 1 1 1 1 1 1 1 1 1 1 1 1 1 1 1 1 1 1 1 1 1 1 1 1 1 1 1 1 1 1 1 1 1\n",
       " [38] 1 1 1 1 1 1 1 1 1 1 1 1 1 1 1 1 1 1 1 1 1 1 1 1 1 1 1 1 1 1 1 1 1 2 2 2 2\n",
       " [75] 2 2 2 2 2 2 2 2 2 2 2 2 2 2 2 2 2 2 2 2 2 2 2 2 2 2 2 2 2 2 2 2 2 2 2 2 2\n",
       "[112] 2 2 2 2 2 2 2 2 2 2 2 2 2 2 2 2 2 2 2 2 2 2 2 2 2 2 2 2 2 2 2 2 2 2 2 3 3\n",
       "[149] 3 3 3 3 3 3 3 3 3 3 3 3 3 3 3 5 5 5 5 5 5 5 5 5 5 5 5 5 6 6 6 6 6 6 6 6 6\n",
       "[186] 7 7 7 7 7 7 7 7 7 7 7 7 7 7 7 7 7 7 7 7 7 7 7 7 7 7 7 7 7\n",
       "Levels: 1 2 3 5 6 7"
      ]
     },
     "metadata": {},
     "output_type": "display_data"
    }
   ],
   "source": [
    "base_glass$`type of glass`<-as_factor(base_glass$`type of glass`)\n",
    "base_glass$`type of glass`"
   ]
  },
  {
   "cell_type": "markdown",
   "metadata": {
    "papermill": {
     "duration": 0.020175,
     "end_time": "2021-01-13T19:05:26.835420",
     "exception": false,
     "start_time": "2021-01-13T19:05:26.815245",
     "status": "completed"
    },
    "tags": []
   },
   "source": [
    "### Check for missing values."
   ]
  },
  {
   "cell_type": "code",
   "execution_count": 4,
   "metadata": {
    "execution": {
     "iopub.execute_input": "2021-01-13T19:05:26.880735Z",
     "iopub.status.busy": "2021-01-13T19:05:26.879149Z",
     "iopub.status.idle": "2021-01-13T19:05:26.895187Z",
     "shell.execute_reply": "2021-01-13T19:05:26.893990Z"
    },
    "papermill": {
     "duration": 0.039673,
     "end_time": "2021-01-13T19:05:26.895326",
     "exception": false,
     "start_time": "2021-01-13T19:05:26.855653",
     "status": "completed"
    },
    "tags": []
   },
   "outputs": [
    {
     "data": {
      "text/html": [
       "0"
      ],
      "text/latex": [
       "0"
      ],
      "text/markdown": [
       "0"
      ],
      "text/plain": [
       "[1] 0"
      ]
     },
     "metadata": {},
     "output_type": "display_data"
    }
   ],
   "source": [
    "sum(is.na(base_glass))"
   ]
  },
  {
   "cell_type": "markdown",
   "metadata": {
    "papermill": {
     "duration": 0.020934,
     "end_time": "2021-01-13T19:05:26.937319",
     "exception": false,
     "start_time": "2021-01-13T19:05:26.916385",
     "status": "completed"
    },
    "tags": []
   },
   "source": [
    "### Summary of attributes."
   ]
  },
  {
   "cell_type": "code",
   "execution_count": 5,
   "metadata": {
    "execution": {
     "iopub.execute_input": "2021-01-13T19:05:26.985745Z",
     "iopub.status.busy": "2021-01-13T19:05:26.984108Z",
     "iopub.status.idle": "2021-01-13T19:05:27.004624Z",
     "shell.execute_reply": "2021-01-13T19:05:27.003255Z"
    },
    "papermill": {
     "duration": 0.045887,
     "end_time": "2021-01-13T19:05:27.004763",
     "exception": false,
     "start_time": "2021-01-13T19:05:26.958876",
     "status": "completed"
    },
    "tags": []
   },
   "outputs": [
    {
     "data": {
      "text/plain": [
       " refractive index     sodium        magnesium       aluminium    \n",
       " Min.   :1.511    Min.   :10.73   Min.   :0.000   Min.   :0.290  \n",
       " 1st Qu.:1.517    1st Qu.:12.91   1st Qu.:2.115   1st Qu.:1.190  \n",
       " Median :1.518    Median :13.30   Median :3.480   Median :1.360  \n",
       " Mean   :1.518    Mean   :13.41   Mean   :2.685   Mean   :1.445  \n",
       " 3rd Qu.:1.519    3rd Qu.:13.82   3rd Qu.:3.600   3rd Qu.:1.630  \n",
       " Max.   :1.534    Max.   :17.38   Max.   :4.490   Max.   :3.500  \n",
       "    silicon        potassium         calcium           barium     \n",
       " Min.   :69.81   Min.   :0.0000   Min.   : 5.430   Min.   :0.000  \n",
       " 1st Qu.:72.28   1st Qu.:0.1225   1st Qu.: 8.240   1st Qu.:0.000  \n",
       " Median :72.79   Median :0.5550   Median : 8.600   Median :0.000  \n",
       " Mean   :72.65   Mean   :0.4971   Mean   : 8.957   Mean   :0.175  \n",
       " 3rd Qu.:73.09   3rd Qu.:0.6100   3rd Qu.: 9.172   3rd Qu.:0.000  \n",
       " Max.   :75.41   Max.   :6.2100   Max.   :16.190   Max.   :3.150  \n",
       "      iron         type of glass\n",
       " Min.   :0.00000   1:70         \n",
       " 1st Qu.:0.00000   2:76         \n",
       " Median :0.00000   3:17         \n",
       " Mean   :0.05701   5:13         \n",
       " 3rd Qu.:0.10000   6: 9         \n",
       " Max.   :0.51000   7:29         "
      ]
     },
     "metadata": {},
     "output_type": "display_data"
    }
   ],
   "source": [
    "summary(base_glass)"
   ]
  },
  {
   "cell_type": "markdown",
   "metadata": {
    "papermill": {
     "duration": 0.021362,
     "end_time": "2021-01-13T19:05:27.047357",
     "exception": false,
     "start_time": "2021-01-13T19:05:27.025995",
     "status": "completed"
    },
    "tags": []
   },
   "source": [
    "##  Is there a correlation between the attributes?\n"
   ]
  },
  {
   "cell_type": "code",
   "execution_count": 6,
   "metadata": {
    "execution": {
     "iopub.execute_input": "2021-01-13T19:05:27.095487Z",
     "iopub.status.busy": "2021-01-13T19:05:27.094172Z",
     "iopub.status.idle": "2021-01-13T19:05:27.139415Z",
     "shell.execute_reply": "2021-01-13T19:05:27.138145Z"
    },
    "papermill": {
     "duration": 0.070603,
     "end_time": "2021-01-13T19:05:27.139545",
     "exception": false,
     "start_time": "2021-01-13T19:05:27.068942",
     "status": "completed"
    },
    "tags": []
   },
   "outputs": [
    {
     "data": {
      "text/html": [
       "<table class=\"dataframe\">\n",
       "<caption>A matrix: 9 × 9 of type dbl</caption>\n",
       "<thead>\n",
       "\t<tr><th></th><th scope=col>refractive index</th><th scope=col>sodium</th><th scope=col>magnesium</th><th scope=col>aluminium</th><th scope=col>silicon</th><th scope=col>potassium</th><th scope=col>calcium</th><th scope=col>barium</th><th scope=col>iron</th></tr>\n",
       "</thead>\n",
       "<tbody>\n",
       "\t<tr><th scope=row>refractive index</th><td> 1.0000000000</td><td>-0.19188538</td><td>-0.122274039</td><td>-0.40732603</td><td>-0.54205220</td><td>-0.289832711</td><td> 0.8104027</td><td>-0.0003860189</td><td> 0.143009609</td></tr>\n",
       "\t<tr><th scope=row>sodium</th><td>-0.1918853790</td><td> 1.00000000</td><td>-0.273731961</td><td> 0.15679367</td><td>-0.06980881</td><td>-0.266086504</td><td>-0.2754425</td><td> 0.3266028795</td><td>-0.241346411</td></tr>\n",
       "\t<tr><th scope=row>magnesium</th><td>-0.1222740393</td><td>-0.27373196</td><td> 1.000000000</td><td>-0.48179851</td><td>-0.16592672</td><td> 0.005395667</td><td>-0.4437500</td><td>-0.4922621178</td><td> 0.083059529</td></tr>\n",
       "\t<tr><th scope=row>aluminium</th><td>-0.4073260341</td><td> 0.15679367</td><td>-0.481798509</td><td> 1.00000000</td><td>-0.00552372</td><td> 0.325958446</td><td>-0.2595920</td><td> 0.4794039017</td><td>-0.074402151</td></tr>\n",
       "\t<tr><th scope=row>silicon</th><td>-0.5420521997</td><td>-0.06980881</td><td>-0.165926723</td><td>-0.00552372</td><td> 1.00000000</td><td>-0.193330854</td><td>-0.2087322</td><td>-0.1021513105</td><td>-0.094200731</td></tr>\n",
       "\t<tr><th scope=row>potassium</th><td>-0.2898327111</td><td>-0.26608650</td><td> 0.005395667</td><td> 0.32595845</td><td>-0.19333085</td><td> 1.000000000</td><td>-0.3178362</td><td>-0.0426180594</td><td>-0.007719049</td></tr>\n",
       "\t<tr><th scope=row>calcium</th><td> 0.8104026963</td><td>-0.27544249</td><td>-0.443750026</td><td>-0.25959201</td><td>-0.20873215</td><td>-0.317836155</td><td> 1.0000000</td><td>-0.1128409671</td><td> 0.124968219</td></tr>\n",
       "\t<tr><th scope=row>barium</th><td>-0.0003860189</td><td> 0.32660288</td><td>-0.492262118</td><td> 0.47940390</td><td>-0.10215131</td><td>-0.042618059</td><td>-0.1128410</td><td> 1.0000000000</td><td>-0.058691755</td></tr>\n",
       "\t<tr><th scope=row>iron</th><td> 0.1430096093</td><td>-0.24134641</td><td> 0.083059529</td><td>-0.07440215</td><td>-0.09420073</td><td>-0.007719049</td><td> 0.1249682</td><td>-0.0586917554</td><td> 1.000000000</td></tr>\n",
       "</tbody>\n",
       "</table>\n"
      ],
      "text/latex": [
       "A matrix: 9 × 9 of type dbl\n",
       "\\begin{tabular}{r|lllllllll}\n",
       "  & refractive index & sodium & magnesium & aluminium & silicon & potassium & calcium & barium & iron\\\\\n",
       "\\hline\n",
       "\trefractive index &  1.0000000000 & -0.19188538 & -0.122274039 & -0.40732603 & -0.54205220 & -0.289832711 &  0.8104027 & -0.0003860189 &  0.143009609\\\\\n",
       "\tsodium & -0.1918853790 &  1.00000000 & -0.273731961 &  0.15679367 & -0.06980881 & -0.266086504 & -0.2754425 &  0.3266028795 & -0.241346411\\\\\n",
       "\tmagnesium & -0.1222740393 & -0.27373196 &  1.000000000 & -0.48179851 & -0.16592672 &  0.005395667 & -0.4437500 & -0.4922621178 &  0.083059529\\\\\n",
       "\taluminium & -0.4073260341 &  0.15679367 & -0.481798509 &  1.00000000 & -0.00552372 &  0.325958446 & -0.2595920 &  0.4794039017 & -0.074402151\\\\\n",
       "\tsilicon & -0.5420521997 & -0.06980881 & -0.165926723 & -0.00552372 &  1.00000000 & -0.193330854 & -0.2087322 & -0.1021513105 & -0.094200731\\\\\n",
       "\tpotassium & -0.2898327111 & -0.26608650 &  0.005395667 &  0.32595845 & -0.19333085 &  1.000000000 & -0.3178362 & -0.0426180594 & -0.007719049\\\\\n",
       "\tcalcium &  0.8104026963 & -0.27544249 & -0.443750026 & -0.25959201 & -0.20873215 & -0.317836155 &  1.0000000 & -0.1128409671 &  0.124968219\\\\\n",
       "\tbarium & -0.0003860189 &  0.32660288 & -0.492262118 &  0.47940390 & -0.10215131 & -0.042618059 & -0.1128410 &  1.0000000000 & -0.058691755\\\\\n",
       "\tiron &  0.1430096093 & -0.24134641 &  0.083059529 & -0.07440215 & -0.09420073 & -0.007719049 &  0.1249682 & -0.0586917554 &  1.000000000\\\\\n",
       "\\end{tabular}\n"
      ],
      "text/markdown": [
       "\n",
       "A matrix: 9 × 9 of type dbl\n",
       "\n",
       "| <!--/--> | refractive index | sodium | magnesium | aluminium | silicon | potassium | calcium | barium | iron |\n",
       "|---|---|---|---|---|---|---|---|---|---|\n",
       "| refractive index |  1.0000000000 | -0.19188538 | -0.122274039 | -0.40732603 | -0.54205220 | -0.289832711 |  0.8104027 | -0.0003860189 |  0.143009609 |\n",
       "| sodium | -0.1918853790 |  1.00000000 | -0.273731961 |  0.15679367 | -0.06980881 | -0.266086504 | -0.2754425 |  0.3266028795 | -0.241346411 |\n",
       "| magnesium | -0.1222740393 | -0.27373196 |  1.000000000 | -0.48179851 | -0.16592672 |  0.005395667 | -0.4437500 | -0.4922621178 |  0.083059529 |\n",
       "| aluminium | -0.4073260341 |  0.15679367 | -0.481798509 |  1.00000000 | -0.00552372 |  0.325958446 | -0.2595920 |  0.4794039017 | -0.074402151 |\n",
       "| silicon | -0.5420521997 | -0.06980881 | -0.165926723 | -0.00552372 |  1.00000000 | -0.193330854 | -0.2087322 | -0.1021513105 | -0.094200731 |\n",
       "| potassium | -0.2898327111 | -0.26608650 |  0.005395667 |  0.32595845 | -0.19333085 |  1.000000000 | -0.3178362 | -0.0426180594 | -0.007719049 |\n",
       "| calcium |  0.8104026963 | -0.27544249 | -0.443750026 | -0.25959201 | -0.20873215 | -0.317836155 |  1.0000000 | -0.1128409671 |  0.124968219 |\n",
       "| barium | -0.0003860189 |  0.32660288 | -0.492262118 |  0.47940390 | -0.10215131 | -0.042618059 | -0.1128410 |  1.0000000000 | -0.058691755 |\n",
       "| iron |  0.1430096093 | -0.24134641 |  0.083059529 | -0.07440215 | -0.09420073 | -0.007719049 |  0.1249682 | -0.0586917554 |  1.000000000 |\n",
       "\n"
      ],
      "text/plain": [
       "                 refractive index sodium      magnesium    aluminium  \n",
       "refractive index  1.0000000000    -0.19188538 -0.122274039 -0.40732603\n",
       "sodium           -0.1918853790     1.00000000 -0.273731961  0.15679367\n",
       "magnesium        -0.1222740393    -0.27373196  1.000000000 -0.48179851\n",
       "aluminium        -0.4073260341     0.15679367 -0.481798509  1.00000000\n",
       "silicon          -0.5420521997    -0.06980881 -0.165926723 -0.00552372\n",
       "potassium        -0.2898327111    -0.26608650  0.005395667  0.32595845\n",
       "calcium           0.8104026963    -0.27544249 -0.443750026 -0.25959201\n",
       "barium           -0.0003860189     0.32660288 -0.492262118  0.47940390\n",
       "iron              0.1430096093    -0.24134641  0.083059529 -0.07440215\n",
       "                 silicon     potassium    calcium    barium        iron        \n",
       "refractive index -0.54205220 -0.289832711  0.8104027 -0.0003860189  0.143009609\n",
       "sodium           -0.06980881 -0.266086504 -0.2754425  0.3266028795 -0.241346411\n",
       "magnesium        -0.16592672  0.005395667 -0.4437500 -0.4922621178  0.083059529\n",
       "aluminium        -0.00552372  0.325958446 -0.2595920  0.4794039017 -0.074402151\n",
       "silicon           1.00000000 -0.193330854 -0.2087322 -0.1021513105 -0.094200731\n",
       "potassium        -0.19333085  1.000000000 -0.3178362 -0.0426180594 -0.007719049\n",
       "calcium          -0.20873215 -0.317836155  1.0000000 -0.1128409671  0.124968219\n",
       "barium           -0.10215131 -0.042618059 -0.1128410  1.0000000000 -0.058691755\n",
       "iron             -0.09420073 -0.007719049  0.1249682 -0.0586917554  1.000000000"
      ]
     },
     "metadata": {},
     "output_type": "display_data"
    }
   ],
   "source": [
    "cor_base_glass<-cor(base_glass[,1:9])\n",
    "cor_base_glass"
   ]
  },
  {
   "cell_type": "markdown",
   "metadata": {
    "papermill": {
     "duration": 0.023272,
     "end_time": "2021-01-13T19:05:27.185699",
     "exception": false,
     "start_time": "2021-01-13T19:05:27.162427",
     "status": "completed"
    },
    "tags": []
   },
   "source": [
    "###  VISUALIZING THE CORRELATION BETWEEN ATTRIBUTES."
   ]
  },
  {
   "cell_type": "code",
   "execution_count": 7,
   "metadata": {
    "execution": {
     "iopub.execute_input": "2021-01-13T19:05:27.236204Z",
     "iopub.status.busy": "2021-01-13T19:05:27.234783Z",
     "iopub.status.idle": "2021-01-13T19:05:27.652230Z",
     "shell.execute_reply": "2021-01-13T19:05:27.652608Z"
    },
    "papermill": {
     "duration": 0.444159,
     "end_time": "2021-01-13T19:05:27.652762",
     "exception": false,
     "start_time": "2021-01-13T19:05:27.208603",
     "status": "completed"
    },
    "tags": []
   },
   "outputs": [
    {
     "name": "stderr",
     "output_type": "stream",
     "text": [
      "corrplot 0.84 loaded\n",
      "\n"
     ]
    },
    {
     "data": {
      "image/png": "[encoded data removed]"
     },
     "metadata": {
      "image/png": {
       "height": 420,
       "width": 420
      }
     },
     "output_type": "display_data"
    }
   ],
   "source": [
    "library(corrplot)\n",
    "\n",
    "corrplot(cor_base_glass,method = \"color\",type = \"upper\",tl.srt = 45,tl.col = \"black\",addCoef.col = \"#8B6969\",col=c(\"#00688B\",\"#00868B\",\"#00CDCD\",\"#BBFFFF\",\"#E0FFFF\",\"#FFFAFA\",\"#B0E2FF\",\"#87CEFF\",\"#1C86EE\",\"#104E8B\",\"#00008B\"))"
   ]
  },
  {
   "cell_type": "markdown",
   "metadata": {
    "papermill": {
     "duration": 0.025472,
     "end_time": "2021-01-13T19:05:27.703475",
     "exception": false,
     "start_time": "2021-01-13T19:05:27.678003",
     "status": "completed"
    },
    "tags": []
   },
   "source": [
    "## Greater and lesser correlation between attributes."
   ]
  },
  {
   "cell_type": "code",
   "execution_count": 8,
   "metadata": {
    "execution": {
     "iopub.execute_input": "2021-01-13T19:05:27.758252Z",
     "iopub.status.busy": "2021-01-13T19:05:27.757038Z",
     "iopub.status.idle": "2021-01-13T19:05:28.304353Z",
     "shell.execute_reply": "2021-01-13T19:05:28.304712Z"
    },
    "papermill": {
     "duration": 0.575984,
     "end_time": "2021-01-13T19:05:28.304874",
     "exception": false,
     "start_time": "2021-01-13T19:05:27.728890",
     "status": "completed"
    },
    "tags": []
   },
   "outputs": [
    {
     "name": "stderr",
     "output_type": "stream",
     "text": [
      "\n",
      "Attaching package: ‘gridExtra’\n",
      "\n",
      "\n",
      "The following object is masked from ‘package:dplyr’:\n",
      "\n",
      "    combine\n",
      "\n",
      "\n"
     ]
    },
    {
     "data": {
      "image/png": "[encoded data removed]"
     },
     "metadata": {
      "image/png": {
       "height": 420,
       "width": 420
      }
     },
     "output_type": "display_data"
    }
   ],
   "source": [
    "library(gridExtra)\n",
    "### Maior correlçao encontrada  refractive index X calcium\n",
    "maior_cor<-base_glass %>%\n",
    "    ggplot()+\n",
    "        geom_point(mapping = aes(x = `refractive index`,y = calcium),color=\"red\")+\n",
    "          ggtitle(\"Highest correlation found.- refractive index X calcium\")\n",
    "\n",
    "### Menor correlçao encontrada  refractive index X calcium\n",
    "menor_cor<-base_glass %>%\n",
    "    ggplot()+\n",
    "    geom_point(mapping = aes(x =`refractive index`,y = barium ),color=\"blue\")+\n",
    "    ggtitle(\"-Lowest correlation found.- refractive index X barium\")\n",
    "\n",
    "grid.arrange(maior_cor,menor_cor)\n",
    "        "
   ]
  },
  {
   "cell_type": "markdown",
   "metadata": {
    "papermill": {
     "duration": 0.027578,
     "end_time": "2021-01-13T19:05:28.360335",
     "exception": false,
     "start_time": "2021-01-13T19:05:28.332757",
     "status": "completed"
    },
    "tags": []
   },
   "source": [
    "## Graph with the distribution of the types of glasses."
   ]
  },
  {
   "cell_type": "code",
   "execution_count": 9,
   "metadata": {
    "execution": {
     "iopub.execute_input": "2021-01-13T19:05:28.419877Z",
     "iopub.status.busy": "2021-01-13T19:05:28.418545Z",
     "iopub.status.idle": "2021-01-13T19:05:28.899702Z",
     "shell.execute_reply": "2021-01-13T19:05:28.898641Z"
    },
    "papermill": {
     "duration": 0.512383,
     "end_time": "2021-01-13T19:05:28.899836",
     "exception": false,
     "start_time": "2021-01-13T19:05:28.387453",
     "status": "completed"
    },
    "tags": []
   },
   "outputs": [
    {
     "data": {
      "image/png": "[encoded data removed]"
     },
     "metadata": {
      "image/png": {
       "height": 420,
       "width": 420
      }
     },
     "output_type": "display_data"
    }
   ],
   "source": [
    "base_glass %>% \n",
    "    ggplot()+\n",
    "        geom_bar(mapping = aes(x = `type of glass`,fill=`type of glass`),color=\"white\")\n"
   ]
  },
  {
   "cell_type": "markdown",
   "metadata": {
    "papermill": {
     "duration": 0.028823,
     "end_time": "2021-01-13T19:05:28.957831",
     "exception": false,
     "start_time": "2021-01-13T19:05:28.929008",
     "status": "completed"
    },
    "tags": []
   },
   "source": [
    "## Pre-processing."
   ]
  },
  {
   "cell_type": "code",
   "execution_count": 10,
   "metadata": {
    "execution": {
     "iopub.execute_input": "2021-01-13T19:05:29.022335Z",
     "iopub.status.busy": "2021-01-13T19:05:29.021194Z",
     "iopub.status.idle": "2021-01-13T19:05:29.042981Z",
     "shell.execute_reply": "2021-01-13T19:05:29.041925Z"
    },
    "papermill": {
     "duration": 0.0555,
     "end_time": "2021-01-13T19:05:29.043123",
     "exception": false,
     "start_time": "2021-01-13T19:05:28.987623",
     "status": "completed"
    },
    "tags": []
   },
   "outputs": [
    {
     "data": {
      "text/html": [
       "<table class=\"dataframe\">\n",
       "<caption>A tibble: 6 × 10</caption>\n",
       "<thead>\n",
       "\t<tr><th scope=col>refractive index</th><th scope=col>sodium</th><th scope=col>magnesium</th><th scope=col>aluminium</th><th scope=col>silicon</th><th scope=col>potassium</th><th scope=col>calcium</th><th scope=col>barium</th><th scope=col>iron</th><th scope=col>type of glass</th></tr>\n",
       "\t<tr><th scope=col>&lt;dbl&gt;</th><th scope=col>&lt;dbl&gt;</th><th scope=col>&lt;dbl&gt;</th><th scope=col>&lt;dbl&gt;</th><th scope=col>&lt;dbl&gt;</th><th scope=col>&lt;dbl&gt;</th><th scope=col>&lt;dbl&gt;</th><th scope=col>&lt;dbl&gt;</th><th scope=col>&lt;dbl&gt;</th><th scope=col>&lt;fct&gt;</th></tr>\n",
       "</thead>\n",
       "<tbody>\n",
       "\t<tr><td>1.52101</td><td>13.64</td><td>4.49</td><td>1.10</td><td>71.78</td><td>0.06</td><td>8.75</td><td>0</td><td>0.00</td><td>1</td></tr>\n",
       "\t<tr><td>1.51761</td><td>13.89</td><td>3.60</td><td>1.36</td><td>72.73</td><td>0.48</td><td>7.83</td><td>0</td><td>0.00</td><td>1</td></tr>\n",
       "\t<tr><td>1.51618</td><td>13.53</td><td>3.55</td><td>1.54</td><td>72.99</td><td>0.39</td><td>7.78</td><td>0</td><td>0.00</td><td>1</td></tr>\n",
       "\t<tr><td>1.51766</td><td>13.21</td><td>3.69</td><td>1.29</td><td>72.61</td><td>0.57</td><td>8.22</td><td>0</td><td>0.00</td><td>1</td></tr>\n",
       "\t<tr><td>1.51742</td><td>13.27</td><td>3.62</td><td>1.24</td><td>73.08</td><td>0.55</td><td>8.07</td><td>0</td><td>0.00</td><td>1</td></tr>\n",
       "\t<tr><td>1.51596</td><td>12.79</td><td>3.61</td><td>1.62</td><td>72.97</td><td>0.64</td><td>8.07</td><td>0</td><td>0.26</td><td>1</td></tr>\n",
       "</tbody>\n",
       "</table>\n"
      ],
      "text/latex": [
       "A tibble: 6 × 10\n",
       "\\begin{tabular}{llllllllll}\n",
       " refractive index & sodium & magnesium & aluminium & silicon & potassium & calcium & barium & iron & type of glass\\\\\n",
       " <dbl> & <dbl> & <dbl> & <dbl> & <dbl> & <dbl> & <dbl> & <dbl> & <dbl> & <fct>\\\\\n",
       "\\hline\n",
       "\t 1.52101 & 13.64 & 4.49 & 1.10 & 71.78 & 0.06 & 8.75 & 0 & 0.00 & 1\\\\\n",
       "\t 1.51761 & 13.89 & 3.60 & 1.36 & 72.73 & 0.48 & 7.83 & 0 & 0.00 & 1\\\\\n",
       "\t 1.51618 & 13.53 & 3.55 & 1.54 & 72.99 & 0.39 & 7.78 & 0 & 0.00 & 1\\\\\n",
       "\t 1.51766 & 13.21 & 3.69 & 1.29 & 72.61 & 0.57 & 8.22 & 0 & 0.00 & 1\\\\\n",
       "\t 1.51742 & 13.27 & 3.62 & 1.24 & 73.08 & 0.55 & 8.07 & 0 & 0.00 & 1\\\\\n",
       "\t 1.51596 & 12.79 & 3.61 & 1.62 & 72.97 & 0.64 & 8.07 & 0 & 0.26 & 1\\\\\n",
       "\\end{tabular}\n"
      ],
      "text/markdown": [
       "\n",
       "A tibble: 6 × 10\n",
       "\n",
       "| refractive index &lt;dbl&gt; | sodium &lt;dbl&gt; | magnesium &lt;dbl&gt; | aluminium &lt;dbl&gt; | silicon &lt;dbl&gt; | potassium &lt;dbl&gt; | calcium &lt;dbl&gt; | barium &lt;dbl&gt; | iron &lt;dbl&gt; | type of glass &lt;fct&gt; |\n",
       "|---|---|---|---|---|---|---|---|---|---|\n",
       "| 1.52101 | 13.64 | 4.49 | 1.10 | 71.78 | 0.06 | 8.75 | 0 | 0.00 | 1 |\n",
       "| 1.51761 | 13.89 | 3.60 | 1.36 | 72.73 | 0.48 | 7.83 | 0 | 0.00 | 1 |\n",
       "| 1.51618 | 13.53 | 3.55 | 1.54 | 72.99 | 0.39 | 7.78 | 0 | 0.00 | 1 |\n",
       "| 1.51766 | 13.21 | 3.69 | 1.29 | 72.61 | 0.57 | 8.22 | 0 | 0.00 | 1 |\n",
       "| 1.51742 | 13.27 | 3.62 | 1.24 | 73.08 | 0.55 | 8.07 | 0 | 0.00 | 1 |\n",
       "| 1.51596 | 12.79 | 3.61 | 1.62 | 72.97 | 0.64 | 8.07 | 0 | 0.26 | 1 |\n",
       "\n"
      ],
      "text/plain": [
       "  refractive index sodium magnesium aluminium silicon potassium calcium barium\n",
       "1 1.52101          13.64  4.49      1.10      71.78   0.06      8.75    0     \n",
       "2 1.51761          13.89  3.60      1.36      72.73   0.48      7.83    0     \n",
       "3 1.51618          13.53  3.55      1.54      72.99   0.39      7.78    0     \n",
       "4 1.51766          13.21  3.69      1.29      72.61   0.57      8.22    0     \n",
       "5 1.51742          13.27  3.62      1.24      73.08   0.55      8.07    0     \n",
       "6 1.51596          12.79  3.61      1.62      72.97   0.64      8.07    0     \n",
       "  iron type of glass\n",
       "1 0.00 1            \n",
       "2 0.00 1            \n",
       "3 0.00 1            \n",
       "4 0.00 1            \n",
       "5 0.00 1            \n",
       "6 0.26 1            "
      ]
     },
     "metadata": {},
     "output_type": "display_data"
    }
   ],
   "source": [
    "head(base_glass)"
   ]
  },
  {
   "cell_type": "markdown",
   "metadata": {
    "papermill": {
     "duration": 0.030283,
     "end_time": "2021-01-13T19:05:29.104212",
     "exception": false,
     "start_time": "2021-01-13T19:05:29.073929",
     "status": "completed"
    },
    "tags": []
   },
   "source": [
    "### Standardization of attributes. Using staggering. scale ()."
   ]
  },
  {
   "cell_type": "code",
   "execution_count": 11,
   "metadata": {
    "execution": {
     "iopub.execute_input": "2021-01-13T19:05:29.169770Z",
     "iopub.status.busy": "2021-01-13T19:05:29.169298Z",
     "iopub.status.idle": "2021-01-13T19:05:29.193736Z",
     "shell.execute_reply": "2021-01-13T19:05:29.192494Z"
    },
    "papermill": {
     "duration": 0.059595,
     "end_time": "2021-01-13T19:05:29.193860",
     "exception": false,
     "start_time": "2021-01-13T19:05:29.134265",
     "status": "completed"
    },
    "tags": []
   },
   "outputs": [
    {
     "data": {
      "text/html": [
       "<table class=\"dataframe\">\n",
       "<caption>A tibble: 6 × 10</caption>\n",
       "<thead>\n",
       "\t<tr><th scope=col>refractive index</th><th scope=col>sodium</th><th scope=col>magnesium</th><th scope=col>aluminium</th><th scope=col>silicon</th><th scope=col>potassium</th><th scope=col>calcium</th><th scope=col>barium</th><th scope=col>iron</th><th scope=col>type of glass</th></tr>\n",
       "\t<tr><th scope=col>&lt;dbl&gt;</th><th scope=col>&lt;dbl&gt;</th><th scope=col>&lt;dbl&gt;</th><th scope=col>&lt;dbl&gt;</th><th scope=col>&lt;dbl&gt;</th><th scope=col>&lt;dbl&gt;</th><th scope=col>&lt;dbl&gt;</th><th scope=col>&lt;dbl&gt;</th><th scope=col>&lt;dbl&gt;</th><th scope=col>&lt;fct&gt;</th></tr>\n",
       "</thead>\n",
       "<tbody>\n",
       "\t<tr><td> 0.8708258</td><td> 0.2842867</td><td>1.2517037</td><td>-0.6908222</td><td>-1.12444556</td><td>-0.67013422</td><td>-0.1454254</td><td>-0.3520514</td><td>-0.5850791</td><td>1</td></tr>\n",
       "\t<tr><td>-0.2487502</td><td> 0.5904328</td><td>0.6346799</td><td>-0.1700615</td><td> 0.10207972</td><td>-0.02615193</td><td>-0.7918771</td><td>-0.3520514</td><td>-0.5850791</td><td>1</td></tr>\n",
       "\t<tr><td>-0.7196308</td><td> 0.1495824</td><td>0.6000157</td><td> 0.1904651</td><td> 0.43776033</td><td>-0.16414813</td><td>-0.8270103</td><td>-0.3520514</td><td>-0.5850791</td><td>1</td></tr>\n",
       "\t<tr><td>-0.2322859</td><td>-0.2422846</td><td>0.6970756</td><td>-0.3102663</td><td>-0.05284979</td><td> 0.11184428</td><td>-0.5178378</td><td>-0.3520514</td><td>-0.5850791</td><td>1</td></tr>\n",
       "\t<tr><td>-0.3113148</td><td>-0.1688095</td><td>0.6485456</td><td>-0.4104126</td><td> 0.55395746</td><td> 0.08117845</td><td>-0.6232375</td><td>-0.3520514</td><td>-0.5850791</td><td>1</td></tr>\n",
       "\t<tr><td>-0.7920739</td><td>-0.7566101</td><td>0.6416128</td><td> 0.3506992</td><td> 0.41193874</td><td> 0.21917466</td><td>-0.6232375</td><td>-0.3520514</td><td> 2.0832652</td><td>1</td></tr>\n",
       "</tbody>\n",
       "</table>\n"
      ],
      "text/latex": [
       "A tibble: 6 × 10\n",
       "\\begin{tabular}{llllllllll}\n",
       " refractive index & sodium & magnesium & aluminium & silicon & potassium & calcium & barium & iron & type of glass\\\\\n",
       " <dbl> & <dbl> & <dbl> & <dbl> & <dbl> & <dbl> & <dbl> & <dbl> & <dbl> & <fct>\\\\\n",
       "\\hline\n",
       "\t  0.8708258 &  0.2842867 & 1.2517037 & -0.6908222 & -1.12444556 & -0.67013422 & -0.1454254 & -0.3520514 & -0.5850791 & 1\\\\\n",
       "\t -0.2487502 &  0.5904328 & 0.6346799 & -0.1700615 &  0.10207972 & -0.02615193 & -0.7918771 & -0.3520514 & -0.5850791 & 1\\\\\n",
       "\t -0.7196308 &  0.1495824 & 0.6000157 &  0.1904651 &  0.43776033 & -0.16414813 & -0.8270103 & -0.3520514 & -0.5850791 & 1\\\\\n",
       "\t -0.2322859 & -0.2422846 & 0.6970756 & -0.3102663 & -0.05284979 &  0.11184428 & -0.5178378 & -0.3520514 & -0.5850791 & 1\\\\\n",
       "\t -0.3113148 & -0.1688095 & 0.6485456 & -0.4104126 &  0.55395746 &  0.08117845 & -0.6232375 & -0.3520514 & -0.5850791 & 1\\\\\n",
       "\t -0.7920739 & -0.7566101 & 0.6416128 &  0.3506992 &  0.41193874 &  0.21917466 & -0.6232375 & -0.3520514 &  2.0832652 & 1\\\\\n",
       "\\end{tabular}\n"
      ],
      "text/markdown": [
       "\n",
       "A tibble: 6 × 10\n",
       "\n",
       "| refractive index &lt;dbl&gt; | sodium &lt;dbl&gt; | magnesium &lt;dbl&gt; | aluminium &lt;dbl&gt; | silicon &lt;dbl&gt; | potassium &lt;dbl&gt; | calcium &lt;dbl&gt; | barium &lt;dbl&gt; | iron &lt;dbl&gt; | type of glass &lt;fct&gt; |\n",
       "|---|---|---|---|---|---|---|---|---|---|\n",
       "|  0.8708258 |  0.2842867 | 1.2517037 | -0.6908222 | -1.12444556 | -0.67013422 | -0.1454254 | -0.3520514 | -0.5850791 | 1 |\n",
       "| -0.2487502 |  0.5904328 | 0.6346799 | -0.1700615 |  0.10207972 | -0.02615193 | -0.7918771 | -0.3520514 | -0.5850791 | 1 |\n",
       "| -0.7196308 |  0.1495824 | 0.6000157 |  0.1904651 |  0.43776033 | -0.16414813 | -0.8270103 | -0.3520514 | -0.5850791 | 1 |\n",
       "| -0.2322859 | -0.2422846 | 0.6970756 | -0.3102663 | -0.05284979 |  0.11184428 | -0.5178378 | -0.3520514 | -0.5850791 | 1 |\n",
       "| -0.3113148 | -0.1688095 | 0.6485456 | -0.4104126 |  0.55395746 |  0.08117845 | -0.6232375 | -0.3520514 | -0.5850791 | 1 |\n",
       "| -0.7920739 | -0.7566101 | 0.6416128 |  0.3506992 |  0.41193874 |  0.21917466 | -0.6232375 | -0.3520514 |  2.0832652 | 1 |\n",
       "\n"
      ],
      "text/plain": [
       "  refractive index sodium     magnesium aluminium  silicon     potassium  \n",
       "1  0.8708258        0.2842867 1.2517037 -0.6908222 -1.12444556 -0.67013422\n",
       "2 -0.2487502        0.5904328 0.6346799 -0.1700615  0.10207972 -0.02615193\n",
       "3 -0.7196308        0.1495824 0.6000157  0.1904651  0.43776033 -0.16414813\n",
       "4 -0.2322859       -0.2422846 0.6970756 -0.3102663 -0.05284979  0.11184428\n",
       "5 -0.3113148       -0.1688095 0.6485456 -0.4104126  0.55395746  0.08117845\n",
       "6 -0.7920739       -0.7566101 0.6416128  0.3506992  0.41193874  0.21917466\n",
       "  calcium    barium     iron       type of glass\n",
       "1 -0.1454254 -0.3520514 -0.5850791 1            \n",
       "2 -0.7918771 -0.3520514 -0.5850791 1            \n",
       "3 -0.8270103 -0.3520514 -0.5850791 1            \n",
       "4 -0.5178378 -0.3520514 -0.5850791 1            \n",
       "5 -0.6232375 -0.3520514 -0.5850791 1            \n",
       "6 -0.6232375 -0.3520514  2.0832652 1            "
      ]
     },
     "metadata": {},
     "output_type": "display_data"
    }
   ],
   "source": [
    "### usando a funçao scale()\n",
    "\n",
    "base_glass[,1:9]<-scale(base_glass[,-10])\n",
    "head(base_glass)"
   ]
  },
  {
   "cell_type": "markdown",
   "metadata": {
    "papermill": {
     "duration": 0.030523,
     "end_time": "2021-01-13T19:05:29.254784",
     "exception": false,
     "start_time": "2021-01-13T19:05:29.224261",
     "status": "completed"
    },
    "tags": []
   },
   "source": [
    "## Split database."
   ]
  },
  {
   "cell_type": "code",
   "execution_count": 12,
   "metadata": {
    "execution": {
     "iopub.execute_input": "2021-01-13T19:05:29.320051Z",
     "iopub.status.busy": "2021-01-13T19:05:29.318801Z",
     "iopub.status.idle": "2021-01-13T19:05:29.378927Z",
     "shell.execute_reply": "2021-01-13T19:05:29.376914Z"
    },
    "papermill": {
     "duration": 0.09371,
     "end_time": "2021-01-13T19:05:29.379067",
     "exception": false,
     "start_time": "2021-01-13T19:05:29.285357",
     "status": "completed"
    },
    "tags": []
   },
   "outputs": [],
   "source": [
    "library(caTools)\n",
    "set.seed(100)\n",
    "dividir<-sample.split(Y = base_glass$`type of glass`,SplitRatio = 0.70 )\n",
    "base_treinamento<-subset(x = base_glass,subset = dividir == TRUE)\n",
    "base_teste<-subset(x = base_glass,subset = dividir == FALSE)"
   ]
  },
  {
   "cell_type": "markdown",
   "metadata": {
    "papermill": {
     "duration": 0.030966,
     "end_time": "2021-01-13T19:05:29.441393",
     "exception": false,
     "start_time": "2021-01-13T19:05:29.410427",
     "status": "completed"
    },
    "tags": []
   },
   "source": [
    "## Using KNN algorithm for forecasting."
   ]
  },
  {
   "cell_type": "code",
   "execution_count": 13,
   "metadata": {
    "execution": {
     "iopub.execute_input": "2021-01-13T19:05:29.509217Z",
     "iopub.status.busy": "2021-01-13T19:05:29.508402Z",
     "iopub.status.idle": "2021-01-13T19:05:29.584292Z",
     "shell.execute_reply": "2021-01-13T19:05:29.582963Z"
    },
    "papermill": {
     "duration": 0.111627,
     "end_time": "2021-01-13T19:05:29.584433",
     "exception": false,
     "start_time": "2021-01-13T19:05:29.472806",
     "status": "completed"
    },
    "tags": []
   },
   "outputs": [
    {
     "data": {
      "text/html": [
       "<style>\n",
       ".list-inline {list-style: none; margin:0; padding: 0}\n",
       ".list-inline>li {display: inline-block}\n",
       ".list-inline>li:not(:last-child)::after {content: \"\\00b7\"; padding: 0 .5ex}\n",
       "</style>\n",
       "<ol class=list-inline><li>1</li><li>1</li><li>1</li><li>1</li><li>1</li><li>1</li><li>1</li><li>1</li><li>1</li><li>1</li><li>1</li><li>1</li><li>1</li><li>1</li><li>1</li><li>1</li><li>1</li><li>1</li><li>1</li><li>1</li></ol>\n",
       "\n",
       "<details>\n",
       "\t<summary style=display:list-item;cursor:pointer>\n",
       "\t\t<strong>Levels</strong>:\n",
       "\t</summary>\n",
       "\t<style>\n",
       "\t.list-inline {list-style: none; margin:0; padding: 0}\n",
       "\t.list-inline>li {display: inline-block}\n",
       "\t.list-inline>li:not(:last-child)::after {content: \"\\00b7\"; padding: 0 .5ex}\n",
       "\t</style>\n",
       "\t<ol class=list-inline><li>'1'</li><li>'2'</li><li>'3'</li><li>'5'</li><li>'6'</li><li>'7'</li></ol>\n",
       "</details>"
      ],
      "text/latex": [
       "\\begin{enumerate*}\n",
       "\\item 1\n",
       "\\item 1\n",
       "\\item 1\n",
       "\\item 1\n",
       "\\item 1\n",
       "\\item 1\n",
       "\\item 1\n",
       "\\item 1\n",
       "\\item 1\n",
       "\\item 1\n",
       "\\item 1\n",
       "\\item 1\n",
       "\\item 1\n",
       "\\item 1\n",
       "\\item 1\n",
       "\\item 1\n",
       "\\item 1\n",
       "\\item 1\n",
       "\\item 1\n",
       "\\item 1\n",
       "\\end{enumerate*}\n",
       "\n",
       "\\emph{Levels}: \\begin{enumerate*}\n",
       "\\item '1'\n",
       "\\item '2'\n",
       "\\item '3'\n",
       "\\item '5'\n",
       "\\item '6'\n",
       "\\item '7'\n",
       "\\end{enumerate*}\n"
      ],
      "text/markdown": [
       "1. 1\n",
       "2. 1\n",
       "3. 1\n",
       "4. 1\n",
       "5. 1\n",
       "6. 1\n",
       "7. 1\n",
       "8. 1\n",
       "9. 1\n",
       "10. 1\n",
       "11. 1\n",
       "12. 1\n",
       "13. 1\n",
       "14. 1\n",
       "15. 1\n",
       "16. 1\n",
       "17. 1\n",
       "18. 1\n",
       "19. 1\n",
       "20. 1\n",
       "\n",
       "\n",
       "\n",
       "**Levels**: 1. '1'\n",
       "2. '2'\n",
       "3. '3'\n",
       "4. '5'\n",
       "5. '6'\n",
       "6. '7'\n",
       "\n",
       "\n"
      ],
      "text/plain": [
       " [1] 1 1 1 1 1 1 1 1 1 1 1 1 1 1 1 1 1 1 1 1\n",
       "Levels: 1 2 3 5 6 7"
      ]
     },
     "metadata": {},
     "output_type": "display_data"
    }
   ],
   "source": [
    "library(class)\n",
    "previsaoKNN<-knn(train = base_treinamento,test = base_teste,cl = base_treinamento$`type of glass`,k = 1)\n",
    "head(previsaoKNN,20)"
   ]
  },
  {
   "cell_type": "markdown",
   "metadata": {
    "papermill": {
     "duration": 0.03285,
     "end_time": "2021-01-13T19:05:29.649660",
     "exception": false,
     "start_time": "2021-01-13T19:05:29.616810",
     "status": "completed"
    },
    "tags": []
   },
   "source": [
    "## Forecast accuracy."
   ]
  },
  {
   "cell_type": "code",
   "execution_count": 14,
   "metadata": {
    "execution": {
     "iopub.execute_input": "2021-01-13T19:05:29.719076Z",
     "iopub.status.busy": "2021-01-13T19:05:29.717396Z",
     "iopub.status.idle": "2021-01-13T19:05:31.670284Z",
     "shell.execute_reply": "2021-01-13T19:05:31.668927Z"
    },
    "papermill": {
     "duration": 1.98908,
     "end_time": "2021-01-13T19:05:31.670417",
     "exception": false,
     "start_time": "2021-01-13T19:05:29.681337",
     "status": "completed"
    },
    "tags": []
   },
   "outputs": [
    {
     "name": "stderr",
     "output_type": "stream",
     "text": [
      "Loading required package: lattice\n",
      "\n",
      "\n",
      "Attaching package: ‘caret’\n",
      "\n",
      "\n",
      "The following object is masked from ‘package:purrr’:\n",
      "\n",
      "    lift\n",
      "\n",
      "\n",
      "The following object is masked from ‘package:httr’:\n",
      "\n",
      "    progress\n",
      "\n",
      "\n"
     ]
    },
    {
     "data": {
      "text/plain": [
       "Confusion Matrix and Statistics\n",
       "\n",
       "           \n",
       "previsaoKNN  1  2  3  5  6  7\n",
       "          1 21  0  0  0  0  0\n",
       "          2  0 23  0  0  0  0\n",
       "          3  0  0  5  0  0  0\n",
       "          5  0  0  0  4  0  1\n",
       "          6  0  0  0  0  3  0\n",
       "          7  0  0  0  0  0  8\n",
       "\n",
       "Overall Statistics\n",
       "                                          \n",
       "               Accuracy : 0.9846          \n",
       "                 95% CI : (0.9172, 0.9996)\n",
       "    No Information Rate : 0.3538          \n",
       "    P-Value [Acc > NIR] : < 2.2e-16       \n",
       "                                          \n",
       "                  Kappa : 0.9792          \n",
       "                                          \n",
       " Mcnemar's Test P-Value : NA              \n",
       "\n",
       "Statistics by Class:\n",
       "\n",
       "                     Class: 1 Class: 2 Class: 3 Class: 5 Class: 6 Class: 7\n",
       "Sensitivity            1.0000   1.0000  1.00000  1.00000  1.00000   0.8889\n",
       "Specificity            1.0000   1.0000  1.00000  0.98361  1.00000   1.0000\n",
       "Pos Pred Value         1.0000   1.0000  1.00000  0.80000  1.00000   1.0000\n",
       "Neg Pred Value         1.0000   1.0000  1.00000  1.00000  1.00000   0.9825\n",
       "Prevalence             0.3231   0.3538  0.07692  0.06154  0.04615   0.1385\n",
       "Detection Rate         0.3231   0.3538  0.07692  0.06154  0.04615   0.1231\n",
       "Detection Prevalence   0.3231   0.3538  0.07692  0.07692  0.04615   0.1231\n",
       "Balanced Accuracy      1.0000   1.0000  1.00000  0.99180  1.00000   0.9444"
      ]
     },
     "metadata": {},
     "output_type": "display_data"
    }
   ],
   "source": [
    "library(caret)\n",
    "matriz_confusao<-table(previsaoKNN,base_teste$`type of glass`)\n",
    "\n",
    "confusionMatrix(matriz_confusao)"
   ]
  },
  {
   "cell_type": "markdown",
   "metadata": {
    "papermill": {
     "duration": 0.034161,
     "end_time": "2021-01-13T19:05:31.738792",
     "exception": false,
     "start_time": "2021-01-13T19:05:31.704631",
     "status": "completed"
    },
    "tags": []
   },
   "source": [
    "## With KNN algorithm using k = 1, we obtain an accuracy of 98.4%."
   ]
  },
  {
   "cell_type": "code",
   "execution_count": 15,
   "metadata": {
    "execution": {
     "iopub.execute_input": "2021-01-13T19:05:31.810515Z",
     "iopub.status.busy": "2021-01-13T19:05:31.808904Z",
     "iopub.status.idle": "2021-01-13T19:05:31.971224Z",
     "shell.execute_reply": "2021-01-13T19:05:31.970328Z"
    },
    "papermill": {
     "duration": 0.199793,
     "end_time": "2021-01-13T19:05:31.971376",
     "exception": false,
     "start_time": "2021-01-13T19:05:31.771583",
     "status": "completed"
    },
    "tags": []
   },
   "outputs": [],
   "source": [
    "## Base teste\n",
    "graf_base_teste<-base_teste %>% \n",
    "    ggplot()+\n",
    "        geom_bar(mapping = aes(x = `type of glass`,fill=`type of glass`),color=\"white\")+\n",
    "                ylim(0,30)+\n",
    "           ggtitle(label = \"BASE TESTE\") \n",
    "## Base teste\n",
    "previsaoKNN<-as_tibble(previsaoKNN) \n",
    "names(previsaoKNN)<-c(\"type of glass\")\n",
    "\n",
    "graf_previsaoKNN<-previsaoKNN %>%\n",
    "        ggplot()+\n",
    "         geom_bar(mapping = aes(x = `type of glass`,fill=`type of glass`),color=\"white\")+\n",
    "                ylim(0,30)+\n",
    "                   ggtitle(label = \"PREVISAO KNN -98.4%\") "
   ]
  },
  {
   "cell_type": "code",
   "execution_count": 16,
   "metadata": {
    "execution": {
     "iopub.execute_input": "2021-01-13T19:05:32.044910Z",
     "iopub.status.busy": "2021-01-13T19:05:32.043705Z",
     "iopub.status.idle": "2021-01-13T19:05:33.139846Z",
     "shell.execute_reply": "2021-01-13T19:05:33.139101Z"
    },
    "papermill": {
     "duration": 1.13416,
     "end_time": "2021-01-13T19:05:33.139984",
     "exception": false,
     "start_time": "2021-01-13T19:05:32.005824",
     "status": "completed"
    },
    "tags": []
   },
   "outputs": [
    {
     "data": {
      "image/png": "[encoded data removed]"
     },
     "metadata": {
      "image/png": {
       "height": 420,
       "width": 420
      }
     },
     "output_type": "display_data"
    }
   ],
   "source": [
    "library(cowplot) ### pacete tem função que permite plotar graficos ggplot lado alado\n",
    "plot_grid(graf_base_teste,graf_previsaoKNN,labels = \"AUTO\")"
   ]
  },
  {
   "cell_type": "markdown",
   "metadata": {
    "papermill": {
     "duration": 0.038902,
     "end_time": "2021-01-13T19:05:33.214442",
     "exception": false,
     "start_time": "2021-01-13T19:05:33.175540",
     "status": "completed"
    },
    "tags": []
   },
   "source": [
    "### Another way to put charts in comparison."
   ]
  },
  {
   "cell_type": "code",
   "execution_count": 17,
   "metadata": {
    "execution": {
     "iopub.execute_input": "2021-01-13T19:05:33.287531Z",
     "iopub.status.busy": "2021-01-13T19:05:33.286324Z",
     "iopub.status.idle": "2021-01-13T19:05:34.123628Z",
     "shell.execute_reply": "2021-01-13T19:05:34.122787Z"
    },
    "papermill": {
     "duration": 0.875391,
     "end_time": "2021-01-13T19:05:34.123764",
     "exception": false,
     "start_time": "2021-01-13T19:05:33.248373",
     "status": "completed"
    },
    "tags": []
   },
   "outputs": [
    {
     "data": {
      "image/png": "[encoded data removed]"
     },
     "metadata": {
      "image/png": {
       "height": 420,
       "width": 420
      }
     },
     "output_type": "display_data"
    }
   ],
   "source": [
    "library(gridExtra)\n",
    "grid.arrange(graf_base_teste,graf_previsaoKNN) #dplyr"
   ]
  }
 ],
 "metadata": {
  "kernelspec": {
   "display_name": "R",
   "language": "R",
   "name": "ir"
  },
  "language_info": {
   "codemirror_mode": "r",
   "file_extension": ".r",
   "mimetype": "text/x-r-source",
   "name": "R",
   "pygments_lexer": "r",
   "version": "3.6.3"
  },
  "papermill": {
   "default_parameters": {},
   "duration": 12.419221,
   "end_time": "2021-01-13T19:05:34.269420",
   "environment_variables": {},
   "exception": null,
   "input_path": "__notebook__.ipynb",
   "output_path": "__notebook__.ipynb",
   "parameters": {},
   "start_time": "2021-01-13T19:05:21.850199",
   "version": "2.2.2"
  }
 },
 "nbformat": 4,
 "nbformat_minor": 4
}
