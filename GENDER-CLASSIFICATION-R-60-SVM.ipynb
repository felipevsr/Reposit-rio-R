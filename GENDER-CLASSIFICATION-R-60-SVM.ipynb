{
 "cells": [
  {
   "cell_type": "markdown",
   "metadata": {
    "papermill": {
     "duration": 0.015723,
     "end_time": "2021-01-13T11:37:22.032285",
     "exception": false,
     "start_time": "2021-01-13T11:37:22.016562",
     "status": "completed"
    },
    "tags": []
   },
   "source": [
    "# CLASSIFIÇÃO DE GÊNERO"
   ]
  },
  {
   "cell_type": "code",
   "execution_count": 1,
   "metadata": {
    "execution": {
     "iopub.execute_input": "2021-01-13T11:37:22.092272Z",
     "iopub.status.busy": "2021-01-13T11:37:22.090459Z",
     "iopub.status.idle": "2021-01-13T11:37:25.475306Z",
     "shell.execute_reply": "2021-01-13T11:37:25.473790Z"
    },
    "papermill": {
     "duration": 3.428594,
     "end_time": "2021-01-13T11:37:25.475805",
     "exception": false,
     "start_time": "2021-01-13T11:37:22.047211",
     "status": "completed"
    },
    "tags": []
   },
   "outputs": [
    {
     "name": "stderr",
     "output_type": "stream",
     "text": [
      "── \u001b[1mAttaching packages\u001b[22m ─────────────────────────────────────── tidyverse 1.3.0 ──\n",
      "\n",
      "\u001b[32m✔\u001b[39m \u001b[34mggplot2\u001b[39m 3.3.2     \u001b[32m✔\u001b[39m \u001b[34mpurrr  \u001b[39m 0.3.4\n",
      "\u001b[32m✔\u001b[39m \u001b[34mtibble \u001b[39m 3.0.4     \u001b[32m✔\u001b[39m \u001b[34mdplyr  \u001b[39m 1.0.2\n",
      "\u001b[32m✔\u001b[39m \u001b[34mtidyr  \u001b[39m 1.1.2     \u001b[32m✔\u001b[39m \u001b[34mstringr\u001b[39m 1.4.0\n",
      "\u001b[32m✔\u001b[39m \u001b[34mreadr  \u001b[39m 1.4.0     \u001b[32m✔\u001b[39m \u001b[34mforcats\u001b[39m 0.5.0\n",
      "\n",
      "── \u001b[1mConflicts\u001b[22m ────────────────────────────────────────── tidyverse_conflicts() ──\n",
      "\u001b[31m✖\u001b[39m \u001b[34mdplyr\u001b[39m::\u001b[32mfilter()\u001b[39m masks \u001b[34mstats\u001b[39m::filter()\n",
      "\u001b[31m✖\u001b[39m \u001b[34mdplyr\u001b[39m::\u001b[32mlag()\u001b[39m    masks \u001b[34mstats\u001b[39m::lag()\n",
      "\n",
      "Loading required package: lattice\n",
      "\n",
      "\n",
      "Attaching package: ‘caret’\n",
      "\n",
      "\n",
      "The following object is masked from ‘package:purrr’:\n",
      "\n",
      "    lift\n",
      "\n",
      "\n",
      "The following object is masked from ‘package:httr’:\n",
      "\n",
      "    progress\n",
      "\n",
      "\n",
      "\n",
      "\u001b[36m──\u001b[39m \u001b[1m\u001b[1mColumn specification\u001b[1m\u001b[22m \u001b[36m────────────────────────────────────────────────────────\u001b[39m\n",
      "cols(\n",
      "  `Favorite Color` = \u001b[31mcol_character()\u001b[39m,\n",
      "  `Favorite Music Genre` = \u001b[31mcol_character()\u001b[39m,\n",
      "  `Favorite Beverage` = \u001b[31mcol_character()\u001b[39m,\n",
      "  `Favorite Soft Drink` = \u001b[31mcol_character()\u001b[39m,\n",
      "  Gender = \u001b[31mcol_character()\u001b[39m\n",
      ")\n",
      "\n",
      "\n"
     ]
    }
   ],
   "source": [
    "library(tidyverse)\n",
    "library(caret)\n",
    "base_genero<-read_csv(\"../input/gender-classification/Transformed Data Set - Sheet1.csv\")"
   ]
  },
  {
   "cell_type": "code",
   "execution_count": 2,
   "metadata": {
    "execution": {
     "iopub.execute_input": "2021-01-13T11:37:25.541769Z",
     "iopub.status.busy": "2021-01-13T11:37:25.514607Z",
     "iopub.status.idle": "2021-01-13T11:37:25.746808Z",
     "shell.execute_reply": "2021-01-13T11:37:25.745183Z"
    },
    "papermill": {
     "duration": 0.253187,
     "end_time": "2021-01-13T11:37:25.746963",
     "exception": false,
     "start_time": "2021-01-13T11:37:25.493776",
     "status": "completed"
    },
    "tags": []
   },
   "outputs": [
    {
     "data": {
      "text/html": [
       "<table class=\"dataframe\">\n",
       "<caption>A spec_tbl_df: 66 × 5</caption>\n",
       "<thead>\n",
       "\t<tr><th scope=col>Favorite Color</th><th scope=col>Favorite Music Genre</th><th scope=col>Favorite Beverage</th><th scope=col>Favorite Soft Drink</th><th scope=col>Gender</th></tr>\n",
       "\t<tr><th scope=col>&lt;chr&gt;</th><th scope=col>&lt;chr&gt;</th><th scope=col>&lt;chr&gt;</th><th scope=col>&lt;chr&gt;</th><th scope=col>&lt;chr&gt;</th></tr>\n",
       "</thead>\n",
       "<tbody>\n",
       "\t<tr><td>Cool   </td><td>Rock            </td><td>Vodka        </td><td>7UP/Sprite     </td><td>F</td></tr>\n",
       "\t<tr><td>Neutral</td><td>Hip hop         </td><td>Vodka        </td><td>Coca Cola/Pepsi</td><td>F</td></tr>\n",
       "\t<tr><td>Warm   </td><td>Rock            </td><td>Wine         </td><td>Coca Cola/Pepsi</td><td>F</td></tr>\n",
       "\t<tr><td>Warm   </td><td>Folk/Traditional</td><td>Whiskey      </td><td>Fanta          </td><td>F</td></tr>\n",
       "\t<tr><td>Cool   </td><td>Rock            </td><td>Vodka        </td><td>Coca Cola/Pepsi</td><td>F</td></tr>\n",
       "\t<tr><td>Warm   </td><td>Jazz/Blues      </td><td>Doesn't drink</td><td>Fanta          </td><td>F</td></tr>\n",
       "\t<tr><td>Cool   </td><td>Pop             </td><td>Beer         </td><td>Coca Cola/Pepsi</td><td>F</td></tr>\n",
       "\t<tr><td>Warm   </td><td>Pop             </td><td>Whiskey      </td><td>Fanta          </td><td>F</td></tr>\n",
       "\t<tr><td>Warm   </td><td>Rock            </td><td>Other        </td><td>7UP/Sprite     </td><td>F</td></tr>\n",
       "\t<tr><td>Neutral</td><td>Pop             </td><td>Wine         </td><td>Coca Cola/Pepsi</td><td>F</td></tr>\n",
       "\t<tr><td>Cool   </td><td>Pop             </td><td>Other        </td><td>7UP/Sprite     </td><td>F</td></tr>\n",
       "\t<tr><td>Warm   </td><td>Pop             </td><td>Other        </td><td>7UP/Sprite     </td><td>F</td></tr>\n",
       "\t<tr><td>Warm   </td><td>Pop             </td><td>Wine         </td><td>7UP/Sprite     </td><td>F</td></tr>\n",
       "\t<tr><td>Warm   </td><td>Electronic      </td><td>Wine         </td><td>Coca Cola/Pepsi</td><td>F</td></tr>\n",
       "\t<tr><td>Cool   </td><td>Rock            </td><td>Beer         </td><td>Coca Cola/Pepsi</td><td>F</td></tr>\n",
       "\t<tr><td>Warm   </td><td>Jazz/Blues      </td><td>Wine         </td><td>Coca Cola/Pepsi</td><td>F</td></tr>\n",
       "\t<tr><td>Cool   </td><td>Pop             </td><td>Wine         </td><td>7UP/Sprite     </td><td>F</td></tr>\n",
       "\t<tr><td>Cool   </td><td>Rock            </td><td>Other        </td><td>Coca Cola/Pepsi</td><td>F</td></tr>\n",
       "\t<tr><td>Cool   </td><td>Rock            </td><td>Other        </td><td>Coca Cola/Pepsi</td><td>F</td></tr>\n",
       "\t<tr><td>Cool   </td><td>Pop             </td><td>Doesn't drink</td><td>7UP/Sprite     </td><td>F</td></tr>\n",
       "\t<tr><td>Cool   </td><td>Pop             </td><td>Beer         </td><td>Fanta          </td><td>F</td></tr>\n",
       "\t<tr><td>Warm   </td><td>Jazz/Blues      </td><td>Whiskey      </td><td>Fanta          </td><td>F</td></tr>\n",
       "\t<tr><td>Cool   </td><td>Rock            </td><td>Vodka        </td><td>Coca Cola/Pepsi</td><td>F</td></tr>\n",
       "\t<tr><td>Warm   </td><td>Pop             </td><td>Other        </td><td>Coca Cola/Pepsi</td><td>F</td></tr>\n",
       "\t<tr><td>Cool   </td><td>Folk/Traditional</td><td>Whiskey      </td><td>7UP/Sprite     </td><td>F</td></tr>\n",
       "\t<tr><td><span style=white-space:pre-wrap>Warm   </span></td><td><span style=white-space:pre-wrap>R&amp;B and soul    </span></td><td><span style=white-space:pre-wrap>Whiskey      </span></td><td>Coca Cola/Pepsi</td><td>F</td></tr>\n",
       "\t<tr><td>Cool   </td><td>Pop             </td><td>Beer         </td><td>Other          </td><td>F</td></tr>\n",
       "\t<tr><td>Cool   </td><td>Pop             </td><td>Doesn't drink</td><td>Other          </td><td>F</td></tr>\n",
       "\t<tr><td>Cool   </td><td>Pop             </td><td>Doesn't drink</td><td>Coca Cola/Pepsi</td><td>F</td></tr>\n",
       "\t<tr><td>Cool   </td><td>Electronic      </td><td>Doesn't drink</td><td>Fanta          </td><td>F</td></tr>\n",
       "\t<tr><td>⋮</td><td>⋮</td><td>⋮</td><td>⋮</td><td>⋮</td></tr>\n",
       "\t<tr><td>Neutral</td><td>Rock            </td><td>Doesn't drink</td><td>Coca Cola/Pepsi</td><td>M</td></tr>\n",
       "\t<tr><td>Cool   </td><td>Pop             </td><td>Other        </td><td>Fanta          </td><td>M</td></tr>\n",
       "\t<tr><td>Cool   </td><td>Pop             </td><td>Whiskey      </td><td>Fanta          </td><td>M</td></tr>\n",
       "\t<tr><td>Warm   </td><td>Rock            </td><td>Vodka        </td><td>7UP/Sprite     </td><td>M</td></tr>\n",
       "\t<tr><td>Cool   </td><td>Rock            </td><td>Vodka        </td><td>Coca Cola/Pepsi</td><td>M</td></tr>\n",
       "\t<tr><td>Neutral</td><td>Pop             </td><td>Doesn't drink</td><td>7UP/Sprite     </td><td>M</td></tr>\n",
       "\t<tr><td><span style=white-space:pre-wrap>Warm   </span></td><td><span style=white-space:pre-wrap>R&amp;B and soul    </span></td><td>Doesn't drink</td><td>Coca Cola/Pepsi</td><td>M</td></tr>\n",
       "\t<tr><td>Cool   </td><td>Rock            </td><td>Wine         </td><td>7UP/Sprite     </td><td>M</td></tr>\n",
       "\t<tr><td>Cool   </td><td>Folk/Traditional</td><td>Beer         </td><td>Other          </td><td>M</td></tr>\n",
       "\t<tr><td>Cool   </td><td>Hip hop         </td><td>Beer         </td><td>Coca Cola/Pepsi</td><td>M</td></tr>\n",
       "\t<tr><td>Cool   </td><td>Hip hop         </td><td>Wine         </td><td>Coca Cola/Pepsi</td><td>M</td></tr>\n",
       "\t<tr><td><span style=white-space:pre-wrap>Cool   </span></td><td><span style=white-space:pre-wrap>R&amp;B and soul    </span></td><td><span style=white-space:pre-wrap>Whiskey      </span></td><td><span style=white-space:pre-wrap>7UP/Sprite     </span></td><td>M</td></tr>\n",
       "\t<tr><td>Cool   </td><td>Rock            </td><td>Doesn't drink</td><td>Other          </td><td>M</td></tr>\n",
       "\t<tr><td>Warm   </td><td>Hip hop         </td><td>Beer         </td><td>Coca Cola/Pepsi</td><td>M</td></tr>\n",
       "\t<tr><td><span style=white-space:pre-wrap>Cool   </span></td><td><span style=white-space:pre-wrap>R&amp;B and soul    </span></td><td>Doesn't drink</td><td>Coca Cola/Pepsi</td><td>M</td></tr>\n",
       "\t<tr><td>Cool   </td><td>Rock            </td><td>Doesn't drink</td><td>Coca Cola/Pepsi</td><td>M</td></tr>\n",
       "\t<tr><td>Cool   </td><td>Hip hop         </td><td>Doesn't drink</td><td>Other          </td><td>M</td></tr>\n",
       "\t<tr><td>Warm   </td><td>Rock            </td><td>Beer         </td><td>Fanta          </td><td>M</td></tr>\n",
       "\t<tr><td>Cool   </td><td>Electronic      </td><td>Doesn't drink</td><td>Fanta          </td><td>M</td></tr>\n",
       "\t<tr><td>Cool   </td><td>Electronic      </td><td>Other        </td><td>Fanta          </td><td>M</td></tr>\n",
       "\t<tr><td>Warm   </td><td>Folk/Traditional</td><td>Other        </td><td>Fanta          </td><td>M</td></tr>\n",
       "\t<tr><td>Warm   </td><td>Electronic      </td><td>Vodka        </td><td>Fanta          </td><td>M</td></tr>\n",
       "\t<tr><td>Warm   </td><td>Jazz/Blues      </td><td>Vodka        </td><td>Coca Cola/Pepsi</td><td>M</td></tr>\n",
       "\t<tr><td>Cool   </td><td>Pop             </td><td>Whiskey      </td><td>Other          </td><td>M</td></tr>\n",
       "\t<tr><td>Cool   </td><td>Electronic      </td><td>Whiskey      </td><td>Coca Cola/Pepsi</td><td>M</td></tr>\n",
       "\t<tr><td>Cool   </td><td>Rock            </td><td>Vodka        </td><td>Coca Cola/Pepsi</td><td>M</td></tr>\n",
       "\t<tr><td>Cool   </td><td>Hip hop         </td><td>Beer         </td><td>Coca Cola/Pepsi</td><td>M</td></tr>\n",
       "\t<tr><td>Neutral</td><td>Hip hop         </td><td>Doesn't drink</td><td>Fanta          </td><td>M</td></tr>\n",
       "\t<tr><td>Cool   </td><td>Rock            </td><td>Wine         </td><td>Coca Cola/Pepsi</td><td>M</td></tr>\n",
       "\t<tr><td>Cool   </td><td>Electronic      </td><td>Beer         </td><td>Coca Cola/Pepsi</td><td>M</td></tr>\n",
       "</tbody>\n",
       "</table>\n"
      ],
      "text/latex": [
       "A spec\\_tbl\\_df: 66 × 5\n",
       "\\begin{tabular}{lllll}\n",
       " Favorite Color & Favorite Music Genre & Favorite Beverage & Favorite Soft Drink & Gender\\\\\n",
       " <chr> & <chr> & <chr> & <chr> & <chr>\\\\\n",
       "\\hline\n",
       "\t Cool    & Rock             & Vodka         & 7UP/Sprite      & F\\\\\n",
       "\t Neutral & Hip hop          & Vodka         & Coca Cola/Pepsi & F\\\\\n",
       "\t Warm    & Rock             & Wine          & Coca Cola/Pepsi & F\\\\\n",
       "\t Warm    & Folk/Traditional & Whiskey       & Fanta           & F\\\\\n",
       "\t Cool    & Rock             & Vodka         & Coca Cola/Pepsi & F\\\\\n",
       "\t Warm    & Jazz/Blues       & Doesn't drink & Fanta           & F\\\\\n",
       "\t Cool    & Pop              & Beer          & Coca Cola/Pepsi & F\\\\\n",
       "\t Warm    & Pop              & Whiskey       & Fanta           & F\\\\\n",
       "\t Warm    & Rock             & Other         & 7UP/Sprite      & F\\\\\n",
       "\t Neutral & Pop              & Wine          & Coca Cola/Pepsi & F\\\\\n",
       "\t Cool    & Pop              & Other         & 7UP/Sprite      & F\\\\\n",
       "\t Warm    & Pop              & Other         & 7UP/Sprite      & F\\\\\n",
       "\t Warm    & Pop              & Wine          & 7UP/Sprite      & F\\\\\n",
       "\t Warm    & Electronic       & Wine          & Coca Cola/Pepsi & F\\\\\n",
       "\t Cool    & Rock             & Beer          & Coca Cola/Pepsi & F\\\\\n",
       "\t Warm    & Jazz/Blues       & Wine          & Coca Cola/Pepsi & F\\\\\n",
       "\t Cool    & Pop              & Wine          & 7UP/Sprite      & F\\\\\n",
       "\t Cool    & Rock             & Other         & Coca Cola/Pepsi & F\\\\\n",
       "\t Cool    & Rock             & Other         & Coca Cola/Pepsi & F\\\\\n",
       "\t Cool    & Pop              & Doesn't drink & 7UP/Sprite      & F\\\\\n",
       "\t Cool    & Pop              & Beer          & Fanta           & F\\\\\n",
       "\t Warm    & Jazz/Blues       & Whiskey       & Fanta           & F\\\\\n",
       "\t Cool    & Rock             & Vodka         & Coca Cola/Pepsi & F\\\\\n",
       "\t Warm    & Pop              & Other         & Coca Cola/Pepsi & F\\\\\n",
       "\t Cool    & Folk/Traditional & Whiskey       & 7UP/Sprite      & F\\\\\n",
       "\t Warm    & R\\&B and soul     & Whiskey       & Coca Cola/Pepsi & F\\\\\n",
       "\t Cool    & Pop              & Beer          & Other           & F\\\\\n",
       "\t Cool    & Pop              & Doesn't drink & Other           & F\\\\\n",
       "\t Cool    & Pop              & Doesn't drink & Coca Cola/Pepsi & F\\\\\n",
       "\t Cool    & Electronic       & Doesn't drink & Fanta           & F\\\\\n",
       "\t ⋮ & ⋮ & ⋮ & ⋮ & ⋮\\\\\n",
       "\t Neutral & Rock             & Doesn't drink & Coca Cola/Pepsi & M\\\\\n",
       "\t Cool    & Pop              & Other         & Fanta           & M\\\\\n",
       "\t Cool    & Pop              & Whiskey       & Fanta           & M\\\\\n",
       "\t Warm    & Rock             & Vodka         & 7UP/Sprite      & M\\\\\n",
       "\t Cool    & Rock             & Vodka         & Coca Cola/Pepsi & M\\\\\n",
       "\t Neutral & Pop              & Doesn't drink & 7UP/Sprite      & M\\\\\n",
       "\t Warm    & R\\&B and soul     & Doesn't drink & Coca Cola/Pepsi & M\\\\\n",
       "\t Cool    & Rock             & Wine          & 7UP/Sprite      & M\\\\\n",
       "\t Cool    & Folk/Traditional & Beer          & Other           & M\\\\\n",
       "\t Cool    & Hip hop          & Beer          & Coca Cola/Pepsi & M\\\\\n",
       "\t Cool    & Hip hop          & Wine          & Coca Cola/Pepsi & M\\\\\n",
       "\t Cool    & R\\&B and soul     & Whiskey       & 7UP/Sprite      & M\\\\\n",
       "\t Cool    & Rock             & Doesn't drink & Other           & M\\\\\n",
       "\t Warm    & Hip hop          & Beer          & Coca Cola/Pepsi & M\\\\\n",
       "\t Cool    & R\\&B and soul     & Doesn't drink & Coca Cola/Pepsi & M\\\\\n",
       "\t Cool    & Rock             & Doesn't drink & Coca Cola/Pepsi & M\\\\\n",
       "\t Cool    & Hip hop          & Doesn't drink & Other           & M\\\\\n",
       "\t Warm    & Rock             & Beer          & Fanta           & M\\\\\n",
       "\t Cool    & Electronic       & Doesn't drink & Fanta           & M\\\\\n",
       "\t Cool    & Electronic       & Other         & Fanta           & M\\\\\n",
       "\t Warm    & Folk/Traditional & Other         & Fanta           & M\\\\\n",
       "\t Warm    & Electronic       & Vodka         & Fanta           & M\\\\\n",
       "\t Warm    & Jazz/Blues       & Vodka         & Coca Cola/Pepsi & M\\\\\n",
       "\t Cool    & Pop              & Whiskey       & Other           & M\\\\\n",
       "\t Cool    & Electronic       & Whiskey       & Coca Cola/Pepsi & M\\\\\n",
       "\t Cool    & Rock             & Vodka         & Coca Cola/Pepsi & M\\\\\n",
       "\t Cool    & Hip hop          & Beer          & Coca Cola/Pepsi & M\\\\\n",
       "\t Neutral & Hip hop          & Doesn't drink & Fanta           & M\\\\\n",
       "\t Cool    & Rock             & Wine          & Coca Cola/Pepsi & M\\\\\n",
       "\t Cool    & Electronic       & Beer          & Coca Cola/Pepsi & M\\\\\n",
       "\\end{tabular}\n"
      ],
      "text/markdown": [
       "\n",
       "A spec_tbl_df: 66 × 5\n",
       "\n",
       "| Favorite Color &lt;chr&gt; | Favorite Music Genre &lt;chr&gt; | Favorite Beverage &lt;chr&gt; | Favorite Soft Drink &lt;chr&gt; | Gender &lt;chr&gt; |\n",
       "|---|---|---|---|---|\n",
       "| Cool    | Rock             | Vodka         | 7UP/Sprite      | F |\n",
       "| Neutral | Hip hop          | Vodka         | Coca Cola/Pepsi | F |\n",
       "| Warm    | Rock             | Wine          | Coca Cola/Pepsi | F |\n",
       "| Warm    | Folk/Traditional | Whiskey       | Fanta           | F |\n",
       "| Cool    | Rock             | Vodka         | Coca Cola/Pepsi | F |\n",
       "| Warm    | Jazz/Blues       | Doesn't drink | Fanta           | F |\n",
       "| Cool    | Pop              | Beer          | Coca Cola/Pepsi | F |\n",
       "| Warm    | Pop              | Whiskey       | Fanta           | F |\n",
       "| Warm    | Rock             | Other         | 7UP/Sprite      | F |\n",
       "| Neutral | Pop              | Wine          | Coca Cola/Pepsi | F |\n",
       "| Cool    | Pop              | Other         | 7UP/Sprite      | F |\n",
       "| Warm    | Pop              | Other         | 7UP/Sprite      | F |\n",
       "| Warm    | Pop              | Wine          | 7UP/Sprite      | F |\n",
       "| Warm    | Electronic       | Wine          | Coca Cola/Pepsi | F |\n",
       "| Cool    | Rock             | Beer          | Coca Cola/Pepsi | F |\n",
       "| Warm    | Jazz/Blues       | Wine          | Coca Cola/Pepsi | F |\n",
       "| Cool    | Pop              | Wine          | 7UP/Sprite      | F |\n",
       "| Cool    | Rock             | Other         | Coca Cola/Pepsi | F |\n",
       "| Cool    | Rock             | Other         | Coca Cola/Pepsi | F |\n",
       "| Cool    | Pop              | Doesn't drink | 7UP/Sprite      | F |\n",
       "| Cool    | Pop              | Beer          | Fanta           | F |\n",
       "| Warm    | Jazz/Blues       | Whiskey       | Fanta           | F |\n",
       "| Cool    | Rock             | Vodka         | Coca Cola/Pepsi | F |\n",
       "| Warm    | Pop              | Other         | Coca Cola/Pepsi | F |\n",
       "| Cool    | Folk/Traditional | Whiskey       | 7UP/Sprite      | F |\n",
       "| Warm    | R&amp;B and soul     | Whiskey       | Coca Cola/Pepsi | F |\n",
       "| Cool    | Pop              | Beer          | Other           | F |\n",
       "| Cool    | Pop              | Doesn't drink | Other           | F |\n",
       "| Cool    | Pop              | Doesn't drink | Coca Cola/Pepsi | F |\n",
       "| Cool    | Electronic       | Doesn't drink | Fanta           | F |\n",
       "| ⋮ | ⋮ | ⋮ | ⋮ | ⋮ |\n",
       "| Neutral | Rock             | Doesn't drink | Coca Cola/Pepsi | M |\n",
       "| Cool    | Pop              | Other         | Fanta           | M |\n",
       "| Cool    | Pop              | Whiskey       | Fanta           | M |\n",
       "| Warm    | Rock             | Vodka         | 7UP/Sprite      | M |\n",
       "| Cool    | Rock             | Vodka         | Coca Cola/Pepsi | M |\n",
       "| Neutral | Pop              | Doesn't drink | 7UP/Sprite      | M |\n",
       "| Warm    | R&amp;B and soul     | Doesn't drink | Coca Cola/Pepsi | M |\n",
       "| Cool    | Rock             | Wine          | 7UP/Sprite      | M |\n",
       "| Cool    | Folk/Traditional | Beer          | Other           | M |\n",
       "| Cool    | Hip hop          | Beer          | Coca Cola/Pepsi | M |\n",
       "| Cool    | Hip hop          | Wine          | Coca Cola/Pepsi | M |\n",
       "| Cool    | R&amp;B and soul     | Whiskey       | 7UP/Sprite      | M |\n",
       "| Cool    | Rock             | Doesn't drink | Other           | M |\n",
       "| Warm    | Hip hop          | Beer          | Coca Cola/Pepsi | M |\n",
       "| Cool    | R&amp;B and soul     | Doesn't drink | Coca Cola/Pepsi | M |\n",
       "| Cool    | Rock             | Doesn't drink | Coca Cola/Pepsi | M |\n",
       "| Cool    | Hip hop          | Doesn't drink | Other           | M |\n",
       "| Warm    | Rock             | Beer          | Fanta           | M |\n",
       "| Cool    | Electronic       | Doesn't drink | Fanta           | M |\n",
       "| Cool    | Electronic       | Other         | Fanta           | M |\n",
       "| Warm    | Folk/Traditional | Other         | Fanta           | M |\n",
       "| Warm    | Electronic       | Vodka         | Fanta           | M |\n",
       "| Warm    | Jazz/Blues       | Vodka         | Coca Cola/Pepsi | M |\n",
       "| Cool    | Pop              | Whiskey       | Other           | M |\n",
       "| Cool    | Electronic       | Whiskey       | Coca Cola/Pepsi | M |\n",
       "| Cool    | Rock             | Vodka         | Coca Cola/Pepsi | M |\n",
       "| Cool    | Hip hop          | Beer          | Coca Cola/Pepsi | M |\n",
       "| Neutral | Hip hop          | Doesn't drink | Fanta           | M |\n",
       "| Cool    | Rock             | Wine          | Coca Cola/Pepsi | M |\n",
       "| Cool    | Electronic       | Beer          | Coca Cola/Pepsi | M |\n",
       "\n"
      ],
      "text/plain": [
       "   Favorite Color Favorite Music Genre Favorite Beverage Favorite Soft Drink\n",
       "1  Cool           Rock                 Vodka             7UP/Sprite         \n",
       "2  Neutral        Hip hop              Vodka             Coca Cola/Pepsi    \n",
       "3  Warm           Rock                 Wine              Coca Cola/Pepsi    \n",
       "4  Warm           Folk/Traditional     Whiskey           Fanta              \n",
       "5  Cool           Rock                 Vodka             Coca Cola/Pepsi    \n",
       "6  Warm           Jazz/Blues           Doesn't drink     Fanta              \n",
       "7  Cool           Pop                  Beer              Coca Cola/Pepsi    \n",
       "8  Warm           Pop                  Whiskey           Fanta              \n",
       "9  Warm           Rock                 Other             7UP/Sprite         \n",
       "10 Neutral        Pop                  Wine              Coca Cola/Pepsi    \n",
       "11 Cool           Pop                  Other             7UP/Sprite         \n",
       "12 Warm           Pop                  Other             7UP/Sprite         \n",
       "13 Warm           Pop                  Wine              7UP/Sprite         \n",
       "14 Warm           Electronic           Wine              Coca Cola/Pepsi    \n",
       "15 Cool           Rock                 Beer              Coca Cola/Pepsi    \n",
       "16 Warm           Jazz/Blues           Wine              Coca Cola/Pepsi    \n",
       "17 Cool           Pop                  Wine              7UP/Sprite         \n",
       "18 Cool           Rock                 Other             Coca Cola/Pepsi    \n",
       "19 Cool           Rock                 Other             Coca Cola/Pepsi    \n",
       "20 Cool           Pop                  Doesn't drink     7UP/Sprite         \n",
       "21 Cool           Pop                  Beer              Fanta              \n",
       "22 Warm           Jazz/Blues           Whiskey           Fanta              \n",
       "23 Cool           Rock                 Vodka             Coca Cola/Pepsi    \n",
       "24 Warm           Pop                  Other             Coca Cola/Pepsi    \n",
       "25 Cool           Folk/Traditional     Whiskey           7UP/Sprite         \n",
       "26 Warm           R&B and soul         Whiskey           Coca Cola/Pepsi    \n",
       "27 Cool           Pop                  Beer              Other              \n",
       "28 Cool           Pop                  Doesn't drink     Other              \n",
       "29 Cool           Pop                  Doesn't drink     Coca Cola/Pepsi    \n",
       "30 Cool           Electronic           Doesn't drink     Fanta              \n",
       "⋮  ⋮              ⋮                    ⋮                 ⋮                  \n",
       "37 Neutral        Rock                 Doesn't drink     Coca Cola/Pepsi    \n",
       "38 Cool           Pop                  Other             Fanta              \n",
       "39 Cool           Pop                  Whiskey           Fanta              \n",
       "40 Warm           Rock                 Vodka             7UP/Sprite         \n",
       "41 Cool           Rock                 Vodka             Coca Cola/Pepsi    \n",
       "42 Neutral        Pop                  Doesn't drink     7UP/Sprite         \n",
       "43 Warm           R&B and soul         Doesn't drink     Coca Cola/Pepsi    \n",
       "44 Cool           Rock                 Wine              7UP/Sprite         \n",
       "45 Cool           Folk/Traditional     Beer              Other              \n",
       "46 Cool           Hip hop              Beer              Coca Cola/Pepsi    \n",
       "47 Cool           Hip hop              Wine              Coca Cola/Pepsi    \n",
       "48 Cool           R&B and soul         Whiskey           7UP/Sprite         \n",
       "49 Cool           Rock                 Doesn't drink     Other              \n",
       "50 Warm           Hip hop              Beer              Coca Cola/Pepsi    \n",
       "51 Cool           R&B and soul         Doesn't drink     Coca Cola/Pepsi    \n",
       "52 Cool           Rock                 Doesn't drink     Coca Cola/Pepsi    \n",
       "53 Cool           Hip hop              Doesn't drink     Other              \n",
       "54 Warm           Rock                 Beer              Fanta              \n",
       "55 Cool           Electronic           Doesn't drink     Fanta              \n",
       "56 Cool           Electronic           Other             Fanta              \n",
       "57 Warm           Folk/Traditional     Other             Fanta              \n",
       "58 Warm           Electronic           Vodka             Fanta              \n",
       "59 Warm           Jazz/Blues           Vodka             Coca Cola/Pepsi    \n",
       "60 Cool           Pop                  Whiskey           Other              \n",
       "61 Cool           Electronic           Whiskey           Coca Cola/Pepsi    \n",
       "62 Cool           Rock                 Vodka             Coca Cola/Pepsi    \n",
       "63 Cool           Hip hop              Beer              Coca Cola/Pepsi    \n",
       "64 Neutral        Hip hop              Doesn't drink     Fanta              \n",
       "65 Cool           Rock                 Wine              Coca Cola/Pepsi    \n",
       "66 Cool           Electronic           Beer              Coca Cola/Pepsi    \n",
       "   Gender\n",
       "1  F     \n",
       "2  F     \n",
       "3  F     \n",
       "4  F     \n",
       "5  F     \n",
       "6  F     \n",
       "7  F     \n",
       "8  F     \n",
       "9  F     \n",
       "10 F     \n",
       "11 F     \n",
       "12 F     \n",
       "13 F     \n",
       "14 F     \n",
       "15 F     \n",
       "16 F     \n",
       "17 F     \n",
       "18 F     \n",
       "19 F     \n",
       "20 F     \n",
       "21 F     \n",
       "22 F     \n",
       "23 F     \n",
       "24 F     \n",
       "25 F     \n",
       "26 F     \n",
       "27 F     \n",
       "28 F     \n",
       "29 F     \n",
       "30 F     \n",
       "⋮  ⋮     \n",
       "37 M     \n",
       "38 M     \n",
       "39 M     \n",
       "40 M     \n",
       "41 M     \n",
       "42 M     \n",
       "43 M     \n",
       "44 M     \n",
       "45 M     \n",
       "46 M     \n",
       "47 M     \n",
       "48 M     \n",
       "49 M     \n",
       "50 M     \n",
       "51 M     \n",
       "52 M     \n",
       "53 M     \n",
       "54 M     \n",
       "55 M     \n",
       "56 M     \n",
       "57 M     \n",
       "58 M     \n",
       "59 M     \n",
       "60 M     \n",
       "61 M     \n",
       "62 M     \n",
       "63 M     \n",
       "64 M     \n",
       "65 M     \n",
       "66 M     "
      ]
     },
     "metadata": {},
     "output_type": "display_data"
    }
   ],
   "source": [
    "base_genero"
   ]
  },
  {
   "cell_type": "markdown",
   "metadata": {
    "papermill": {
     "duration": 0.018532,
     "end_time": "2021-01-13T11:37:25.784174",
     "exception": false,
     "start_time": "2021-01-13T11:37:25.765642",
     "status": "completed"
    },
    "tags": []
   },
   "source": [
    "### CATEGORIZANDO VARIVEIS"
   ]
  },
  {
   "cell_type": "code",
   "execution_count": 3,
   "metadata": {
    "execution": {
     "iopub.execute_input": "2021-01-13T11:37:25.825855Z",
     "iopub.status.busy": "2021-01-13T11:37:25.824343Z",
     "iopub.status.idle": "2021-01-13T11:37:25.839922Z",
     "shell.execute_reply": "2021-01-13T11:37:25.838874Z"
    },
    "papermill": {
     "duration": 0.037787,
     "end_time": "2021-01-13T11:37:25.840065",
     "exception": false,
     "start_time": "2021-01-13T11:37:25.802278",
     "status": "completed"
    },
    "tags": []
   },
   "outputs": [
    {
     "data": {
      "text/html": [
       "<style>\n",
       ".list-inline {list-style: none; margin:0; padding: 0}\n",
       ".list-inline>li {display: inline-block}\n",
       ".list-inline>li:not(:last-child)::after {content: \"\\00b7\"; padding: 0 .5ex}\n",
       "</style>\n",
       "<ol class=list-inline><li>'Favorite Color'</li><li>'Favorite Music Genre'</li><li>'Favorite Beverage'</li><li>'Favorite Soft Drink'</li><li>'Gender'</li></ol>\n"
      ],
      "text/latex": [
       "\\begin{enumerate*}\n",
       "\\item 'Favorite Color'\n",
       "\\item 'Favorite Music Genre'\n",
       "\\item 'Favorite Beverage'\n",
       "\\item 'Favorite Soft Drink'\n",
       "\\item 'Gender'\n",
       "\\end{enumerate*}\n"
      ],
      "text/markdown": [
       "1. 'Favorite Color'\n",
       "2. 'Favorite Music Genre'\n",
       "3. 'Favorite Beverage'\n",
       "4. 'Favorite Soft Drink'\n",
       "5. 'Gender'\n",
       "\n",
       "\n"
      ],
      "text/plain": [
       "[1] \"Favorite Color\"       \"Favorite Music Genre\" \"Favorite Beverage\"   \n",
       "[4] \"Favorite Soft Drink\"  \"Gender\"              "
      ]
     },
     "metadata": {},
     "output_type": "display_data"
    }
   ],
   "source": [
    "names(base_genero)"
   ]
  },
  {
   "cell_type": "code",
   "execution_count": 4,
   "metadata": {
    "execution": {
     "iopub.execute_input": "2021-01-13T11:37:25.884016Z",
     "iopub.status.busy": "2021-01-13T11:37:25.882731Z",
     "iopub.status.idle": "2021-01-13T11:37:25.904090Z",
     "shell.execute_reply": "2021-01-13T11:37:25.903188Z"
    },
    "papermill": {
     "duration": 0.04503,
     "end_time": "2021-01-13T11:37:25.904269",
     "exception": false,
     "start_time": "2021-01-13T11:37:25.859239",
     "status": "completed"
    },
    "tags": []
   },
   "outputs": [],
   "source": [
    "base_genero$`Favorite Color`<-as_factor(base_genero$`Favorite Color`)\n",
    "base_genero$`Favorite Music Genre`<-as_factor(base_genero$`Favorite Music Genre`)\n",
    "base_genero$`Favorite Beverage`<-as_factor(base_genero$`Favorite Beverage`)\n",
    "base_genero$`Favorite Soft Drink`<-as_factor(base_genero$`Favorite Soft Drink`)\n",
    "base_genero$Gender<-as_factor(base_genero$Gender)\n"
   ]
  },
  {
   "cell_type": "code",
   "execution_count": 5,
   "metadata": {
    "collapsed": true,
    "execution": {
     "iopub.execute_input": "2021-01-13T11:37:25.948694Z",
     "iopub.status.busy": "2021-01-13T11:37:25.947675Z",
     "iopub.status.idle": "2021-01-13T11:37:26.012892Z",
     "shell.execute_reply": "2021-01-13T11:37:26.011840Z"
    },
    "papermill": {
     "duration": 0.088602,
     "end_time": "2021-01-13T11:37:26.013047",
     "exception": false,
     "start_time": "2021-01-13T11:37:25.924445",
     "status": "completed"
    },
    "tags": []
   },
   "outputs": [
    {
     "data": {
      "text/html": [
       "<table class=\"dataframe\">\n",
       "<caption>A spec_tbl_df: 66 × 5</caption>\n",
       "<thead>\n",
       "\t<tr><th scope=col>Favorite Color</th><th scope=col>Favorite Music Genre</th><th scope=col>Favorite Beverage</th><th scope=col>Favorite Soft Drink</th><th scope=col>Gender</th></tr>\n",
       "\t<tr><th scope=col>&lt;fct&gt;</th><th scope=col>&lt;fct&gt;</th><th scope=col>&lt;fct&gt;</th><th scope=col>&lt;fct&gt;</th><th scope=col>&lt;fct&gt;</th></tr>\n",
       "</thead>\n",
       "<tbody>\n",
       "\t<tr><td>Cool   </td><td>Rock            </td><td>Vodka        </td><td>7UP/Sprite     </td><td>F</td></tr>\n",
       "\t<tr><td>Neutral</td><td>Hip hop         </td><td>Vodka        </td><td>Coca Cola/Pepsi</td><td>F</td></tr>\n",
       "\t<tr><td>Warm   </td><td>Rock            </td><td>Wine         </td><td>Coca Cola/Pepsi</td><td>F</td></tr>\n",
       "\t<tr><td>Warm   </td><td>Folk/Traditional</td><td>Whiskey      </td><td>Fanta          </td><td>F</td></tr>\n",
       "\t<tr><td>Cool   </td><td>Rock            </td><td>Vodka        </td><td>Coca Cola/Pepsi</td><td>F</td></tr>\n",
       "\t<tr><td>Warm   </td><td>Jazz/Blues      </td><td>Doesn't drink</td><td>Fanta          </td><td>F</td></tr>\n",
       "\t<tr><td>Cool   </td><td>Pop             </td><td>Beer         </td><td>Coca Cola/Pepsi</td><td>F</td></tr>\n",
       "\t<tr><td>Warm   </td><td>Pop             </td><td>Whiskey      </td><td>Fanta          </td><td>F</td></tr>\n",
       "\t<tr><td>Warm   </td><td>Rock            </td><td>Other        </td><td>7UP/Sprite     </td><td>F</td></tr>\n",
       "\t<tr><td>Neutral</td><td>Pop             </td><td>Wine         </td><td>Coca Cola/Pepsi</td><td>F</td></tr>\n",
       "\t<tr><td>Cool   </td><td>Pop             </td><td>Other        </td><td>7UP/Sprite     </td><td>F</td></tr>\n",
       "\t<tr><td>Warm   </td><td>Pop             </td><td>Other        </td><td>7UP/Sprite     </td><td>F</td></tr>\n",
       "\t<tr><td>Warm   </td><td>Pop             </td><td>Wine         </td><td>7UP/Sprite     </td><td>F</td></tr>\n",
       "\t<tr><td>Warm   </td><td>Electronic      </td><td>Wine         </td><td>Coca Cola/Pepsi</td><td>F</td></tr>\n",
       "\t<tr><td>Cool   </td><td>Rock            </td><td>Beer         </td><td>Coca Cola/Pepsi</td><td>F</td></tr>\n",
       "\t<tr><td>Warm   </td><td>Jazz/Blues      </td><td>Wine         </td><td>Coca Cola/Pepsi</td><td>F</td></tr>\n",
       "\t<tr><td>Cool   </td><td>Pop             </td><td>Wine         </td><td>7UP/Sprite     </td><td>F</td></tr>\n",
       "\t<tr><td>Cool   </td><td>Rock            </td><td>Other        </td><td>Coca Cola/Pepsi</td><td>F</td></tr>\n",
       "\t<tr><td>Cool   </td><td>Rock            </td><td>Other        </td><td>Coca Cola/Pepsi</td><td>F</td></tr>\n",
       "\t<tr><td>Cool   </td><td>Pop             </td><td>Doesn't drink</td><td>7UP/Sprite     </td><td>F</td></tr>\n",
       "\t<tr><td>Cool   </td><td>Pop             </td><td>Beer         </td><td>Fanta          </td><td>F</td></tr>\n",
       "\t<tr><td>Warm   </td><td>Jazz/Blues      </td><td>Whiskey      </td><td>Fanta          </td><td>F</td></tr>\n",
       "\t<tr><td>Cool   </td><td>Rock            </td><td>Vodka        </td><td>Coca Cola/Pepsi</td><td>F</td></tr>\n",
       "\t<tr><td>Warm   </td><td>Pop             </td><td>Other        </td><td>Coca Cola/Pepsi</td><td>F</td></tr>\n",
       "\t<tr><td>Cool   </td><td>Folk/Traditional</td><td>Whiskey      </td><td>7UP/Sprite     </td><td>F</td></tr>\n",
       "\t<tr><td><span style=white-space:pre-wrap>Warm   </span></td><td><span style=white-space:pre-wrap>R&amp;B and soul    </span></td><td><span style=white-space:pre-wrap>Whiskey      </span></td><td>Coca Cola/Pepsi</td><td>F</td></tr>\n",
       "\t<tr><td>Cool   </td><td>Pop             </td><td>Beer         </td><td>Other          </td><td>F</td></tr>\n",
       "\t<tr><td>Cool   </td><td>Pop             </td><td>Doesn't drink</td><td>Other          </td><td>F</td></tr>\n",
       "\t<tr><td>Cool   </td><td>Pop             </td><td>Doesn't drink</td><td>Coca Cola/Pepsi</td><td>F</td></tr>\n",
       "\t<tr><td>Cool   </td><td>Electronic      </td><td>Doesn't drink</td><td>Fanta          </td><td>F</td></tr>\n",
       "\t<tr><td>⋮</td><td>⋮</td><td>⋮</td><td>⋮</td><td>⋮</td></tr>\n",
       "\t<tr><td>Neutral</td><td>Rock            </td><td>Doesn't drink</td><td>Coca Cola/Pepsi</td><td>M</td></tr>\n",
       "\t<tr><td>Cool   </td><td>Pop             </td><td>Other        </td><td>Fanta          </td><td>M</td></tr>\n",
       "\t<tr><td>Cool   </td><td>Pop             </td><td>Whiskey      </td><td>Fanta          </td><td>M</td></tr>\n",
       "\t<tr><td>Warm   </td><td>Rock            </td><td>Vodka        </td><td>7UP/Sprite     </td><td>M</td></tr>\n",
       "\t<tr><td>Cool   </td><td>Rock            </td><td>Vodka        </td><td>Coca Cola/Pepsi</td><td>M</td></tr>\n",
       "\t<tr><td>Neutral</td><td>Pop             </td><td>Doesn't drink</td><td>7UP/Sprite     </td><td>M</td></tr>\n",
       "\t<tr><td><span style=white-space:pre-wrap>Warm   </span></td><td><span style=white-space:pre-wrap>R&amp;B and soul    </span></td><td>Doesn't drink</td><td>Coca Cola/Pepsi</td><td>M</td></tr>\n",
       "\t<tr><td>Cool   </td><td>Rock            </td><td>Wine         </td><td>7UP/Sprite     </td><td>M</td></tr>\n",
       "\t<tr><td>Cool   </td><td>Folk/Traditional</td><td>Beer         </td><td>Other          </td><td>M</td></tr>\n",
       "\t<tr><td>Cool   </td><td>Hip hop         </td><td>Beer         </td><td>Coca Cola/Pepsi</td><td>M</td></tr>\n",
       "\t<tr><td>Cool   </td><td>Hip hop         </td><td>Wine         </td><td>Coca Cola/Pepsi</td><td>M</td></tr>\n",
       "\t<tr><td><span style=white-space:pre-wrap>Cool   </span></td><td><span style=white-space:pre-wrap>R&amp;B and soul    </span></td><td><span style=white-space:pre-wrap>Whiskey      </span></td><td><span style=white-space:pre-wrap>7UP/Sprite     </span></td><td>M</td></tr>\n",
       "\t<tr><td>Cool   </td><td>Rock            </td><td>Doesn't drink</td><td>Other          </td><td>M</td></tr>\n",
       "\t<tr><td>Warm   </td><td>Hip hop         </td><td>Beer         </td><td>Coca Cola/Pepsi</td><td>M</td></tr>\n",
       "\t<tr><td><span style=white-space:pre-wrap>Cool   </span></td><td><span style=white-space:pre-wrap>R&amp;B and soul    </span></td><td>Doesn't drink</td><td>Coca Cola/Pepsi</td><td>M</td></tr>\n",
       "\t<tr><td>Cool   </td><td>Rock            </td><td>Doesn't drink</td><td>Coca Cola/Pepsi</td><td>M</td></tr>\n",
       "\t<tr><td>Cool   </td><td>Hip hop         </td><td>Doesn't drink</td><td>Other          </td><td>M</td></tr>\n",
       "\t<tr><td>Warm   </td><td>Rock            </td><td>Beer         </td><td>Fanta          </td><td>M</td></tr>\n",
       "\t<tr><td>Cool   </td><td>Electronic      </td><td>Doesn't drink</td><td>Fanta          </td><td>M</td></tr>\n",
       "\t<tr><td>Cool   </td><td>Electronic      </td><td>Other        </td><td>Fanta          </td><td>M</td></tr>\n",
       "\t<tr><td>Warm   </td><td>Folk/Traditional</td><td>Other        </td><td>Fanta          </td><td>M</td></tr>\n",
       "\t<tr><td>Warm   </td><td>Electronic      </td><td>Vodka        </td><td>Fanta          </td><td>M</td></tr>\n",
       "\t<tr><td>Warm   </td><td>Jazz/Blues      </td><td>Vodka        </td><td>Coca Cola/Pepsi</td><td>M</td></tr>\n",
       "\t<tr><td>Cool   </td><td>Pop             </td><td>Whiskey      </td><td>Other          </td><td>M</td></tr>\n",
       "\t<tr><td>Cool   </td><td>Electronic      </td><td>Whiskey      </td><td>Coca Cola/Pepsi</td><td>M</td></tr>\n",
       "\t<tr><td>Cool   </td><td>Rock            </td><td>Vodka        </td><td>Coca Cola/Pepsi</td><td>M</td></tr>\n",
       "\t<tr><td>Cool   </td><td>Hip hop         </td><td>Beer         </td><td>Coca Cola/Pepsi</td><td>M</td></tr>\n",
       "\t<tr><td>Neutral</td><td>Hip hop         </td><td>Doesn't drink</td><td>Fanta          </td><td>M</td></tr>\n",
       "\t<tr><td>Cool   </td><td>Rock            </td><td>Wine         </td><td>Coca Cola/Pepsi</td><td>M</td></tr>\n",
       "\t<tr><td>Cool   </td><td>Electronic      </td><td>Beer         </td><td>Coca Cola/Pepsi</td><td>M</td></tr>\n",
       "</tbody>\n",
       "</table>\n"
      ],
      "text/latex": [
       "A spec\\_tbl\\_df: 66 × 5\n",
       "\\begin{tabular}{lllll}\n",
       " Favorite Color & Favorite Music Genre & Favorite Beverage & Favorite Soft Drink & Gender\\\\\n",
       " <fct> & <fct> & <fct> & <fct> & <fct>\\\\\n",
       "\\hline\n",
       "\t Cool    & Rock             & Vodka         & 7UP/Sprite      & F\\\\\n",
       "\t Neutral & Hip hop          & Vodka         & Coca Cola/Pepsi & F\\\\\n",
       "\t Warm    & Rock             & Wine          & Coca Cola/Pepsi & F\\\\\n",
       "\t Warm    & Folk/Traditional & Whiskey       & Fanta           & F\\\\\n",
       "\t Cool    & Rock             & Vodka         & Coca Cola/Pepsi & F\\\\\n",
       "\t Warm    & Jazz/Blues       & Doesn't drink & Fanta           & F\\\\\n",
       "\t Cool    & Pop              & Beer          & Coca Cola/Pepsi & F\\\\\n",
       "\t Warm    & Pop              & Whiskey       & Fanta           & F\\\\\n",
       "\t Warm    & Rock             & Other         & 7UP/Sprite      & F\\\\\n",
       "\t Neutral & Pop              & Wine          & Coca Cola/Pepsi & F\\\\\n",
       "\t Cool    & Pop              & Other         & 7UP/Sprite      & F\\\\\n",
       "\t Warm    & Pop              & Other         & 7UP/Sprite      & F\\\\\n",
       "\t Warm    & Pop              & Wine          & 7UP/Sprite      & F\\\\\n",
       "\t Warm    & Electronic       & Wine          & Coca Cola/Pepsi & F\\\\\n",
       "\t Cool    & Rock             & Beer          & Coca Cola/Pepsi & F\\\\\n",
       "\t Warm    & Jazz/Blues       & Wine          & Coca Cola/Pepsi & F\\\\\n",
       "\t Cool    & Pop              & Wine          & 7UP/Sprite      & F\\\\\n",
       "\t Cool    & Rock             & Other         & Coca Cola/Pepsi & F\\\\\n",
       "\t Cool    & Rock             & Other         & Coca Cola/Pepsi & F\\\\\n",
       "\t Cool    & Pop              & Doesn't drink & 7UP/Sprite      & F\\\\\n",
       "\t Cool    & Pop              & Beer          & Fanta           & F\\\\\n",
       "\t Warm    & Jazz/Blues       & Whiskey       & Fanta           & F\\\\\n",
       "\t Cool    & Rock             & Vodka         & Coca Cola/Pepsi & F\\\\\n",
       "\t Warm    & Pop              & Other         & Coca Cola/Pepsi & F\\\\\n",
       "\t Cool    & Folk/Traditional & Whiskey       & 7UP/Sprite      & F\\\\\n",
       "\t Warm    & R\\&B and soul     & Whiskey       & Coca Cola/Pepsi & F\\\\\n",
       "\t Cool    & Pop              & Beer          & Other           & F\\\\\n",
       "\t Cool    & Pop              & Doesn't drink & Other           & F\\\\\n",
       "\t Cool    & Pop              & Doesn't drink & Coca Cola/Pepsi & F\\\\\n",
       "\t Cool    & Electronic       & Doesn't drink & Fanta           & F\\\\\n",
       "\t ⋮ & ⋮ & ⋮ & ⋮ & ⋮\\\\\n",
       "\t Neutral & Rock             & Doesn't drink & Coca Cola/Pepsi & M\\\\\n",
       "\t Cool    & Pop              & Other         & Fanta           & M\\\\\n",
       "\t Cool    & Pop              & Whiskey       & Fanta           & M\\\\\n",
       "\t Warm    & Rock             & Vodka         & 7UP/Sprite      & M\\\\\n",
       "\t Cool    & Rock             & Vodka         & Coca Cola/Pepsi & M\\\\\n",
       "\t Neutral & Pop              & Doesn't drink & 7UP/Sprite      & M\\\\\n",
       "\t Warm    & R\\&B and soul     & Doesn't drink & Coca Cola/Pepsi & M\\\\\n",
       "\t Cool    & Rock             & Wine          & 7UP/Sprite      & M\\\\\n",
       "\t Cool    & Folk/Traditional & Beer          & Other           & M\\\\\n",
       "\t Cool    & Hip hop          & Beer          & Coca Cola/Pepsi & M\\\\\n",
       "\t Cool    & Hip hop          & Wine          & Coca Cola/Pepsi & M\\\\\n",
       "\t Cool    & R\\&B and soul     & Whiskey       & 7UP/Sprite      & M\\\\\n",
       "\t Cool    & Rock             & Doesn't drink & Other           & M\\\\\n",
       "\t Warm    & Hip hop          & Beer          & Coca Cola/Pepsi & M\\\\\n",
       "\t Cool    & R\\&B and soul     & Doesn't drink & Coca Cola/Pepsi & M\\\\\n",
       "\t Cool    & Rock             & Doesn't drink & Coca Cola/Pepsi & M\\\\\n",
       "\t Cool    & Hip hop          & Doesn't drink & Other           & M\\\\\n",
       "\t Warm    & Rock             & Beer          & Fanta           & M\\\\\n",
       "\t Cool    & Electronic       & Doesn't drink & Fanta           & M\\\\\n",
       "\t Cool    & Electronic       & Other         & Fanta           & M\\\\\n",
       "\t Warm    & Folk/Traditional & Other         & Fanta           & M\\\\\n",
       "\t Warm    & Electronic       & Vodka         & Fanta           & M\\\\\n",
       "\t Warm    & Jazz/Blues       & Vodka         & Coca Cola/Pepsi & M\\\\\n",
       "\t Cool    & Pop              & Whiskey       & Other           & M\\\\\n",
       "\t Cool    & Electronic       & Whiskey       & Coca Cola/Pepsi & M\\\\\n",
       "\t Cool    & Rock             & Vodka         & Coca Cola/Pepsi & M\\\\\n",
       "\t Cool    & Hip hop          & Beer          & Coca Cola/Pepsi & M\\\\\n",
       "\t Neutral & Hip hop          & Doesn't drink & Fanta           & M\\\\\n",
       "\t Cool    & Rock             & Wine          & Coca Cola/Pepsi & M\\\\\n",
       "\t Cool    & Electronic       & Beer          & Coca Cola/Pepsi & M\\\\\n",
       "\\end{tabular}\n"
      ],
      "text/markdown": [
       "\n",
       "A spec_tbl_df: 66 × 5\n",
       "\n",
       "| Favorite Color &lt;fct&gt; | Favorite Music Genre &lt;fct&gt; | Favorite Beverage &lt;fct&gt; | Favorite Soft Drink &lt;fct&gt; | Gender &lt;fct&gt; |\n",
       "|---|---|---|---|---|\n",
       "| Cool    | Rock             | Vodka         | 7UP/Sprite      | F |\n",
       "| Neutral | Hip hop          | Vodka         | Coca Cola/Pepsi | F |\n",
       "| Warm    | Rock             | Wine          | Coca Cola/Pepsi | F |\n",
       "| Warm    | Folk/Traditional | Whiskey       | Fanta           | F |\n",
       "| Cool    | Rock             | Vodka         | Coca Cola/Pepsi | F |\n",
       "| Warm    | Jazz/Blues       | Doesn't drink | Fanta           | F |\n",
       "| Cool    | Pop              | Beer          | Coca Cola/Pepsi | F |\n",
       "| Warm    | Pop              | Whiskey       | Fanta           | F |\n",
       "| Warm    | Rock             | Other         | 7UP/Sprite      | F |\n",
       "| Neutral | Pop              | Wine          | Coca Cola/Pepsi | F |\n",
       "| Cool    | Pop              | Other         | 7UP/Sprite      | F |\n",
       "| Warm    | Pop              | Other         | 7UP/Sprite      | F |\n",
       "| Warm    | Pop              | Wine          | 7UP/Sprite      | F |\n",
       "| Warm    | Electronic       | Wine          | Coca Cola/Pepsi | F |\n",
       "| Cool    | Rock             | Beer          | Coca Cola/Pepsi | F |\n",
       "| Warm    | Jazz/Blues       | Wine          | Coca Cola/Pepsi | F |\n",
       "| Cool    | Pop              | Wine          | 7UP/Sprite      | F |\n",
       "| Cool    | Rock             | Other         | Coca Cola/Pepsi | F |\n",
       "| Cool    | Rock             | Other         | Coca Cola/Pepsi | F |\n",
       "| Cool    | Pop              | Doesn't drink | 7UP/Sprite      | F |\n",
       "| Cool    | Pop              | Beer          | Fanta           | F |\n",
       "| Warm    | Jazz/Blues       | Whiskey       | Fanta           | F |\n",
       "| Cool    | Rock             | Vodka         | Coca Cola/Pepsi | F |\n",
       "| Warm    | Pop              | Other         | Coca Cola/Pepsi | F |\n",
       "| Cool    | Folk/Traditional | Whiskey       | 7UP/Sprite      | F |\n",
       "| Warm    | R&amp;B and soul     | Whiskey       | Coca Cola/Pepsi | F |\n",
       "| Cool    | Pop              | Beer          | Other           | F |\n",
       "| Cool    | Pop              | Doesn't drink | Other           | F |\n",
       "| Cool    | Pop              | Doesn't drink | Coca Cola/Pepsi | F |\n",
       "| Cool    | Electronic       | Doesn't drink | Fanta           | F |\n",
       "| ⋮ | ⋮ | ⋮ | ⋮ | ⋮ |\n",
       "| Neutral | Rock             | Doesn't drink | Coca Cola/Pepsi | M |\n",
       "| Cool    | Pop              | Other         | Fanta           | M |\n",
       "| Cool    | Pop              | Whiskey       | Fanta           | M |\n",
       "| Warm    | Rock             | Vodka         | 7UP/Sprite      | M |\n",
       "| Cool    | Rock             | Vodka         | Coca Cola/Pepsi | M |\n",
       "| Neutral | Pop              | Doesn't drink | 7UP/Sprite      | M |\n",
       "| Warm    | R&amp;B and soul     | Doesn't drink | Coca Cola/Pepsi | M |\n",
       "| Cool    | Rock             | Wine          | 7UP/Sprite      | M |\n",
       "| Cool    | Folk/Traditional | Beer          | Other           | M |\n",
       "| Cool    | Hip hop          | Beer          | Coca Cola/Pepsi | M |\n",
       "| Cool    | Hip hop          | Wine          | Coca Cola/Pepsi | M |\n",
       "| Cool    | R&amp;B and soul     | Whiskey       | 7UP/Sprite      | M |\n",
       "| Cool    | Rock             | Doesn't drink | Other           | M |\n",
       "| Warm    | Hip hop          | Beer          | Coca Cola/Pepsi | M |\n",
       "| Cool    | R&amp;B and soul     | Doesn't drink | Coca Cola/Pepsi | M |\n",
       "| Cool    | Rock             | Doesn't drink | Coca Cola/Pepsi | M |\n",
       "| Cool    | Hip hop          | Doesn't drink | Other           | M |\n",
       "| Warm    | Rock             | Beer          | Fanta           | M |\n",
       "| Cool    | Electronic       | Doesn't drink | Fanta           | M |\n",
       "| Cool    | Electronic       | Other         | Fanta           | M |\n",
       "| Warm    | Folk/Traditional | Other         | Fanta           | M |\n",
       "| Warm    | Electronic       | Vodka         | Fanta           | M |\n",
       "| Warm    | Jazz/Blues       | Vodka         | Coca Cola/Pepsi | M |\n",
       "| Cool    | Pop              | Whiskey       | Other           | M |\n",
       "| Cool    | Electronic       | Whiskey       | Coca Cola/Pepsi | M |\n",
       "| Cool    | Rock             | Vodka         | Coca Cola/Pepsi | M |\n",
       "| Cool    | Hip hop          | Beer          | Coca Cola/Pepsi | M |\n",
       "| Neutral | Hip hop          | Doesn't drink | Fanta           | M |\n",
       "| Cool    | Rock             | Wine          | Coca Cola/Pepsi | M |\n",
       "| Cool    | Electronic       | Beer          | Coca Cola/Pepsi | M |\n",
       "\n"
      ],
      "text/plain": [
       "   Favorite Color Favorite Music Genre Favorite Beverage Favorite Soft Drink\n",
       "1  Cool           Rock                 Vodka             7UP/Sprite         \n",
       "2  Neutral        Hip hop              Vodka             Coca Cola/Pepsi    \n",
       "3  Warm           Rock                 Wine              Coca Cola/Pepsi    \n",
       "4  Warm           Folk/Traditional     Whiskey           Fanta              \n",
       "5  Cool           Rock                 Vodka             Coca Cola/Pepsi    \n",
       "6  Warm           Jazz/Blues           Doesn't drink     Fanta              \n",
       "7  Cool           Pop                  Beer              Coca Cola/Pepsi    \n",
       "8  Warm           Pop                  Whiskey           Fanta              \n",
       "9  Warm           Rock                 Other             7UP/Sprite         \n",
       "10 Neutral        Pop                  Wine              Coca Cola/Pepsi    \n",
       "11 Cool           Pop                  Other             7UP/Sprite         \n",
       "12 Warm           Pop                  Other             7UP/Sprite         \n",
       "13 Warm           Pop                  Wine              7UP/Sprite         \n",
       "14 Warm           Electronic           Wine              Coca Cola/Pepsi    \n",
       "15 Cool           Rock                 Beer              Coca Cola/Pepsi    \n",
       "16 Warm           Jazz/Blues           Wine              Coca Cola/Pepsi    \n",
       "17 Cool           Pop                  Wine              7UP/Sprite         \n",
       "18 Cool           Rock                 Other             Coca Cola/Pepsi    \n",
       "19 Cool           Rock                 Other             Coca Cola/Pepsi    \n",
       "20 Cool           Pop                  Doesn't drink     7UP/Sprite         \n",
       "21 Cool           Pop                  Beer              Fanta              \n",
       "22 Warm           Jazz/Blues           Whiskey           Fanta              \n",
       "23 Cool           Rock                 Vodka             Coca Cola/Pepsi    \n",
       "24 Warm           Pop                  Other             Coca Cola/Pepsi    \n",
       "25 Cool           Folk/Traditional     Whiskey           7UP/Sprite         \n",
       "26 Warm           R&B and soul         Whiskey           Coca Cola/Pepsi    \n",
       "27 Cool           Pop                  Beer              Other              \n",
       "28 Cool           Pop                  Doesn't drink     Other              \n",
       "29 Cool           Pop                  Doesn't drink     Coca Cola/Pepsi    \n",
       "30 Cool           Electronic           Doesn't drink     Fanta              \n",
       "⋮  ⋮              ⋮                    ⋮                 ⋮                  \n",
       "37 Neutral        Rock                 Doesn't drink     Coca Cola/Pepsi    \n",
       "38 Cool           Pop                  Other             Fanta              \n",
       "39 Cool           Pop                  Whiskey           Fanta              \n",
       "40 Warm           Rock                 Vodka             7UP/Sprite         \n",
       "41 Cool           Rock                 Vodka             Coca Cola/Pepsi    \n",
       "42 Neutral        Pop                  Doesn't drink     7UP/Sprite         \n",
       "43 Warm           R&B and soul         Doesn't drink     Coca Cola/Pepsi    \n",
       "44 Cool           Rock                 Wine              7UP/Sprite         \n",
       "45 Cool           Folk/Traditional     Beer              Other              \n",
       "46 Cool           Hip hop              Beer              Coca Cola/Pepsi    \n",
       "47 Cool           Hip hop              Wine              Coca Cola/Pepsi    \n",
       "48 Cool           R&B and soul         Whiskey           7UP/Sprite         \n",
       "49 Cool           Rock                 Doesn't drink     Other              \n",
       "50 Warm           Hip hop              Beer              Coca Cola/Pepsi    \n",
       "51 Cool           R&B and soul         Doesn't drink     Coca Cola/Pepsi    \n",
       "52 Cool           Rock                 Doesn't drink     Coca Cola/Pepsi    \n",
       "53 Cool           Hip hop              Doesn't drink     Other              \n",
       "54 Warm           Rock                 Beer              Fanta              \n",
       "55 Cool           Electronic           Doesn't drink     Fanta              \n",
       "56 Cool           Electronic           Other             Fanta              \n",
       "57 Warm           Folk/Traditional     Other             Fanta              \n",
       "58 Warm           Electronic           Vodka             Fanta              \n",
       "59 Warm           Jazz/Blues           Vodka             Coca Cola/Pepsi    \n",
       "60 Cool           Pop                  Whiskey           Other              \n",
       "61 Cool           Electronic           Whiskey           Coca Cola/Pepsi    \n",
       "62 Cool           Rock                 Vodka             Coca Cola/Pepsi    \n",
       "63 Cool           Hip hop              Beer              Coca Cola/Pepsi    \n",
       "64 Neutral        Hip hop              Doesn't drink     Fanta              \n",
       "65 Cool           Rock                 Wine              Coca Cola/Pepsi    \n",
       "66 Cool           Electronic           Beer              Coca Cola/Pepsi    \n",
       "   Gender\n",
       "1  F     \n",
       "2  F     \n",
       "3  F     \n",
       "4  F     \n",
       "5  F     \n",
       "6  F     \n",
       "7  F     \n",
       "8  F     \n",
       "9  F     \n",
       "10 F     \n",
       "11 F     \n",
       "12 F     \n",
       "13 F     \n",
       "14 F     \n",
       "15 F     \n",
       "16 F     \n",
       "17 F     \n",
       "18 F     \n",
       "19 F     \n",
       "20 F     \n",
       "21 F     \n",
       "22 F     \n",
       "23 F     \n",
       "24 F     \n",
       "25 F     \n",
       "26 F     \n",
       "27 F     \n",
       "28 F     \n",
       "29 F     \n",
       "30 F     \n",
       "⋮  ⋮     \n",
       "37 M     \n",
       "38 M     \n",
       "39 M     \n",
       "40 M     \n",
       "41 M     \n",
       "42 M     \n",
       "43 M     \n",
       "44 M     \n",
       "45 M     \n",
       "46 M     \n",
       "47 M     \n",
       "48 M     \n",
       "49 M     \n",
       "50 M     \n",
       "51 M     \n",
       "52 M     \n",
       "53 M     \n",
       "54 M     \n",
       "55 M     \n",
       "56 M     \n",
       "57 M     \n",
       "58 M     \n",
       "59 M     \n",
       "60 M     \n",
       "61 M     \n",
       "62 M     \n",
       "63 M     \n",
       "64 M     \n",
       "65 M     \n",
       "66 M     "
      ]
     },
     "metadata": {},
     "output_type": "display_data"
    }
   ],
   "source": [
    "base_genero"
   ]
  },
  {
   "cell_type": "markdown",
   "metadata": {
    "papermill": {
     "duration": 0.02087,
     "end_time": "2021-01-13T11:37:26.054900",
     "exception": false,
     "start_time": "2021-01-13T11:37:26.034030",
     "status": "completed"
    },
    "tags": []
   },
   "source": [
    "    Verificar Nas"
   ]
  },
  {
   "cell_type": "code",
   "execution_count": 6,
   "metadata": {
    "execution": {
     "iopub.execute_input": "2021-01-13T11:37:26.100540Z",
     "iopub.status.busy": "2021-01-13T11:37:26.099369Z",
     "iopub.status.idle": "2021-01-13T11:37:26.114631Z",
     "shell.execute_reply": "2021-01-13T11:37:26.113448Z"
    },
    "papermill": {
     "duration": 0.039828,
     "end_time": "2021-01-13T11:37:26.114890",
     "exception": false,
     "start_time": "2021-01-13T11:37:26.075062",
     "status": "completed"
    },
    "tags": []
   },
   "outputs": [
    {
     "data": {
      "text/html": [
       "0"
      ],
      "text/latex": [
       "0"
      ],
      "text/markdown": [
       "0"
      ],
      "text/plain": [
       "[1] 0"
      ]
     },
     "metadata": {},
     "output_type": "display_data"
    }
   ],
   "source": [
    "sum(is.na(base_genero))"
   ]
  },
  {
   "cell_type": "code",
   "execution_count": 7,
   "metadata": {
    "execution": {
     "iopub.execute_input": "2021-01-13T11:37:26.162073Z",
     "iopub.status.busy": "2021-01-13T11:37:26.161036Z",
     "iopub.status.idle": "2021-01-13T11:37:27.915360Z",
     "shell.execute_reply": "2021-01-13T11:37:27.914262Z"
    },
    "papermill": {
     "duration": 1.779249,
     "end_time": "2021-01-13T11:37:27.915537",
     "exception": false,
     "start_time": "2021-01-13T11:37:26.136288",
     "status": "completed"
    },
    "tags": []
   },
   "outputs": [
    {
     "data": {
      "text/html": [
       "<table class=\"dataframe\">\n",
       "<caption>A spec_tbl_df: 3 × 2</caption>\n",
       "<thead>\n",
       "\t<tr><th scope=col>Favorite Color</th><th scope=col>n</th></tr>\n",
       "\t<tr><th scope=col>&lt;fct&gt;</th><th scope=col>&lt;int&gt;</th></tr>\n",
       "</thead>\n",
       "<tbody>\n",
       "\t<tr><td>Cool   </td><td>37</td></tr>\n",
       "\t<tr><td>Neutral</td><td> 7</td></tr>\n",
       "\t<tr><td>Warm   </td><td>22</td></tr>\n",
       "</tbody>\n",
       "</table>\n"
      ],
      "text/latex": [
       "A spec\\_tbl\\_df: 3 × 2\n",
       "\\begin{tabular}{ll}\n",
       " Favorite Color & n\\\\\n",
       " <fct> & <int>\\\\\n",
       "\\hline\n",
       "\t Cool    & 37\\\\\n",
       "\t Neutral &  7\\\\\n",
       "\t Warm    & 22\\\\\n",
       "\\end{tabular}\n"
      ],
      "text/markdown": [
       "\n",
       "A spec_tbl_df: 3 × 2\n",
       "\n",
       "| Favorite Color &lt;fct&gt; | n &lt;int&gt; |\n",
       "|---|---|\n",
       "| Cool    | 37 |\n",
       "| Neutral |  7 |\n",
       "| Warm    | 22 |\n",
       "\n"
      ],
      "text/plain": [
       "  Favorite Color n \n",
       "1 Cool           37\n",
       "2 Neutral         7\n",
       "3 Warm           22"
      ]
     },
     "metadata": {},
     "output_type": "display_data"
    },
    {
     "data": {
      "text/html": [
       "<table class=\"dataframe\">\n",
       "<caption>A spec_tbl_df: 7 × 2</caption>\n",
       "<thead>\n",
       "\t<tr><th scope=col>Favorite Music Genre</th><th scope=col>n</th></tr>\n",
       "\t<tr><th scope=col>&lt;fct&gt;</th><th scope=col>&lt;int&gt;</th></tr>\n",
       "</thead>\n",
       "<tbody>\n",
       "\t<tr><td>Rock            </td><td>19</td></tr>\n",
       "\t<tr><td>Hip hop         </td><td> 8</td></tr>\n",
       "\t<tr><td>Folk/Traditional</td><td> 4</td></tr>\n",
       "\t<tr><td>Jazz/Blues      </td><td> 4</td></tr>\n",
       "\t<tr><td>Pop             </td><td>17</td></tr>\n",
       "\t<tr><td>Electronic      </td><td> 8</td></tr>\n",
       "\t<tr><td><span style=white-space:pre-wrap>R&amp;B and soul    </span></td><td> 6</td></tr>\n",
       "</tbody>\n",
       "</table>\n"
      ],
      "text/latex": [
       "A spec\\_tbl\\_df: 7 × 2\n",
       "\\begin{tabular}{ll}\n",
       " Favorite Music Genre & n\\\\\n",
       " <fct> & <int>\\\\\n",
       "\\hline\n",
       "\t Rock             & 19\\\\\n",
       "\t Hip hop          &  8\\\\\n",
       "\t Folk/Traditional &  4\\\\\n",
       "\t Jazz/Blues       &  4\\\\\n",
       "\t Pop              & 17\\\\\n",
       "\t Electronic       &  8\\\\\n",
       "\t R\\&B and soul     &  6\\\\\n",
       "\\end{tabular}\n"
      ],
      "text/markdown": [
       "\n",
       "A spec_tbl_df: 7 × 2\n",
       "\n",
       "| Favorite Music Genre &lt;fct&gt; | n &lt;int&gt; |\n",
       "|---|---|\n",
       "| Rock             | 19 |\n",
       "| Hip hop          |  8 |\n",
       "| Folk/Traditional |  4 |\n",
       "| Jazz/Blues       |  4 |\n",
       "| Pop              | 17 |\n",
       "| Electronic       |  8 |\n",
       "| R&amp;B and soul     |  6 |\n",
       "\n"
      ],
      "text/plain": [
       "  Favorite Music Genre n \n",
       "1 Rock                 19\n",
       "2 Hip hop               8\n",
       "3 Folk/Traditional      4\n",
       "4 Jazz/Blues            4\n",
       "5 Pop                  17\n",
       "6 Electronic            8\n",
       "7 R&B and soul          6"
      ]
     },
     "metadata": {},
     "output_type": "display_data"
    },
    {
     "data": {
      "text/html": [
       "<table class=\"dataframe\">\n",
       "<caption>A spec_tbl_df: 6 × 2</caption>\n",
       "<thead>\n",
       "\t<tr><th scope=col>Favorite Beverage</th><th scope=col>n</th></tr>\n",
       "\t<tr><th scope=col>&lt;fct&gt;</th><th scope=col>&lt;int&gt;</th></tr>\n",
       "</thead>\n",
       "<tbody>\n",
       "\t<tr><td>Vodka        </td><td> 9</td></tr>\n",
       "\t<tr><td>Wine         </td><td>10</td></tr>\n",
       "\t<tr><td>Whiskey      </td><td> 9</td></tr>\n",
       "\t<tr><td>Doesn't drink</td><td>14</td></tr>\n",
       "\t<tr><td>Beer         </td><td>13</td></tr>\n",
       "\t<tr><td>Other        </td><td>11</td></tr>\n",
       "</tbody>\n",
       "</table>\n"
      ],
      "text/latex": [
       "A spec\\_tbl\\_df: 6 × 2\n",
       "\\begin{tabular}{ll}\n",
       " Favorite Beverage & n\\\\\n",
       " <fct> & <int>\\\\\n",
       "\\hline\n",
       "\t Vodka         &  9\\\\\n",
       "\t Wine          & 10\\\\\n",
       "\t Whiskey       &  9\\\\\n",
       "\t Doesn't drink & 14\\\\\n",
       "\t Beer          & 13\\\\\n",
       "\t Other         & 11\\\\\n",
       "\\end{tabular}\n"
      ],
      "text/markdown": [
       "\n",
       "A spec_tbl_df: 6 × 2\n",
       "\n",
       "| Favorite Beverage &lt;fct&gt; | n &lt;int&gt; |\n",
       "|---|---|\n",
       "| Vodka         |  9 |\n",
       "| Wine          | 10 |\n",
       "| Whiskey       |  9 |\n",
       "| Doesn't drink | 14 |\n",
       "| Beer          | 13 |\n",
       "| Other         | 11 |\n",
       "\n"
      ],
      "text/plain": [
       "  Favorite Beverage n \n",
       "1 Vodka              9\n",
       "2 Wine              10\n",
       "3 Whiskey            9\n",
       "4 Doesn't drink     14\n",
       "5 Beer              13\n",
       "6 Other             11"
      ]
     },
     "metadata": {},
     "output_type": "display_data"
    },
    {
     "data": {
      "text/html": [
       "<table class=\"dataframe\">\n",
       "<caption>A spec_tbl_df: 2 × 2</caption>\n",
       "<thead>\n",
       "\t<tr><th scope=col>Gender</th><th scope=col>n</th></tr>\n",
       "\t<tr><th scope=col>&lt;fct&gt;</th><th scope=col>&lt;int&gt;</th></tr>\n",
       "</thead>\n",
       "<tbody>\n",
       "\t<tr><td>F</td><td>33</td></tr>\n",
       "\t<tr><td>M</td><td>33</td></tr>\n",
       "</tbody>\n",
       "</table>\n"
      ],
      "text/latex": [
       "A spec\\_tbl\\_df: 2 × 2\n",
       "\\begin{tabular}{ll}\n",
       " Gender & n\\\\\n",
       " <fct> & <int>\\\\\n",
       "\\hline\n",
       "\t F & 33\\\\\n",
       "\t M & 33\\\\\n",
       "\\end{tabular}\n"
      ],
      "text/markdown": [
       "\n",
       "A spec_tbl_df: 2 × 2\n",
       "\n",
       "| Gender &lt;fct&gt; | n &lt;int&gt; |\n",
       "|---|---|\n",
       "| F | 33 |\n",
       "| M | 33 |\n",
       "\n"
      ],
      "text/plain": [
       "  Gender n \n",
       "1 F      33\n",
       "2 M      33"
      ]
     },
     "metadata": {},
     "output_type": "display_data"
    },
    {
     "data": {
      "image/png": "[encoded data removed]"
     },
     "metadata": {
      "image/png": {
       "height": 420,
       "width": 420
      }
     },
     "output_type": "display_data"
    },
    {
     "data": {
      "image/png": "[encoded data removed]"
     },
     "metadata": {
      "image/png": {
       "height": 420,
       "width": 420
      }
     },
     "output_type": "display_data"
    },
    {
     "data": {
      "image/png": "[encoded data removed]"
     },
     "metadata": {
      "image/png": {
       "height": 420,
       "width": 420
      }
     },
     "output_type": "display_data"
    },
    {
     "data": {
      "image/png": "[encoded data removed]"
     },
     "metadata": {
      "image/png": {
       "height": 420,
       "width": 420
      }
     },
     "output_type": "display_data"
    }
   ],
   "source": [
    "\n",
    "base_genero %>% count(`Favorite Color`)\n",
    "base_genero %>% count(`Favorite Music Genre`)\n",
    "base_genero %>% count(`Favorite Beverage`)\n",
    "base_genero %>% count(Gender)\n",
    "\n",
    "\n",
    "\n",
    "## `Favorite Color`\n",
    "\n",
    " ggplot(data = base_genero)+\n",
    "        geom_bar(mapping = aes(y = `Favorite Color`),fill=\"blue\")+\n",
    "            ggtitle(label =\"Favorite Color\" )\n",
    "\n",
    "## Favorite Music Genre\n",
    "\n",
    "\n",
    "base_genero %>% count(`Favorite Music Genre`) %>%\n",
    " ggplot()+\n",
    "    geom_col(mapping = aes(x =reorder(`Favorite Music Genre`,n) ,y=n),fill=\"#00FFFF\",color=\"#FDF5E6\")+\n",
    "        ggtitle(label =\"Favorite Music Genre\" )\n",
    "\n",
    "\n",
    "## Favorite Favorite Beverage\n",
    "\n",
    " ggplot(data = base_genero)+\n",
    "        geom_bar(mapping = aes(y = `Favorite Beverage`,fill=`Favorite Beverage`))+\n",
    "        ggtitle(label =\"Favorite Favorite Beverage\" )\n",
    "\n",
    "### Gender 0=female 1= male\n",
    "    base_genero %>% count(`Gender`) %>%\n",
    "        ggplot()+\n",
    "            geom_col(mapping = aes(x = `Gender`,y = n ,fill=`Gender`))"
   ]
  },
  {
   "cell_type": "markdown",
   "metadata": {
    "papermill": {
     "duration": 0.027338,
     "end_time": "2021-01-13T11:37:27.971754",
     "exception": false,
     "start_time": "2021-01-13T11:37:27.944416",
     "status": "completed"
    },
    "tags": []
   },
   "source": [
    "## Transformar variaveis categóricas em valores numericos,\n",
    "## para testar modelo de Regressão Logística"
   ]
  },
  {
   "cell_type": "code",
   "execution_count": 8,
   "metadata": {
    "execution": {
     "iopub.execute_input": "2021-01-13T11:37:28.030437Z",
     "iopub.status.busy": "2021-01-13T11:37:28.029397Z",
     "iopub.status.idle": "2021-01-13T11:37:28.048321Z",
     "shell.execute_reply": "2021-01-13T11:37:28.047304Z"
    },
    "papermill": {
     "duration": 0.049707,
     "end_time": "2021-01-13T11:37:28.048478",
     "exception": false,
     "start_time": "2021-01-13T11:37:27.998771",
     "status": "completed"
    },
    "tags": []
   },
   "outputs": [],
   "source": [
    "levels(base_genero$`Favorite Color`)<-c(1:3)\n",
    "levels(base_genero$`Favorite Music Genre`)<-c(1:7)\n",
    "levels(base_genero$`Favorite Beverage`)<-c(1:6)\n",
    "levels(base_genero$`Favorite Soft Drink`)<-c(1:4)\n",
    "levels(base_genero$Gender)<-c(0:1)"
   ]
  },
  {
   "cell_type": "markdown",
   "metadata": {
    "papermill": {
     "duration": 0.027758,
     "end_time": "2021-01-13T11:37:28.103421",
     "exception": false,
     "start_time": "2021-01-13T11:37:28.075663",
     "status": "completed"
    },
    "tags": []
   },
   "source": [
    "### Dividir base de dados. 70-30"
   ]
  },
  {
   "cell_type": "code",
   "execution_count": 9,
   "metadata": {
    "execution": {
     "iopub.execute_input": "2021-01-13T11:37:28.162502Z",
     "iopub.status.busy": "2021-01-13T11:37:28.161315Z",
     "iopub.status.idle": "2021-01-13T11:37:28.226262Z",
     "shell.execute_reply": "2021-01-13T11:37:28.224972Z"
    },
    "papermill": {
     "duration": 0.095509,
     "end_time": "2021-01-13T11:37:28.226411",
     "exception": false,
     "start_time": "2021-01-13T11:37:28.130902",
     "status": "completed"
    },
    "tags": []
   },
   "outputs": [],
   "source": [
    "library(caTools)\n",
    "set.seed(10)\n",
    "divisao<-sample.split(Y = base_genero$Gender,SplitRatio = 0.70)\n",
    "base_treinamento<-subset(x = base_genero,subset = divisao == TRUE )\n",
    "base_teste<-subset(x = base_genero,subset = divisao == FALSE )"
   ]
  },
  {
   "cell_type": "code",
   "execution_count": 10,
   "metadata": {
    "execution": {
     "iopub.execute_input": "2021-01-13T11:37:28.285178Z",
     "iopub.status.busy": "2021-01-13T11:37:28.283944Z",
     "iopub.status.idle": "2021-01-13T11:37:28.302650Z",
     "shell.execute_reply": "2021-01-13T11:37:28.301452Z"
    },
    "papermill": {
     "duration": 0.049491,
     "end_time": "2021-01-13T11:37:28.302798",
     "exception": false,
     "start_time": "2021-01-13T11:37:28.253307",
     "status": "completed"
    },
    "tags": []
   },
   "outputs": [
    {
     "data": {
      "text/html": [
       "<table class=\"dataframe\">\n",
       "<caption>A tibble: 3 × 5</caption>\n",
       "<thead>\n",
       "\t<tr><th scope=col>Favorite Color</th><th scope=col>Favorite Music Genre</th><th scope=col>Favorite Beverage</th><th scope=col>Favorite Soft Drink</th><th scope=col>Gender</th></tr>\n",
       "\t<tr><th scope=col>&lt;fct&gt;</th><th scope=col>&lt;fct&gt;</th><th scope=col>&lt;fct&gt;</th><th scope=col>&lt;fct&gt;</th><th scope=col>&lt;fct&gt;</th></tr>\n",
       "</thead>\n",
       "<tbody>\n",
       "\t<tr><td>1</td><td>1</td><td>1</td><td>1</td><td>0</td></tr>\n",
       "\t<tr><td>2</td><td>2</td><td>1</td><td>2</td><td>0</td></tr>\n",
       "\t<tr><td>3</td><td>1</td><td>2</td><td>2</td><td>0</td></tr>\n",
       "</tbody>\n",
       "</table>\n"
      ],
      "text/latex": [
       "A tibble: 3 × 5\n",
       "\\begin{tabular}{lllll}\n",
       " Favorite Color & Favorite Music Genre & Favorite Beverage & Favorite Soft Drink & Gender\\\\\n",
       " <fct> & <fct> & <fct> & <fct> & <fct>\\\\\n",
       "\\hline\n",
       "\t 1 & 1 & 1 & 1 & 0\\\\\n",
       "\t 2 & 2 & 1 & 2 & 0\\\\\n",
       "\t 3 & 1 & 2 & 2 & 0\\\\\n",
       "\\end{tabular}\n"
      ],
      "text/markdown": [
       "\n",
       "A tibble: 3 × 5\n",
       "\n",
       "| Favorite Color &lt;fct&gt; | Favorite Music Genre &lt;fct&gt; | Favorite Beverage &lt;fct&gt; | Favorite Soft Drink &lt;fct&gt; | Gender &lt;fct&gt; |\n",
       "|---|---|---|---|---|\n",
       "| 1 | 1 | 1 | 1 | 0 |\n",
       "| 2 | 2 | 1 | 2 | 0 |\n",
       "| 3 | 1 | 2 | 2 | 0 |\n",
       "\n"
      ],
      "text/plain": [
       "  Favorite Color Favorite Music Genre Favorite Beverage Favorite Soft Drink\n",
       "1 1              1                    1                 1                  \n",
       "2 2              2                    1                 2                  \n",
       "3 3              1                    2                 2                  \n",
       "  Gender\n",
       "1 0     \n",
       "2 0     \n",
       "3 0     "
      ]
     },
     "metadata": {},
     "output_type": "display_data"
    }
   ],
   "source": [
    "head(base_treinamento,3)"
   ]
  },
  {
   "cell_type": "markdown",
   "metadata": {
    "papermill": {
     "duration": 0.027581,
     "end_time": "2021-01-13T11:37:28.358195",
     "exception": false,
     "start_time": "2021-01-13T11:37:28.330614",
     "status": "completed"
    },
    "tags": []
   },
   "source": [
    "### Treinando algoritmo Random Forest"
   ]
  },
  {
   "cell_type": "code",
   "execution_count": 11,
   "metadata": {
    "collapsed": true,
    "execution": {
     "iopub.execute_input": "2021-01-13T11:37:28.418156Z",
     "iopub.status.busy": "2021-01-13T11:37:28.416782Z",
     "iopub.status.idle": "2021-01-13T11:37:28.487169Z",
     "shell.execute_reply": "2021-01-13T11:37:28.485938Z"
    },
    "papermill": {
     "duration": 0.101421,
     "end_time": "2021-01-13T11:37:28.487321",
     "exception": false,
     "start_time": "2021-01-13T11:37:28.385900",
     "status": "completed"
    },
    "tags": []
   },
   "outputs": [
    {
     "name": "stderr",
     "output_type": "stream",
     "text": [
      "randomForest 4.6-14\n",
      "\n",
      "Type rfNews() to see new features/changes/bug fixes.\n",
      "\n",
      "\n",
      "Attaching package: ‘randomForest’\n",
      "\n",
      "\n",
      "The following object is masked from ‘package:dplyr’:\n",
      "\n",
      "    combine\n",
      "\n",
      "\n",
      "The following object is masked from ‘package:ggplot2’:\n",
      "\n",
      "    margin\n",
      "\n",
      "\n"
     ]
    },
    {
     "name": "stdout",
     "output_type": "stream",
     "text": [
      "\n",
      "Call:\n",
      " randomForest(x = base_treinamento[, 1:4], y = base_treinamento$Gender,      ntree = 15) \n",
      "               Type of random forest: classification\n",
      "                     Number of trees: 15\n",
      "No. of variables tried at each split: 2\n",
      "\n",
      "        OOB estimate of  error rate: 47.83%\n",
      "Confusion matrix:\n",
      "   0  1 class.error\n",
      "0 13 10   0.4347826\n",
      "1 12 11   0.5217391\n"
     ]
    }
   ],
   "source": [
    "library(randomForest)\n",
    "set.seed(1)\n",
    "mdl_randonForest<-randomForest(x = base_treinamento[,1:4],y = base_treinamento$Gender,ntree =15)\n",
    "print(mdl_randonForest)"
   ]
  },
  {
   "cell_type": "markdown",
   "metadata": {
    "papermill": {
     "duration": 0.029635,
     "end_time": "2021-01-13T11:37:28.546482",
     "exception": false,
     "start_time": "2021-01-13T11:37:28.516847",
     "status": "completed"
    },
    "tags": []
   },
   "source": [
    "### Previsão do modelo de Random Forest"
   ]
  },
  {
   "cell_type": "code",
   "execution_count": 12,
   "metadata": {
    "execution": {
     "iopub.execute_input": "2021-01-13T11:37:28.610195Z",
     "iopub.status.busy": "2021-01-13T11:37:28.608901Z",
     "iopub.status.idle": "2021-01-13T11:37:28.630266Z",
     "shell.execute_reply": "2021-01-13T11:37:28.628996Z"
    },
    "papermill": {
     "duration": 0.054816,
     "end_time": "2021-01-13T11:37:28.630407",
     "exception": false,
     "start_time": "2021-01-13T11:37:28.575591",
     "status": "completed"
    },
    "tags": []
   },
   "outputs": [
    {
     "data": {
      "text/html": [
       "<style>\n",
       ".dl-inline {width: auto; margin:0; padding: 0}\n",
       ".dl-inline>dt, .dl-inline>dd {float: none; width: auto; display: inline-block}\n",
       ".dl-inline>dt::after {content: \":\\0020\"; padding-right: .5ex}\n",
       ".dl-inline>dt:not(:first-of-type) {padding-left: .5ex}\n",
       "</style><dl class=dl-inline><dt>1</dt><dd>1</dd><dt>2</dt><dd>0</dd><dt>3</dt><dd>0</dd><dt>4</dt><dd>1</dd><dt>5</dt><dd>0</dd><dt>6</dt><dd>0</dd><dt>7</dt><dd>0</dd><dt>8</dt><dd>1</dd><dt>9</dt><dd>0</dd><dt>10</dt><dd>0</dd><dt>11</dt><dd>1</dd><dt>12</dt><dd>0</dd><dt>13</dt><dd>0</dd><dt>14</dt><dd>0</dd><dt>15</dt><dd>0</dd><dt>16</dt><dd>0</dd><dt>17</dt><dd>1</dd><dt>18</dt><dd>0</dd><dt>19</dt><dd>0</dd><dt>20</dt><dd>1</dd></dl>\n",
       "\n",
       "<details>\n",
       "\t<summary style=display:list-item;cursor:pointer>\n",
       "\t\t<strong>Levels</strong>:\n",
       "\t</summary>\n",
       "\t<style>\n",
       "\t.list-inline {list-style: none; margin:0; padding: 0}\n",
       "\t.list-inline>li {display: inline-block}\n",
       "\t.list-inline>li:not(:last-child)::after {content: \"\\00b7\"; padding: 0 .5ex}\n",
       "\t</style>\n",
       "\t<ol class=list-inline><li>'0'</li><li>'1'</li></ol>\n",
       "</details>"
      ],
      "text/latex": [
       "\\begin{description*}\n",
       "\\item[1] 1\n",
       "\\item[2] 0\n",
       "\\item[3] 0\n",
       "\\item[4] 1\n",
       "\\item[5] 0\n",
       "\\item[6] 0\n",
       "\\item[7] 0\n",
       "\\item[8] 1\n",
       "\\item[9] 0\n",
       "\\item[10] 0\n",
       "\\item[11] 1\n",
       "\\item[12] 0\n",
       "\\item[13] 0\n",
       "\\item[14] 0\n",
       "\\item[15] 0\n",
       "\\item[16] 0\n",
       "\\item[17] 1\n",
       "\\item[18] 0\n",
       "\\item[19] 0\n",
       "\\item[20] 1\n",
       "\\end{description*}\n",
       "\n",
       "\\emph{Levels}: \\begin{enumerate*}\n",
       "\\item '0'\n",
       "\\item '1'\n",
       "\\end{enumerate*}\n"
      ],
      "text/markdown": [
       "1\n",
       ":   12\n",
       ":   03\n",
       ":   04\n",
       ":   15\n",
       ":   06\n",
       ":   07\n",
       ":   08\n",
       ":   19\n",
       ":   010\n",
       ":   011\n",
       ":   112\n",
       ":   013\n",
       ":   014\n",
       ":   015\n",
       ":   016\n",
       ":   017\n",
       ":   118\n",
       ":   019\n",
       ":   020\n",
       ":   1\n",
       "\n",
       "\n",
       "**Levels**: 1. '0'\n",
       "2. '1'\n",
       "\n",
       "\n"
      ],
      "text/plain": [
       " 1  2  3  4  5  6  7  8  9 10 11 12 13 14 15 16 17 18 19 20 \n",
       " 1  0  0  1  0  0  0  1  0  0  1  0  0  0  0  0  1  0  0  1 \n",
       "Levels: 0 1"
      ]
     },
     "metadata": {},
     "output_type": "display_data"
    }
   ],
   "source": [
    "previsao<-predict(mdl_randonForest,newdata = base_teste[,-5])\n",
    "previsao"
   ]
  },
  {
   "cell_type": "markdown",
   "metadata": {
    "papermill": {
     "duration": 0.029916,
     "end_time": "2021-01-13T11:37:28.689899",
     "exception": false,
     "start_time": "2021-01-13T11:37:28.659983",
     "status": "completed"
    },
    "tags": []
   },
   "source": [
    "### Verificar acuracidade do modelo RandomForest"
   ]
  },
  {
   "cell_type": "code",
   "execution_count": 13,
   "metadata": {
    "execution": {
     "iopub.execute_input": "2021-01-13T11:37:28.755652Z",
     "iopub.status.busy": "2021-01-13T11:37:28.755069Z",
     "iopub.status.idle": "2021-01-13T11:37:28.764191Z",
     "shell.execute_reply": "2021-01-13T11:37:28.763033Z"
    },
    "papermill": {
     "duration": 0.04502,
     "end_time": "2021-01-13T11:37:28.764333",
     "exception": false,
     "start_time": "2021-01-13T11:37:28.719313",
     "status": "completed"
    },
    "tags": []
   },
   "outputs": [],
   "source": [
    "matriz_de_confusao<-table(base_teste$Gender,previsao)"
   ]
  },
  {
   "cell_type": "code",
   "execution_count": 14,
   "metadata": {
    "execution": {
     "iopub.execute_input": "2021-01-13T11:37:28.843145Z",
     "iopub.status.busy": "2021-01-13T11:37:28.833608Z",
     "iopub.status.idle": "2021-01-13T11:37:28.890625Z",
     "shell.execute_reply": "2021-01-13T11:37:28.889405Z"
    },
    "papermill": {
     "duration": 0.090424,
     "end_time": "2021-01-13T11:37:28.890780",
     "exception": false,
     "start_time": "2021-01-13T11:37:28.800356",
     "status": "completed"
    },
    "tags": []
   },
   "outputs": [
    {
     "data": {
      "text/plain": [
       "Confusion Matrix and Statistics\n",
       "\n",
       "   previsao\n",
       "    0 1\n",
       "  0 7 3\n",
       "  1 7 3\n",
       "                                        \n",
       "               Accuracy : 0.5           \n",
       "                 95% CI : (0.272, 0.728)\n",
       "    No Information Rate : 0.7           \n",
       "    P-Value [Acc > NIR] : 0.9829        \n",
       "                                        \n",
       "                  Kappa : 0             \n",
       "                                        \n",
       " Mcnemar's Test P-Value : 0.3428        \n",
       "                                        \n",
       "            Sensitivity : 0.50          \n",
       "            Specificity : 0.50          \n",
       "         Pos Pred Value : 0.70          \n",
       "         Neg Pred Value : 0.30          \n",
       "             Prevalence : 0.70          \n",
       "         Detection Rate : 0.35          \n",
       "   Detection Prevalence : 0.50          \n",
       "      Balanced Accuracy : 0.50          \n",
       "                                        \n",
       "       'Positive' Class : 0             \n",
       "                                        "
      ]
     },
     "metadata": {},
     "output_type": "display_data"
    }
   ],
   "source": [
    "library(caret)\n",
    "confusionMatrix(matriz_de_confusao)"
   ]
  },
  {
   "cell_type": "markdown",
   "metadata": {
    "papermill": {
     "duration": 0.030752,
     "end_time": "2021-01-13T11:37:28.953160",
     "exception": false,
     "start_time": "2021-01-13T11:37:28.922408",
     "status": "completed"
    },
    "tags": []
   },
   "source": [
    "### Testando modelo de maquinas de vetores de suporte."
   ]
  },
  {
   "cell_type": "code",
   "execution_count": 15,
   "metadata": {
    "collapsed": true,
    "execution": {
     "iopub.execute_input": "2021-01-13T11:37:29.019360Z",
     "iopub.status.busy": "2021-01-13T11:37:29.017634Z",
     "iopub.status.idle": "2021-01-13T11:37:29.055871Z",
     "shell.execute_reply": "2021-01-13T11:37:29.054849Z"
    },
    "papermill": {
     "duration": 0.072819,
     "end_time": "2021-01-13T11:37:29.056017",
     "exception": false,
     "start_time": "2021-01-13T11:37:28.983198",
     "status": "completed"
    },
    "tags": []
   },
   "outputs": [
    {
     "name": "stdout",
     "output_type": "stream",
     "text": [
      "\n",
      "Call:\n",
      "svm(formula = Gender ~ ., data = base_treinamento, type = \"C-classification\", \n",
      "    kernel = \"radial\", cost = 1)\n",
      "\n",
      "\n",
      "Parameters:\n",
      "   SVM-Type:  C-classification \n",
      " SVM-Kernel:  radial \n",
      "       cost:  1 \n",
      "\n",
      "Number of Support Vectors:  44\n",
      "\n"
     ]
    }
   ],
   "source": [
    "library(e1071)\n",
    "mdl_svm<-svm(formula = Gender~.,data = base_treinamento,type = \"C-classification\",kernel = \"radial\",cost = 1)\n",
    "print(mdl_svm)"
   ]
  },
  {
   "cell_type": "markdown",
   "metadata": {
    "papermill": {
     "duration": 0.030785,
     "end_time": "2021-01-13T11:37:29.117961",
     "exception": false,
     "start_time": "2021-01-13T11:37:29.087176",
     "status": "completed"
    },
    "tags": []
   },
   "source": [
    "### Previsão do modelo de SVM"
   ]
  },
  {
   "cell_type": "code",
   "execution_count": 16,
   "metadata": {
    "execution": {
     "iopub.execute_input": "2021-01-13T11:37:29.185297Z",
     "iopub.status.busy": "2021-01-13T11:37:29.184136Z",
     "iopub.status.idle": "2021-01-13T11:37:29.201600Z",
     "shell.execute_reply": "2021-01-13T11:37:29.200020Z"
    },
    "papermill": {
     "duration": 0.052788,
     "end_time": "2021-01-13T11:37:29.201787",
     "exception": false,
     "start_time": "2021-01-13T11:37:29.148999",
     "status": "completed"
    },
    "tags": []
   },
   "outputs": [
    {
     "name": "stdout",
     "output_type": "stream",
     "text": [
      " 1  2  3  4  5  6  7  8  9 10 11 12 13 14 15 16 17 18 19 20 \n",
      " 1  0  0  0  0  1  0  1  1  0  1  0  1  0  1  0  1  1  0  1 \n",
      "Levels: 0 1\n"
     ]
    }
   ],
   "source": [
    "previsaoSVM<-predict(mdl_svm,base_teste[,-5])\n",
    "print(previsaoSVM)"
   ]
  },
  {
   "cell_type": "markdown",
   "metadata": {
    "papermill": {
     "duration": 0.031196,
     "end_time": "2021-01-13T11:37:29.265420",
     "exception": false,
     "start_time": "2021-01-13T11:37:29.234224",
     "status": "completed"
    },
    "tags": []
   },
   "source": [
    "### Verificar acuracidade do modelo de maquinas de vetores de suporte."
   ]
  },
  {
   "cell_type": "code",
   "execution_count": 17,
   "metadata": {
    "execution": {
     "iopub.execute_input": "2021-01-13T11:37:29.333500Z",
     "iopub.status.busy": "2021-01-13T11:37:29.331975Z",
     "iopub.status.idle": "2021-01-13T11:37:29.353873Z",
     "shell.execute_reply": "2021-01-13T11:37:29.352330Z"
    },
    "papermill": {
     "duration": 0.057554,
     "end_time": "2021-01-13T11:37:29.354026",
     "exception": false,
     "start_time": "2021-01-13T11:37:29.296472",
     "status": "completed"
    },
    "tags": []
   },
   "outputs": [
    {
     "data": {
      "text/plain": [
       "Confusion Matrix and Statistics\n",
       "\n",
       "           \n",
       "previsaoSVM 0 1\n",
       "          0 6 4\n",
       "          1 4 6\n",
       "                                          \n",
       "               Accuracy : 0.6             \n",
       "                 95% CI : (0.3605, 0.8088)\n",
       "    No Information Rate : 0.5             \n",
       "    P-Value [Acc > NIR] : 0.2517          \n",
       "                                          \n",
       "                  Kappa : 0.2             \n",
       "                                          \n",
       " Mcnemar's Test P-Value : 1.0000          \n",
       "                                          \n",
       "            Sensitivity : 0.6             \n",
       "            Specificity : 0.6             \n",
       "         Pos Pred Value : 0.6             \n",
       "         Neg Pred Value : 0.6             \n",
       "             Prevalence : 0.5             \n",
       "         Detection Rate : 0.3             \n",
       "   Detection Prevalence : 0.5             \n",
       "      Balanced Accuracy : 0.6             \n",
       "                                          \n",
       "       'Positive' Class : 0               \n",
       "                                          "
      ]
     },
     "metadata": {},
     "output_type": "display_data"
    }
   ],
   "source": [
    "library(caret)\n",
    "matriz_confusao_SVM<-table(previsaoSVM,base_teste$Gender)\n",
    "confusionMatrix(matriz_confusao_SVM)"
   ]
  },
  {
   "cell_type": "markdown",
   "metadata": {
    "papermill": {
     "duration": 0.031133,
     "end_time": "2021-01-13T11:37:29.417590",
     "exception": false,
     "start_time": "2021-01-13T11:37:29.386457",
     "status": "completed"
    },
    "tags": []
   },
   "source": [
    "\n",
    "\n",
    "\n",
    "\n"
   ]
  },
  {
   "cell_type": "code",
   "execution_count": 18,
   "metadata": {
    "execution": {
     "iopub.execute_input": "2021-01-13T11:37:29.485756Z",
     "iopub.status.busy": "2021-01-13T11:37:29.484204Z",
     "iopub.status.idle": "2021-01-13T11:37:29.503241Z",
     "shell.execute_reply": "2021-01-13T11:37:29.502092Z"
    },
    "papermill": {
     "duration": 0.054369,
     "end_time": "2021-01-13T11:37:29.503402",
     "exception": false,
     "start_time": "2021-01-13T11:37:29.449033",
     "status": "completed"
    },
    "tags": []
   },
   "outputs": [
    {
     "data": {
      "text/html": [
       "<table class=\"dataframe\">\n",
       "<caption>A tibble: 2 × 5</caption>\n",
       "<thead>\n",
       "\t<tr><th scope=col>Favorite Color</th><th scope=col>Favorite Music Genre</th><th scope=col>Favorite Beverage</th><th scope=col>Favorite Soft Drink</th><th scope=col>Gender</th></tr>\n",
       "\t<tr><th scope=col>&lt;fct&gt;</th><th scope=col>&lt;fct&gt;</th><th scope=col>&lt;fct&gt;</th><th scope=col>&lt;fct&gt;</th><th scope=col>&lt;fct&gt;</th></tr>\n",
       "</thead>\n",
       "<tbody>\n",
       "\t<tr><td>1</td><td>1</td><td>1</td><td>1</td><td>0</td></tr>\n",
       "\t<tr><td>2</td><td>2</td><td>1</td><td>2</td><td>0</td></tr>\n",
       "</tbody>\n",
       "</table>\n"
      ],
      "text/latex": [
       "A tibble: 2 × 5\n",
       "\\begin{tabular}{lllll}\n",
       " Favorite Color & Favorite Music Genre & Favorite Beverage & Favorite Soft Drink & Gender\\\\\n",
       " <fct> & <fct> & <fct> & <fct> & <fct>\\\\\n",
       "\\hline\n",
       "\t 1 & 1 & 1 & 1 & 0\\\\\n",
       "\t 2 & 2 & 1 & 2 & 0\\\\\n",
       "\\end{tabular}\n"
      ],
      "text/markdown": [
       "\n",
       "A tibble: 2 × 5\n",
       "\n",
       "| Favorite Color &lt;fct&gt; | Favorite Music Genre &lt;fct&gt; | Favorite Beverage &lt;fct&gt; | Favorite Soft Drink &lt;fct&gt; | Gender &lt;fct&gt; |\n",
       "|---|---|---|---|---|\n",
       "| 1 | 1 | 1 | 1 | 0 |\n",
       "| 2 | 2 | 1 | 2 | 0 |\n",
       "\n"
      ],
      "text/plain": [
       "  Favorite Color Favorite Music Genre Favorite Beverage Favorite Soft Drink\n",
       "1 1              1                    1                 1                  \n",
       "2 2              2                    1                 2                  \n",
       "  Gender\n",
       "1 0     \n",
       "2 0     "
      ]
     },
     "metadata": {},
     "output_type": "display_data"
    }
   ],
   "source": [
    "head(base_genero,2)"
   ]
  },
  {
   "cell_type": "markdown",
   "metadata": {
    "papermill": {
     "duration": 0.032627,
     "end_time": "2021-01-13T11:37:29.568748",
     "exception": false,
     "start_time": "2021-01-13T11:37:29.536121",
     "status": "completed"
    },
    "tags": []
   },
   "source": [
    "## Modelo Regresão Logística"
   ]
  },
  {
   "cell_type": "code",
   "execution_count": 19,
   "metadata": {
    "execution": {
     "iopub.execute_input": "2021-01-13T11:37:29.638374Z",
     "iopub.status.busy": "2021-01-13T11:37:29.637060Z",
     "iopub.status.idle": "2021-01-13T11:37:29.653829Z",
     "shell.execute_reply": "2021-01-13T11:37:29.652757Z"
    },
    "papermill": {
     "duration": 0.052939,
     "end_time": "2021-01-13T11:37:29.653969",
     "exception": false,
     "start_time": "2021-01-13T11:37:29.601030",
     "status": "completed"
    },
    "tags": []
   },
   "outputs": [],
   "source": [
    "mdl_RL<-glm(formula = Gender~.,family = binomial,data = base_treinamento) # glm() ja pertence ao R base."
   ]
  },
  {
   "cell_type": "code",
   "execution_count": 20,
   "metadata": {
    "collapsed": true,
    "execution": {
     "iopub.execute_input": "2021-01-13T11:37:29.724080Z",
     "iopub.status.busy": "2021-01-13T11:37:29.722999Z",
     "iopub.status.idle": "2021-01-13T11:37:29.737426Z",
     "shell.execute_reply": "2021-01-13T11:37:29.736123Z"
    },
    "papermill": {
     "duration": 0.050686,
     "end_time": "2021-01-13T11:37:29.737662",
     "exception": false,
     "start_time": "2021-01-13T11:37:29.686976",
     "status": "completed"
    },
    "tags": []
   },
   "outputs": [
    {
     "data": {
      "text/plain": [
       "\n",
       "Call:  glm(formula = Gender ~ ., family = binomial, data = base_treinamento)\n",
       "\n",
       "Coefficients:\n",
       "            (Intercept)        `Favorite Color`2        `Favorite Color`3  \n",
       "                 0.4342                  -0.3024                   0.9263  \n",
       "`Favorite Music Genre`2  `Favorite Music Genre`3  `Favorite Music Genre`4  \n",
       "                 3.3751                   0.3513                  -0.6612  \n",
       "`Favorite Music Genre`5  `Favorite Music Genre`6  `Favorite Music Genre`7  \n",
       "                -1.5647                   1.4768                   2.0645  \n",
       "   `Favorite Beverage`2     `Favorite Beverage`3     `Favorite Beverage`4  \n",
       "                -2.9435                  -0.6542                  -0.9403  \n",
       "   `Favorite Beverage`5     `Favorite Beverage`6   `Favorite Soft Drink`2  \n",
       "                -1.2528                  -1.5082                  -0.7960  \n",
       " `Favorite Soft Drink`3   `Favorite Soft Drink`4  \n",
       "                 0.1549                   2.4456  \n",
       "\n",
       "Degrees of Freedom: 45 Total (i.e. Null);  29 Residual\n",
       "Null Deviance:\t    63.77 \n",
       "Residual Deviance: 42.34 \tAIC: 76.34"
      ]
     },
     "metadata": {},
     "output_type": "display_data"
    }
   ],
   "source": [
    "mdl_RL"
   ]
  },
  {
   "cell_type": "markdown",
   "metadata": {
    "papermill": {
     "duration": 0.033667,
     "end_time": "2021-01-13T11:37:29.804030",
     "exception": false,
     "start_time": "2021-01-13T11:37:29.770363",
     "status": "completed"
    },
    "tags": []
   },
   "source": [
    "### Previsao com Regressão Logística."
   ]
  },
  {
   "cell_type": "code",
   "execution_count": 21,
   "metadata": {
    "execution": {
     "iopub.execute_input": "2021-01-13T11:37:29.875989Z",
     "iopub.status.busy": "2021-01-13T11:37:29.875189Z",
     "iopub.status.idle": "2021-01-13T11:37:29.897207Z",
     "shell.execute_reply": "2021-01-13T11:37:29.895816Z"
    },
    "papermill": {
     "duration": 0.060227,
     "end_time": "2021-01-13T11:37:29.897351",
     "exception": false,
     "start_time": "2021-01-13T11:37:29.837124",
     "status": "completed"
    },
    "tags": []
   },
   "outputs": [
    {
     "data": {
      "text/html": [
       "<style>\n",
       ".dl-inline {width: auto; margin:0; padding: 0}\n",
       ".dl-inline>dt, .dl-inline>dd {float: none; width: auto; display: inline-block}\n",
       ".dl-inline>dt::after {content: \":\\0020\"; padding-right: .5ex}\n",
       ".dl-inline>dt:not(:first-of-type) {padding-left: .5ex}\n",
       "</style><dl class=dl-inline><dt>1</dt><dd>0.770756208600318</dd><dt>2</dt><dd>0.463158163149154</dd><dt>3</dt><dd>0.0666904399737184</dd><dt>4</dt><dd>0.11196591454567</dd><dt>5</dt><dd>0.0972265112826634</dd><dt>6</dt><dd>0.549856996570752</dd><dt>7</dt><dd>0.410513913584584</dd><dt>8</dt><dd>0.878127635158209</dd><dt>9</dt><dd>0.515572109308786</dd><dt>10</dt><dd>0.0538166565301462</dd><dt>11</dt><dd>0.949171504737371</dd><dt>12</dt><dd>0.630215826837829</dd><dt>13</dt><dd>0.167341865077919</dd><dt>14</dt><dd>0.0770022105637871</dd><dt>15</dt><dd>0.163858331241537</dd><dt>16</dt><dd>0.0752077830460768</dd><dt>17</dt><dd>0.936241840749432</dd><dt>18</dt><dd>0.213803932619735</dd><dt>19</dt><dd>0.035388037784114</dd><dt>20</dt><dd>0.465597790989661</dd></dl>\n"
      ],
      "text/latex": [
       "\\begin{description*}\n",
       "\\item[1] 0.770756208600318\n",
       "\\item[2] 0.463158163149154\n",
       "\\item[3] 0.0666904399737184\n",
       "\\item[4] 0.11196591454567\n",
       "\\item[5] 0.0972265112826634\n",
       "\\item[6] 0.549856996570752\n",
       "\\item[7] 0.410513913584584\n",
       "\\item[8] 0.878127635158209\n",
       "\\item[9] 0.515572109308786\n",
       "\\item[10] 0.0538166565301462\n",
       "\\item[11] 0.949171504737371\n",
       "\\item[12] 0.630215826837829\n",
       "\\item[13] 0.167341865077919\n",
       "\\item[14] 0.0770022105637871\n",
       "\\item[15] 0.163858331241537\n",
       "\\item[16] 0.0752077830460768\n",
       "\\item[17] 0.936241840749432\n",
       "\\item[18] 0.213803932619735\n",
       "\\item[19] 0.035388037784114\n",
       "\\item[20] 0.465597790989661\n",
       "\\end{description*}\n"
      ],
      "text/markdown": [
       "1\n",
       ":   0.7707562086003182\n",
       ":   0.4631581631491543\n",
       ":   0.06669043997371844\n",
       ":   0.111965914545675\n",
       ":   0.09722651128266346\n",
       ":   0.5498569965707527\n",
       ":   0.4105139135845848\n",
       ":   0.8781276351582099\n",
       ":   0.51557210930878610\n",
       ":   0.053816656530146211\n",
       ":   0.94917150473737112\n",
       ":   0.63021582683782913\n",
       ":   0.16734186507791914\n",
       ":   0.077002210563787115\n",
       ":   0.16385833124153716\n",
       ":   0.075207783046076817\n",
       ":   0.93624184074943218\n",
       ":   0.21380393261973519\n",
       ":   0.03538803778411420\n",
       ":   0.465597790989661\n",
       "\n"
      ],
      "text/plain": [
       "         1          2          3          4          5          6          7 \n",
       "0.77075621 0.46315816 0.06669044 0.11196591 0.09722651 0.54985700 0.41051391 \n",
       "         8          9         10         11         12         13         14 \n",
       "0.87812764 0.51557211 0.05381666 0.94917150 0.63021583 0.16734187 0.07700221 \n",
       "        15         16         17         18         19         20 \n",
       "0.16385833 0.07520778 0.93624184 0.21380393 0.03538804 0.46559779 "
      ]
     },
     "metadata": {},
     "output_type": "display_data"
    }
   ],
   "source": [
    "previsao_RL<-predict(mdl_RL,newdata = base_teste[,-5],type=\"response\")\n",
    "previsao_RL"
   ]
  },
  {
   "cell_type": "markdown",
   "metadata": {
    "papermill": {
     "duration": 0.033864,
     "end_time": "2021-01-13T11:37:29.965502",
     "exception": false,
     "start_time": "2021-01-13T11:37:29.931638",
     "status": "completed"
    },
    "tags": []
   },
   "source": [
    "## Ajustando valores da previsão"
   ]
  },
  {
   "cell_type": "code",
   "execution_count": 22,
   "metadata": {
    "execution": {
     "iopub.execute_input": "2021-01-13T11:37:30.037668Z",
     "iopub.status.busy": "2021-01-13T11:37:30.036167Z",
     "iopub.status.idle": "2021-01-13T11:37:30.055586Z",
     "shell.execute_reply": "2021-01-13T11:37:30.054165Z"
    },
    "papermill": {
     "duration": 0.056852,
     "end_time": "2021-01-13T11:37:30.055730",
     "exception": false,
     "start_time": "2021-01-13T11:37:29.998878",
     "status": "completed"
    },
    "tags": []
   },
   "outputs": [
    {
     "data": {
      "text/html": [
       "<style>\n",
       ".dl-inline {width: auto; margin:0; padding: 0}\n",
       ".dl-inline>dt, .dl-inline>dd {float: none; width: auto; display: inline-block}\n",
       ".dl-inline>dt::after {content: \":\\0020\"; padding-right: .5ex}\n",
       ".dl-inline>dt:not(:first-of-type) {padding-left: .5ex}\n",
       "</style><dl class=dl-inline><dt>1</dt><dd>1</dd><dt>2</dt><dd>0</dd><dt>3</dt><dd>0</dd><dt>4</dt><dd>0</dd><dt>5</dt><dd>0</dd><dt>6</dt><dd>1</dd><dt>7</dt><dd>0</dd><dt>8</dt><dd>1</dd><dt>9</dt><dd>1</dd><dt>10</dt><dd>0</dd><dt>11</dt><dd>1</dd><dt>12</dt><dd>1</dd><dt>13</dt><dd>0</dd><dt>14</dt><dd>0</dd><dt>15</dt><dd>0</dd><dt>16</dt><dd>0</dd><dt>17</dt><dd>1</dd><dt>18</dt><dd>0</dd><dt>19</dt><dd>0</dd><dt>20</dt><dd>0</dd></dl>\n"
      ],
      "text/latex": [
       "\\begin{description*}\n",
       "\\item[1] 1\n",
       "\\item[2] 0\n",
       "\\item[3] 0\n",
       "\\item[4] 0\n",
       "\\item[5] 0\n",
       "\\item[6] 1\n",
       "\\item[7] 0\n",
       "\\item[8] 1\n",
       "\\item[9] 1\n",
       "\\item[10] 0\n",
       "\\item[11] 1\n",
       "\\item[12] 1\n",
       "\\item[13] 0\n",
       "\\item[14] 0\n",
       "\\item[15] 0\n",
       "\\item[16] 0\n",
       "\\item[17] 1\n",
       "\\item[18] 0\n",
       "\\item[19] 0\n",
       "\\item[20] 0\n",
       "\\end{description*}\n"
      ],
      "text/markdown": [
       "1\n",
       ":   12\n",
       ":   03\n",
       ":   04\n",
       ":   05\n",
       ":   06\n",
       ":   17\n",
       ":   08\n",
       ":   19\n",
       ":   110\n",
       ":   011\n",
       ":   112\n",
       ":   113\n",
       ":   014\n",
       ":   015\n",
       ":   016\n",
       ":   017\n",
       ":   118\n",
       ":   019\n",
       ":   020\n",
       ":   0\n",
       "\n"
      ],
      "text/plain": [
       " 1  2  3  4  5  6  7  8  9 10 11 12 13 14 15 16 17 18 19 20 \n",
       " 1  0  0  0  0  1  0  1  1  0  1  1  0  0  0  0  1  0  0  0 "
      ]
     },
     "metadata": {},
     "output_type": "display_data"
    }
   ],
   "source": [
    "previsao_RL<-ifelse(test = previsao_RL >= 0.5,yes = 1,no = 0)\n",
    "previsao_RL"
   ]
  },
  {
   "cell_type": "markdown",
   "metadata": {
    "papermill": {
     "duration": 0.033858,
     "end_time": "2021-01-13T11:37:30.123721",
     "exception": false,
     "start_time": "2021-01-13T11:37:30.089863",
     "status": "completed"
    },
    "tags": []
   },
   "source": [
    "### Verificar acuracidade do modelo da Regressão Logistica."
   ]
  },
  {
   "cell_type": "code",
   "execution_count": 23,
   "metadata": {
    "execution": {
     "iopub.execute_input": "2021-01-13T11:37:30.197616Z",
     "iopub.status.busy": "2021-01-13T11:37:30.195926Z",
     "iopub.status.idle": "2021-01-13T11:37:30.218756Z",
     "shell.execute_reply": "2021-01-13T11:37:30.217141Z"
    },
    "papermill": {
     "duration": 0.061369,
     "end_time": "2021-01-13T11:37:30.218904",
     "exception": false,
     "start_time": "2021-01-13T11:37:30.157535",
     "status": "completed"
    },
    "tags": []
   },
   "outputs": [
    {
     "data": {
      "text/plain": [
       "Confusion Matrix and Statistics\n",
       "\n",
       "           \n",
       "previsao_RL 0 1\n",
       "          0 6 7\n",
       "          1 4 3\n",
       "                                          \n",
       "               Accuracy : 0.45            \n",
       "                 95% CI : (0.2306, 0.6847)\n",
       "    No Information Rate : 0.5             \n",
       "    P-Value [Acc > NIR] : 0.7483          \n",
       "                                          \n",
       "                  Kappa : -0.1            \n",
       "                                          \n",
       " Mcnemar's Test P-Value : 0.5465          \n",
       "                                          \n",
       "            Sensitivity : 0.6000          \n",
       "            Specificity : 0.3000          \n",
       "         Pos Pred Value : 0.4615          \n",
       "         Neg Pred Value : 0.4286          \n",
       "             Prevalence : 0.5000          \n",
       "         Detection Rate : 0.3000          \n",
       "   Detection Prevalence : 0.6500          \n",
       "      Balanced Accuracy : 0.4500          \n",
       "                                          \n",
       "       'Positive' Class : 0               \n",
       "                                          "
      ]
     },
     "metadata": {},
     "output_type": "display_data"
    }
   ],
   "source": [
    "library(caret)\n",
    "matriz_confusao_RL<-table(previsao_RL,base_teste$Gender)\n",
    "confusionMatrix(matriz_confusao_RL)"
   ]
  },
  {
   "cell_type": "markdown",
   "metadata": {
    "papermill": {
     "duration": 0.034496,
     "end_time": "2021-01-13T11:37:30.287799",
     "exception": false,
     "start_time": "2021-01-13T11:37:30.253303",
     "status": "completed"
    },
    "tags": []
   },
   "source": [
    "### O modelo com maior acuracidade foi o SVM. 60%"
   ]
  }
 ],
 "metadata": {
  "kernelspec": {
   "display_name": "R",
   "language": "R",
   "name": "ir"
  },
  "language_info": {
   "codemirror_mode": "r",
   "file_extension": ".r",
   "mimetype": "text/x-r-source",
   "name": "R",
   "pygments_lexer": "r",
   "version": "3.6.3"
  },
  "papermill": {
   "default_parameters": {},
   "duration": 11.656195,
   "end_time": "2021-01-13T11:37:30.433028",
   "environment_variables": {},
   "exception": null,
   "input_path": "__notebook__.ipynb",
   "output_path": "__notebook__.ipynb",
   "parameters": {},
   "start_time": "2021-01-13T11:37:18.776833",
   "version": "2.2.2"
  }
 },
 "nbformat": 4,
 "nbformat_minor": 4
}
